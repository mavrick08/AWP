{
 "cells": [
  {
   "cell_type": "code",
   "execution_count": 1,
   "id": "db156660",
   "metadata": {},
   "outputs": [
    {
     "data": {
      "text/plain": [
       "10"
      ]
     },
     "execution_count": 1,
     "metadata": {},
     "output_type": "execute_result"
    }
   ],
   "source": [
    "abs(-10)"
   ]
  },
  {
   "cell_type": "code",
   "execution_count": 2,
   "id": "5e50cd34",
   "metadata": {},
   "outputs": [],
   "source": [
    "import numpy as np"
   ]
  },
  {
   "cell_type": "code",
   "execution_count": 3,
   "id": "2f062ae0",
   "metadata": {},
   "outputs": [],
   "source": [
    "price = [5000,7000,9000,12000,15000]\n",
    "area = [100,150,200,250,300]"
   ]
  },
  {
   "cell_type": "code",
   "execution_count": 4,
   "id": "8dc29c6c",
   "metadata": {},
   "outputs": [],
   "source": [
    "price_mean = np.mean(price)\n",
    "area_mean = np.mean(area)"
   ]
  },
  {
   "cell_type": "code",
   "execution_count": 5,
   "id": "51b2cf05",
   "metadata": {},
   "outputs": [
    {
     "data": {
      "text/plain": [
       "9600.0"
      ]
     },
     "execution_count": 5,
     "metadata": {},
     "output_type": "execute_result"
    }
   ],
   "source": [
    "price_mean"
   ]
  },
  {
   "cell_type": "code",
   "execution_count": 6,
   "id": "aefc969e",
   "metadata": {},
   "outputs": [
    {
     "data": {
      "text/plain": [
       "200.0"
      ]
     },
     "execution_count": 6,
     "metadata": {},
     "output_type": "execute_result"
    }
   ],
   "source": [
    "area_mean"
   ]
  },
  {
   "cell_type": "code",
   "execution_count": 7,
   "id": "827e40fd",
   "metadata": {},
   "outputs": [],
   "source": [
    "numerator = np.sum((area-area_mean)*(price - price_mean))"
   ]
  },
  {
   "cell_type": "code",
   "execution_count": 8,
   "id": "80927635",
   "metadata": {},
   "outputs": [],
   "source": [
    "denominator = np.sum(np.square(area-area_mean))"
   ]
  },
  {
   "cell_type": "code",
   "execution_count": 9,
   "id": "7ac18d3c",
   "metadata": {},
   "outputs": [
    {
     "data": {
      "text/plain": [
       "25000.0"
      ]
     },
     "execution_count": 9,
     "metadata": {},
     "output_type": "execute_result"
    }
   ],
   "source": [
    "denominator"
   ]
  },
  {
   "cell_type": "code",
   "execution_count": 10,
   "id": "d1013aa0",
   "metadata": {},
   "outputs": [
    {
     "data": {
      "text/plain": [
       "50.0"
      ]
     },
     "execution_count": 10,
     "metadata": {},
     "output_type": "execute_result"
    }
   ],
   "source": [
    "numerator/denominator"
   ]
  },
  {
   "cell_type": "code",
   "execution_count": 11,
   "id": "cb2b6a12",
   "metadata": {},
   "outputs": [],
   "source": [
    "import matplotlib.pyplot as plt"
   ]
  },
  {
   "cell_type": "code",
   "execution_count": 12,
   "id": "ce7b6548",
   "metadata": {},
   "outputs": [
    {
     "data": {
      "image/png": "[encoded data removed]",
      "text/plain": [
       "<Figure size 432x288 with 1 Axes>"
      ]
     },
     "metadata": {
      "needs_background": "light"
     },
     "output_type": "display_data"
    }
   ],
   "source": [
    "plt.scatter(area,price)\n",
    "plt.show()"
   ]
  },
  {
   "cell_type": "code",
   "execution_count": null,
   "id": "cfe127e2",
   "metadata": {},
   "outputs": [],
   "source": []
  },
  {
   "cell_type": "markdown",
   "id": "b4ce8dd8",
   "metadata": {},
   "source": [
    "## linea regression example"
   ]
  },
  {
   "cell_type": "markdown",
   "id": "52748b73",
   "metadata": {},
   "source": [
    "1) Collect the dependent & independent variables \n",
    "\n",
    "2) Calculate the mean of each variables\n",
    "\n",
    "3) Calculate the variance between the two variables\n",
    "\n",
    "4) Calculate the covariance between 2 variables\n",
    "\n",
    "5) Calculate the coefficient of linear regression equation:\n",
    "\n",
    "    b1 = covariance(x,y) / variance(x)\n",
    "    b0 = mean(y) - b1 * mean(x)\n",
    "    \n",
    "    \n",
    "6) Use the coefficients to predict the value on the dependent variable\n",
    "\n",
    "     y_predict = b0 + b1 * x"
   ]
  },
  {
   "cell_type": "code",
   "execution_count": 13,
   "id": "ed2b9d7c",
   "metadata": {},
   "outputs": [],
   "source": [
    "import numpy as np\n",
    "\n",
    "x = np.array([1,2,3,4,5])\n",
    "\n",
    "y = np.array([2,3,4,5,6])"
   ]
  },
  {
   "cell_type": "code",
   "execution_count": 14,
   "id": "419ceca0",
   "metadata": {},
   "outputs": [
    {
     "data": {
      "text/plain": [
       "array([1, 2, 3, 4, 5])"
      ]
     },
     "execution_count": 14,
     "metadata": {},
     "output_type": "execute_result"
    }
   ],
   "source": [
    "x"
   ]
  },
  {
   "cell_type": "code",
   "execution_count": 15,
   "id": "d5060a1b",
   "metadata": {},
   "outputs": [
    {
     "data": {
      "text/plain": [
       "array([2, 3, 4, 5, 6])"
      ]
     },
     "execution_count": 15,
     "metadata": {},
     "output_type": "execute_result"
    }
   ],
   "source": [
    "y"
   ]
  },
  {
   "cell_type": "code",
   "execution_count": 17,
   "id": "f9294d37",
   "metadata": {},
   "outputs": [],
   "source": [
    "avg_x = np.mean(x)"
   ]
  },
  {
   "cell_type": "code",
   "execution_count": 18,
   "id": "fc5764c6",
   "metadata": {},
   "outputs": [],
   "source": [
    "avg_y = np.mean(y)"
   ]
  },
  {
   "cell_type": "code",
   "execution_count": 19,
   "id": "6ab185ce",
   "metadata": {},
   "outputs": [
    {
     "data": {
      "text/plain": [
       "3.0"
      ]
     },
     "execution_count": 19,
     "metadata": {},
     "output_type": "execute_result"
    }
   ],
   "source": [
    "avg_x"
   ]
  },
  {
   "cell_type": "code",
   "execution_count": 20,
   "id": "d12ea5bc",
   "metadata": {},
   "outputs": [
    {
     "data": {
      "text/plain": [
       "4.0"
      ]
     },
     "execution_count": 20,
     "metadata": {},
     "output_type": "execute_result"
    }
   ],
   "source": [
    "avg_y"
   ]
  },
  {
   "cell_type": "code",
   "execution_count": 21,
   "id": "60fb2620",
   "metadata": {},
   "outputs": [],
   "source": [
    "# calculating the variance\n",
    "\n",
    "x_var = np.var(x)\n",
    "y_var = np.var(y)"
   ]
  },
  {
   "cell_type": "code",
   "execution_count": 22,
   "id": "5ff4ea0a",
   "metadata": {},
   "outputs": [
    {
     "data": {
      "text/plain": [
       "2.0"
      ]
     },
     "execution_count": 22,
     "metadata": {},
     "output_type": "execute_result"
    }
   ],
   "source": [
    "x_var"
   ]
  },
  {
   "cell_type": "code",
   "execution_count": 24,
   "id": "5ecc789c",
   "metadata": {},
   "outputs": [
    {
     "data": {
      "text/plain": [
       "2.0"
      ]
     },
     "execution_count": 24,
     "metadata": {},
     "output_type": "execute_result"
    }
   ],
   "source": [
    "y_var"
   ]
  },
  {
   "cell_type": "code",
   "execution_count": 28,
   "id": "077778e6",
   "metadata": {},
   "outputs": [
    {
     "data": {
      "text/plain": [
       "1"
      ]
     },
     "execution_count": 28,
     "metadata": {},
     "output_type": "execute_result"
    }
   ],
   "source": []
  },
  {
   "cell_type": "code",
   "execution_count": 29,
   "id": "d909796b",
   "metadata": {},
   "outputs": [],
   "source": [
    "cov = np.cov(x,y)[0][1]"
   ]
  },
  {
   "cell_type": "code",
   "execution_count": 30,
   "id": "dad50150",
   "metadata": {},
   "outputs": [
    {
     "data": {
      "text/plain": [
       "2.5"
      ]
     },
     "execution_count": 30,
     "metadata": {},
     "output_type": "execute_result"
    }
   ],
   "source": [
    "cov"
   ]
  },
  {
   "cell_type": "code",
   "execution_count": 31,
   "id": "72ed9557",
   "metadata": {},
   "outputs": [],
   "source": [
    "b1 = cov/ x_var"
   ]
  },
  {
   "cell_type": "code",
   "execution_count": 32,
   "id": "be088967",
   "metadata": {},
   "outputs": [
    {
     "data": {
      "text/plain": [
       "1.25"
      ]
     },
     "execution_count": 32,
     "metadata": {},
     "output_type": "execute_result"
    }
   ],
   "source": [
    "b1"
   ]
  },
  {
   "cell_type": "code",
   "execution_count": 33,
   "id": "2f079f73",
   "metadata": {},
   "outputs": [],
   "source": [
    "b0 = avg_y - b1 * avg_x"
   ]
  },
  {
   "cell_type": "code",
   "execution_count": 34,
   "id": "1813f5f0",
   "metadata": {},
   "outputs": [
    {
     "data": {
      "text/plain": [
       "0.25"
      ]
     },
     "execution_count": 34,
     "metadata": {},
     "output_type": "execute_result"
    }
   ],
   "source": [
    "b0"
   ]
  },
  {
   "cell_type": "code",
   "execution_count": 43,
   "id": "e6ae9e40",
   "metadata": {},
   "outputs": [],
   "source": [
    "x_pred = 5\n",
    "\n",
    "y_pred = b0+b1*x_pred"
   ]
  },
  {
   "cell_type": "code",
   "execution_count": 44,
   "id": "902e6fa2",
   "metadata": {},
   "outputs": [
    {
     "data": {
      "text/plain": [
       "6.5"
      ]
     },
     "execution_count": 44,
     "metadata": {},
     "output_type": "execute_result"
    }
   ],
   "source": [
    "y_pred"
   ]
  },
  {
   "cell_type": "code",
   "execution_count": 45,
   "id": "7d1d26a9",
   "metadata": {},
   "outputs": [],
   "source": [
    "import pandas as pd"
   ]
  },
  {
   "cell_type": "code",
   "execution_count": 46,
   "id": "fab23c29",
   "metadata": {},
   "outputs": [],
   "source": [
    "data = pd.read_csv('linear_reg_sample.csv')"
   ]
  },
  {
   "cell_type": "code",
   "execution_count": 47,
   "id": "65ef8d64",
   "metadata": {},
   "outputs": [
    {
     "data": {
      "text/html": [
       "<div>\n",
       "<style scoped>\n",
       "    .dataframe tbody tr th:only-of-type {\n",
       "        vertical-align: middle;\n",
       "    }\n",
       "\n",
       "    .dataframe tbody tr th {\n",
       "        vertical-align: top;\n",
       "    }\n",
       "\n",
       "    .dataframe thead th {\n",
       "        text-align: right;\n",
       "    }\n",
       "</style>\n",
       "<table border=\"1\" class=\"dataframe\">\n",
       "  <thead>\n",
       "    <tr style=\"text-align: right;\">\n",
       "      <th></th>\n",
       "      <th>SAT</th>\n",
       "      <th>GPA</th>\n",
       "    </tr>\n",
       "  </thead>\n",
       "  <tbody>\n",
       "    <tr>\n",
       "      <th>0</th>\n",
       "      <td>1714</td>\n",
       "      <td>2.40</td>\n",
       "    </tr>\n",
       "    <tr>\n",
       "      <th>1</th>\n",
       "      <td>1664</td>\n",
       "      <td>2.52</td>\n",
       "    </tr>\n",
       "    <tr>\n",
       "      <th>2</th>\n",
       "      <td>1760</td>\n",
       "      <td>2.54</td>\n",
       "    </tr>\n",
       "    <tr>\n",
       "      <th>3</th>\n",
       "      <td>1685</td>\n",
       "      <td>2.74</td>\n",
       "    </tr>\n",
       "    <tr>\n",
       "      <th>4</th>\n",
       "      <td>1693</td>\n",
       "      <td>2.83</td>\n",
       "    </tr>\n",
       "    <tr>\n",
       "      <th>...</th>\n",
       "      <td>...</td>\n",
       "      <td>...</td>\n",
       "    </tr>\n",
       "    <tr>\n",
       "      <th>79</th>\n",
       "      <td>1936</td>\n",
       "      <td>3.71</td>\n",
       "    </tr>\n",
       "    <tr>\n",
       "      <th>80</th>\n",
       "      <td>1810</td>\n",
       "      <td>3.71</td>\n",
       "    </tr>\n",
       "    <tr>\n",
       "      <th>81</th>\n",
       "      <td>1987</td>\n",
       "      <td>3.73</td>\n",
       "    </tr>\n",
       "    <tr>\n",
       "      <th>82</th>\n",
       "      <td>1962</td>\n",
       "      <td>3.76</td>\n",
       "    </tr>\n",
       "    <tr>\n",
       "      <th>83</th>\n",
       "      <td>2050</td>\n",
       "      <td>3.81</td>\n",
       "    </tr>\n",
       "  </tbody>\n",
       "</table>\n",
       "<p>84 rows × 2 columns</p>\n",
       "</div>"
      ],
      "text/plain": [
       "     SAT   GPA\n",
       "0   1714  2.40\n",
       "1   1664  2.52\n",
       "2   1760  2.54\n",
       "3   1685  2.74\n",
       "4   1693  2.83\n",
       "..   ...   ...\n",
       "79  1936  3.71\n",
       "80  1810  3.71\n",
       "81  1987  3.73\n",
       "82  1962  3.76\n",
       "83  2050  3.81\n",
       "\n",
       "[84 rows x 2 columns]"
      ]
     },
     "execution_count": 47,
     "metadata": {},
     "output_type": "execute_result"
    }
   ],
   "source": [
    "data"
   ]
  },
  {
   "cell_type": "code",
   "execution_count": 49,
   "id": "ceee40e4",
   "metadata": {},
   "outputs": [],
   "source": [
    "x = data['SAT']\n",
    "y = data['GPA']"
   ]
  },
  {
   "cell_type": "code",
   "execution_count": 51,
   "id": "38104abc",
   "metadata": {},
   "outputs": [
    {
     "data": {
      "text/plain": [
       "Text(0, 0.5, 'GPA')"
      ]
     },
     "execution_count": 51,
     "metadata": {},
     "output_type": "execute_result"
    },
    {
     "data": {
      "image/png": "[encoded data removed]",
      "text/plain": [
       "<Figure size 432x288 with 1 Axes>"
      ]
     },
     "metadata": {
      "needs_background": "light"
     },
     "output_type": "display_data"
    }
   ],
   "source": [
    "plt.scatter(x,y)\n",
    "plt.xlabel('SAT')\n",
    "plt.ylabel('GPA')"
   ]
  },
  {
   "cell_type": "code",
   "execution_count": 52,
   "id": "fd236cda",
   "metadata": {},
   "outputs": [],
   "source": [
    "sat_mean = np.mean(data['SAT'])"
   ]
  },
  {
   "cell_type": "code",
   "execution_count": 53,
   "id": "8e41917f",
   "metadata": {},
   "outputs": [
    {
     "data": {
      "text/plain": [
       "1845.2738095238096"
      ]
     },
     "execution_count": 53,
     "metadata": {},
     "output_type": "execute_result"
    }
   ],
   "source": [
    "sat_mean"
   ]
  },
  {
   "cell_type": "code",
   "execution_count": 54,
   "id": "13c72e73",
   "metadata": {},
   "outputs": [],
   "source": [
    "gpa_mean = np.mean(data['GPA'])"
   ]
  },
  {
   "cell_type": "code",
   "execution_count": 55,
   "id": "a8a32918",
   "metadata": {},
   "outputs": [
    {
     "data": {
      "text/plain": [
       "3.330238095238094"
      ]
     },
     "execution_count": 55,
     "metadata": {},
     "output_type": "execute_result"
    }
   ],
   "source": [
    "gpa_mean"
   ]
  },
  {
   "cell_type": "code",
   "execution_count": 56,
   "id": "12ca6521",
   "metadata": {},
   "outputs": [],
   "source": [
    "sat_var = np.var(data['SAT'])\n",
    "gpa_var = np.var(data['GPA'])"
   ]
  },
  {
   "cell_type": "code",
   "execution_count": 57,
   "id": "3f8b97e1",
   "metadata": {},
   "outputs": [
    {
     "data": {
      "text/plain": [
       "10796.57979024943"
      ]
     },
     "execution_count": 57,
     "metadata": {},
     "output_type": "execute_result"
    }
   ],
   "source": [
    "sat_var"
   ]
  },
  {
   "cell_type": "code",
   "execution_count": 58,
   "id": "43dfd7c1",
   "metadata": {},
   "outputs": [
    {
     "data": {
      "text/plain": [
       "0.07289756235827666"
      ]
     },
     "execution_count": 58,
     "metadata": {},
     "output_type": "execute_result"
    }
   ],
   "source": [
    "gpa_var"
   ]
  },
  {
   "cell_type": "code",
   "execution_count": 59,
   "id": "b12d1318",
   "metadata": {},
   "outputs": [],
   "source": [
    "cov = np.cov(data['SAT'],data['GPA'])[0][1]"
   ]
  },
  {
   "cell_type": "code",
   "execution_count": 60,
   "id": "8e33de2b",
   "metadata": {},
   "outputs": [
    {
     "data": {
      "text/plain": [
       "18.091138841078607"
      ]
     },
     "execution_count": 60,
     "metadata": {},
     "output_type": "execute_result"
    }
   ],
   "source": [
    "cov"
   ]
  },
  {
   "cell_type": "code",
   "execution_count": 61,
   "id": "4149cbff",
   "metadata": {},
   "outputs": [],
   "source": [
    "b1 = cov /sat_var\n",
    "b0 = gpa_mean - b1 * sat_mean"
   ]
  },
  {
   "cell_type": "code",
   "execution_count": 62,
   "id": "602b96cf",
   "metadata": {},
   "outputs": [
    {
     "data": {
      "text/plain": [
       "0.0016756360988891142"
      ]
     },
     "execution_count": 62,
     "metadata": {},
     "output_type": "execute_result"
    }
   ],
   "source": [
    "b1"
   ]
  },
  {
   "cell_type": "code",
   "execution_count": 63,
   "id": "99ece87a",
   "metadata": {},
   "outputs": [
    {
     "data": {
      "text/plain": [
       "0.23823068766536304"
      ]
     },
     "execution_count": 63,
     "metadata": {},
     "output_type": "execute_result"
    }
   ],
   "source": [
    "b0"
   ]
  },
  {
   "cell_type": "code",
   "execution_count": 64,
   "id": "3f782015",
   "metadata": {},
   "outputs": [
    {
     "data": {
      "text/plain": [
       "Text(0, 0.5, 'GPA')"
      ]
     },
     "execution_count": 64,
     "metadata": {},
     "output_type": "execute_result"
    },
    {
     "data": {
      "image/png": "[encoded data removed]",
      "text/plain": [
       "<Figure size 432x288 with 1 Axes>"
      ]
     },
     "metadata": {
      "needs_background": "light"
     },
     "output_type": "display_data"
    }
   ],
   "source": [
    "plt.scatter(x,y)\n",
    "plt.xlabel('SAT')\n",
    "plt.ylabel('GPA')"
   ]
  },
  {
   "cell_type": "code",
   "execution_count": 67,
   "id": "78f12543",
   "metadata": {},
   "outputs": [],
   "source": [
    "gpa_predict = b0+b1*1500"
   ]
  },
  {
   "cell_type": "code",
   "execution_count": 68,
   "id": "23fc3753",
   "metadata": {},
   "outputs": [
    {
     "data": {
      "text/plain": [
       "2.7516848359990345"
      ]
     },
     "execution_count": 68,
     "metadata": {},
     "output_type": "execute_result"
    }
   ],
   "source": [
    "gpa_predict"
   ]
  },
  {
   "cell_type": "code",
   "execution_count": 74,
   "id": "f86b409c",
   "metadata": {},
   "outputs": [],
   "source": [
    "gpa_predict = b0+b1*1750"
   ]
  },
  {
   "cell_type": "code",
   "execution_count": 75,
   "id": "e1a5a11a",
   "metadata": {},
   "outputs": [
    {
     "data": {
      "text/plain": [
       "3.170593860721313"
      ]
     },
     "execution_count": 75,
     "metadata": {},
     "output_type": "execute_result"
    }
   ],
   "source": [
    "gpa_predict"
   ]
  },
  {
   "cell_type": "code",
   "execution_count": 76,
   "id": "ee9131ef",
   "metadata": {},
   "outputs": [],
   "source": [
    "gpa_predict = b0+b1*1400"
   ]
  },
  {
   "cell_type": "code",
   "execution_count": 77,
   "id": "b7fe7baf",
   "metadata": {},
   "outputs": [
    {
     "data": {
      "text/plain": [
       "2.5841212261101227"
      ]
     },
     "execution_count": 77,
     "metadata": {},
     "output_type": "execute_result"
    }
   ],
   "source": [
    "gpa_predict"
   ]
  },
  {
   "cell_type": "code",
   "execution_count": null,
   "id": "9f34281c",
   "metadata": {},
   "outputs": [],
   "source": []
  },
  {
   "cell_type": "code",
   "execution_count": null,
   "id": "2bee1c87",
   "metadata": {},
   "outputs": [],
   "source": []
  },
  {
   "cell_type": "code",
   "execution_count": null,
   "id": "5904b3ae",
   "metadata": {},
   "outputs": [],
   "source": []
  }
 ],
 "metadata": {
  "kernelspec": {
   "display_name": "Python 3 (ipykernel)",
   "language": "python",
   "name": "python3"
  },
  "language_info": {
   "codemirror_mode": {
    "name": "ipython",
    "version": 3
   },
   "file_extension": ".py",
   "mimetype": "text/x-python",
   "name": "python",
   "nbconvert_exporter": "python",
   "pygments_lexer": "ipython3",
   "version": "3.8.8"
  }
 },
 "nbformat": 4,
 "nbformat_minor": 5
}
