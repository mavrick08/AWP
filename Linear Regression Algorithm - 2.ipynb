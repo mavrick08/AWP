{
 "cells": [
  {
   "cell_type": "code",
   "execution_count": 1,
   "id": "db156660",
   "metadata": {},
   "outputs": [
    {
     "data": {
      "text/plain": [
       "10"
      ]
     },
     "execution_count": 1,
     "metadata": {},
     "output_type": "execute_result"
    }
   ],
   "source": [
    "abs(-10)"
   ]
  },
  {
   "cell_type": "code",
   "execution_count": 2,
   "id": "5e50cd34",
   "metadata": {},
   "outputs": [],
   "source": [
    "import numpy as np"
   ]
  },
  {
   "cell_type": "code",
   "execution_count": 3,
   "id": "2f062ae0",
   "metadata": {},
   "outputs": [],
   "source": [
    "price = [5000,7000,9000,12000,15000]\n",
    "area = [100,150,200,250,300]"
   ]
  },
  {
   "cell_type": "code",
   "execution_count": 4,
   "id": "8dc29c6c",
   "metadata": {},
   "outputs": [],
   "source": [
    "price_mean = np.mean(price)\n",
    "area_mean = np.mean(area)"
   ]
  },
  {
   "cell_type": "code",
   "execution_count": 5,
   "id": "51b2cf05",
   "metadata": {},
   "outputs": [
    {
     "data": {
      "text/plain": [
       "9600.0"
      ]
     },
     "execution_count": 5,
     "metadata": {},
     "output_type": "execute_result"
    }
   ],
   "source": [
    "price_mean"
   ]
  },
  {
   "cell_type": "code",
   "execution_count": 6,
   "id": "aefc969e",
   "metadata": {},
   "outputs": [
    {
     "data": {
      "text/plain": [
       "200.0"
      ]
     },
     "execution_count": 6,
     "metadata": {},
     "output_type": "execute_result"
    }
   ],
   "source": [
    "area_mean"
   ]
  },
  {
   "cell_type": "code",
   "execution_count": 7,
   "id": "827e40fd",
   "metadata": {},
   "outputs": [],
   "source": [
    "numerator = np.sum((area-area_mean)*(price - price_mean))"
   ]
  },
  {
   "cell_type": "code",
   "execution_count": 8,
   "id": "80927635",
   "metadata": {},
   "outputs": [],
   "source": [
    "denominator = np.sum(np.square(area-area_mean))"
   ]
  },
  {
   "cell_type": "code",
   "execution_count": 9,
   "id": "7ac18d3c",
   "metadata": {},
   "outputs": [
    {
     "data": {
      "text/plain": [
       "25000.0"
      ]
     },
     "execution_count": 9,
     "metadata": {},
     "output_type": "execute_result"
    }
   ],
   "source": [
    "denominator"
   ]
  },
  {
   "cell_type": "code",
   "execution_count": 10,
   "id": "d1013aa0",
   "metadata": {},
   "outputs": [
    {
     "data": {
      "text/plain": [
       "50.0"
      ]
     },
     "execution_count": 10,
     "metadata": {},
     "output_type": "execute_result"
    }
   ],
   "source": [
    "numerator/denominator"
   ]
  },
  {
   "cell_type": "code",
   "execution_count": 11,
   "id": "cb2b6a12",
   "metadata": {},
   "outputs": [],
   "source": [
    "import matplotlib.pyplot as plt"
   ]
  },
  {
   "cell_type": "code",
   "execution_count": 12,
   "id": "ce7b6548",
   "metadata": {},
   "outputs": [
    {
     "data": {
      "image/png": "[encoded data removed]",
      "text/plain": [
       "<Figure size 432x288 with 1 Axes>"
      ]
     },
     "metadata": {
      "needs_background": "light"
     },
     "output_type": "display_data"
    }
   ],
   "source": [
    "plt.scatter(area,price)\n",
    "plt.show()"
   ]
  },
  {
   "cell_type": "code",
   "execution_count": null,
   "id": "cfe127e2",
   "metadata": {},
   "outputs": [],
   "source": []
  },
  {
   "cell_type": "markdown",
   "id": "b4ce8dd8",
   "metadata": {},
   "source": [
    "## linea regression example"
   ]
  },
  {
   "cell_type": "markdown",
   "id": "52748b73",
   "metadata": {},
   "source": [
    "1) Collect the dependent & independent variables \n",
    "\n",
    "2) Calculate the mean of each variables\n",
    "\n",
    "3) Calculate the variance between the two variables\n",
    "\n",
    "4) Calculate the covariance between 2 variables\n",
    "\n",
    "5) Calculate the coefficient of linear regression equation:\n",
    "\n",
    "    b1 = covariance(x,y) / variance(x)\n",
    "    b0 = mean(y) - b1 * mean(x)\n",
    "    \n",
    "    \n",
    "6) Use the coefficients to predict the value on the dependent variable\n",
    "\n",
    "     y_predict = b0 + b1 * x"
   ]
  },
  {
   "cell_type": "code",
   "execution_count": 13,
   "id": "ed2b9d7c",
   "metadata": {},
   "outputs": [],
   "source": [
    "import numpy as np\n",
    "\n",
    "x = np.array([1,2,3,4,5])\n",
    "\n",
    "y = np.array([2,3,4,5,6])"
   ]
  },
  {
   "cell_type": "code",
   "execution_count": 14,
   "id": "419ceca0",
   "metadata": {},
   "outputs": [
    {
     "data": {
      "text/plain": [
       "array([1, 2, 3, 4, 5])"
      ]
     },
     "execution_count": 14,
     "metadata": {},
     "output_type": "execute_result"
    }
   ],
   "source": [
    "x"
   ]
  },
  {
   "cell_type": "code",
   "execution_count": 15,
   "id": "d5060a1b",
   "metadata": {},
   "outputs": [
    {
     "data": {
      "text/plain": [
       "array([2, 3, 4, 5, 6])"
      ]
     },
     "execution_count": 15,
     "metadata": {},
     "output_type": "execute_result"
    }
   ],
   "source": [
    "y"
   ]
  },
  {
   "cell_type": "code",
   "execution_count": 16,
   "id": "f9294d37",
   "metadata": {},
   "outputs": [],
   "source": [
    "avg_x = np.mean(x)"
   ]
  },
  {
   "cell_type": "code",
   "execution_count": 17,
   "id": "fc5764c6",
   "metadata": {},
   "outputs": [],
   "source": [
    "avg_y = np.mean(y)"
   ]
  },
  {
   "cell_type": "code",
   "execution_count": 18,
   "id": "6ab185ce",
   "metadata": {},
   "outputs": [
    {
     "data": {
      "text/plain": [
       "3.0"
      ]
     },
     "execution_count": 18,
     "metadata": {},
     "output_type": "execute_result"
    }
   ],
   "source": [
    "avg_x"
   ]
  },
  {
   "cell_type": "code",
   "execution_count": 19,
   "id": "d12ea5bc",
   "metadata": {},
   "outputs": [
    {
     "data": {
      "text/plain": [
       "4.0"
      ]
     },
     "execution_count": 19,
     "metadata": {},
     "output_type": "execute_result"
    }
   ],
   "source": [
    "avg_y"
   ]
  },
  {
   "cell_type": "code",
   "execution_count": 20,
   "id": "60fb2620",
   "metadata": {},
   "outputs": [],
   "source": [
    "# calculating the variance\n",
    "\n",
    "x_var = np.var(x)\n",
    "y_var = np.var(y)"
   ]
  },
  {
   "cell_type": "code",
   "execution_count": 21,
   "id": "5ff4ea0a",
   "metadata": {},
   "outputs": [
    {
     "data": {
      "text/plain": [
       "2.0"
      ]
     },
     "execution_count": 21,
     "metadata": {},
     "output_type": "execute_result"
    }
   ],
   "source": [
    "x_var"
   ]
  },
  {
   "cell_type": "code",
   "execution_count": 22,
   "id": "5ecc789c",
   "metadata": {},
   "outputs": [
    {
     "data": {
      "text/plain": [
       "2.0"
      ]
     },
     "execution_count": 22,
     "metadata": {},
     "output_type": "execute_result"
    }
   ],
   "source": [
    "y_var"
   ]
  },
  {
   "cell_type": "code",
   "execution_count": null,
   "id": "077778e6",
   "metadata": {},
   "outputs": [],
   "source": []
  },
  {
   "cell_type": "code",
   "execution_count": 23,
   "id": "d909796b",
   "metadata": {},
   "outputs": [],
   "source": [
    "cov = np.cov(x,y)[0][1]"
   ]
  },
  {
   "cell_type": "code",
   "execution_count": 24,
   "id": "dad50150",
   "metadata": {},
   "outputs": [
    {
     "data": {
      "text/plain": [
       "2.5"
      ]
     },
     "execution_count": 24,
     "metadata": {},
     "output_type": "execute_result"
    }
   ],
   "source": [
    "cov"
   ]
  },
  {
   "cell_type": "code",
   "execution_count": 25,
   "id": "72ed9557",
   "metadata": {},
   "outputs": [],
   "source": [
    "b1 = cov/ x_var"
   ]
  },
  {
   "cell_type": "code",
   "execution_count": 26,
   "id": "be088967",
   "metadata": {},
   "outputs": [
    {
     "data": {
      "text/plain": [
       "1.25"
      ]
     },
     "execution_count": 26,
     "metadata": {},
     "output_type": "execute_result"
    }
   ],
   "source": [
    "b1"
   ]
  },
  {
   "cell_type": "code",
   "execution_count": 27,
   "id": "2f079f73",
   "metadata": {},
   "outputs": [],
   "source": [
    "b0 = avg_y - b1 * avg_x"
   ]
  },
  {
   "cell_type": "code",
   "execution_count": 28,
   "id": "1813f5f0",
   "metadata": {},
   "outputs": [
    {
     "data": {
      "text/plain": [
       "0.25"
      ]
     },
     "execution_count": 28,
     "metadata": {},
     "output_type": "execute_result"
    }
   ],
   "source": [
    "b0"
   ]
  },
  {
   "cell_type": "code",
   "execution_count": 29,
   "id": "e6ae9e40",
   "metadata": {},
   "outputs": [],
   "source": [
    "x_pred = 5\n",
    "\n",
    "y_pred = b0+b1*x_pred"
   ]
  },
  {
   "cell_type": "code",
   "execution_count": 30,
   "id": "902e6fa2",
   "metadata": {},
   "outputs": [
    {
     "data": {
      "text/plain": [
       "6.5"
      ]
     },
     "execution_count": 30,
     "metadata": {},
     "output_type": "execute_result"
    }
   ],
   "source": [
    "y_pred"
   ]
  },
  {
   "cell_type": "code",
   "execution_count": 31,
   "id": "7d1d26a9",
   "metadata": {},
   "outputs": [],
   "source": [
    "import pandas as pd"
   ]
  },
  {
   "cell_type": "code",
   "execution_count": 32,
   "id": "fab23c29",
   "metadata": {},
   "outputs": [],
   "source": [
    "data = pd.read_csv('linear_reg_sample.csv')"
   ]
  },
  {
   "cell_type": "code",
   "execution_count": 33,
   "id": "65ef8d64",
   "metadata": {},
   "outputs": [
    {
     "data": {
      "text/html": [
       "<div>\n",
       "<style scoped>\n",
       "    .dataframe tbody tr th:only-of-type {\n",
       "        vertical-align: middle;\n",
       "    }\n",
       "\n",
       "    .dataframe tbody tr th {\n",
       "        vertical-align: top;\n",
       "    }\n",
       "\n",
       "    .dataframe thead th {\n",
       "        text-align: right;\n",
       "    }\n",
       "</style>\n",
       "<table border=\"1\" class=\"dataframe\">\n",
       "  <thead>\n",
       "    <tr style=\"text-align: right;\">\n",
       "      <th></th>\n",
       "      <th>SAT</th>\n",
       "      <th>GPA</th>\n",
       "    </tr>\n",
       "  </thead>\n",
       "  <tbody>\n",
       "    <tr>\n",
       "      <th>0</th>\n",
       "      <td>1714</td>\n",
       "      <td>2.40</td>\n",
       "    </tr>\n",
       "    <tr>\n",
       "      <th>1</th>\n",
       "      <td>1664</td>\n",
       "      <td>2.52</td>\n",
       "    </tr>\n",
       "    <tr>\n",
       "      <th>2</th>\n",
       "      <td>1760</td>\n",
       "      <td>2.54</td>\n",
       "    </tr>\n",
       "    <tr>\n",
       "      <th>3</th>\n",
       "      <td>1685</td>\n",
       "      <td>2.74</td>\n",
       "    </tr>\n",
       "    <tr>\n",
       "      <th>4</th>\n",
       "      <td>1693</td>\n",
       "      <td>2.83</td>\n",
       "    </tr>\n",
       "    <tr>\n",
       "      <th>...</th>\n",
       "      <td>...</td>\n",
       "      <td>...</td>\n",
       "    </tr>\n",
       "    <tr>\n",
       "      <th>79</th>\n",
       "      <td>1936</td>\n",
       "      <td>3.71</td>\n",
       "    </tr>\n",
       "    <tr>\n",
       "      <th>80</th>\n",
       "      <td>1810</td>\n",
       "      <td>3.71</td>\n",
       "    </tr>\n",
       "    <tr>\n",
       "      <th>81</th>\n",
       "      <td>1987</td>\n",
       "      <td>3.73</td>\n",
       "    </tr>\n",
       "    <tr>\n",
       "      <th>82</th>\n",
       "      <td>1962</td>\n",
       "      <td>3.76</td>\n",
       "    </tr>\n",
       "    <tr>\n",
       "      <th>83</th>\n",
       "      <td>2050</td>\n",
       "      <td>3.81</td>\n",
       "    </tr>\n",
       "  </tbody>\n",
       "</table>\n",
       "<p>84 rows × 2 columns</p>\n",
       "</div>"
      ],
      "text/plain": [
       "     SAT   GPA\n",
       "0   1714  2.40\n",
       "1   1664  2.52\n",
       "2   1760  2.54\n",
       "3   1685  2.74\n",
       "4   1693  2.83\n",
       "..   ...   ...\n",
       "79  1936  3.71\n",
       "80  1810  3.71\n",
       "81  1987  3.73\n",
       "82  1962  3.76\n",
       "83  2050  3.81\n",
       "\n",
       "[84 rows x 2 columns]"
      ]
     },
     "execution_count": 33,
     "metadata": {},
     "output_type": "execute_result"
    }
   ],
   "source": [
    "data"
   ]
  },
  {
   "cell_type": "code",
   "execution_count": 34,
   "id": "ceee40e4",
   "metadata": {},
   "outputs": [],
   "source": [
    "x = data['SAT']\n",
    "y = data['GPA']"
   ]
  },
  {
   "cell_type": "code",
   "execution_count": 35,
   "id": "38104abc",
   "metadata": {},
   "outputs": [
    {
     "data": {
      "text/plain": [
       "Text(0, 0.5, 'GPA')"
      ]
     },
     "execution_count": 35,
     "metadata": {},
     "output_type": "execute_result"
    },
    {
     "data": {
      "image/png": "[encoded data removed]",
      "text/plain": [
       "<Figure size 432x288 with 1 Axes>"
      ]
     },
     "metadata": {
      "needs_background": "light"
     },
     "output_type": "display_data"
    }
   ],
   "source": [
    "plt.scatter(x,y)\n",
    "plt.xlabel('SAT')\n",
    "plt.ylabel('GPA')"
   ]
  },
  {
   "cell_type": "code",
   "execution_count": 36,
   "id": "fd236cda",
   "metadata": {},
   "outputs": [],
   "source": [
    "sat_mean = np.mean(data['SAT'])"
   ]
  },
  {
   "cell_type": "code",
   "execution_count": 37,
   "id": "8e41917f",
   "metadata": {},
   "outputs": [
    {
     "data": {
      "text/plain": [
       "1845.2738095238096"
      ]
     },
     "execution_count": 37,
     "metadata": {},
     "output_type": "execute_result"
    }
   ],
   "source": [
    "sat_mean"
   ]
  },
  {
   "cell_type": "code",
   "execution_count": 38,
   "id": "13c72e73",
   "metadata": {},
   "outputs": [],
   "source": [
    "gpa_mean = np.mean(data['GPA'])"
   ]
  },
  {
   "cell_type": "code",
   "execution_count": 39,
   "id": "a8a32918",
   "metadata": {},
   "outputs": [
    {
     "data": {
      "text/plain": [
       "3.330238095238094"
      ]
     },
     "execution_count": 39,
     "metadata": {},
     "output_type": "execute_result"
    }
   ],
   "source": [
    "gpa_mean"
   ]
  },
  {
   "cell_type": "code",
   "execution_count": 40,
   "id": "12ca6521",
   "metadata": {},
   "outputs": [],
   "source": [
    "sat_var = np.var(data['SAT'])\n",
    "gpa_var = np.var(data['GPA'])"
   ]
  },
  {
   "cell_type": "code",
   "execution_count": 41,
   "id": "3f8b97e1",
   "metadata": {},
   "outputs": [
    {
     "data": {
      "text/plain": [
       "10796.57979024943"
      ]
     },
     "execution_count": 41,
     "metadata": {},
     "output_type": "execute_result"
    }
   ],
   "source": [
    "sat_var"
   ]
  },
  {
   "cell_type": "code",
   "execution_count": 42,
   "id": "43dfd7c1",
   "metadata": {},
   "outputs": [
    {
     "data": {
      "text/plain": [
       "0.07289756235827666"
      ]
     },
     "execution_count": 42,
     "metadata": {},
     "output_type": "execute_result"
    }
   ],
   "source": [
    "gpa_var"
   ]
  },
  {
   "cell_type": "code",
   "execution_count": 43,
   "id": "b12d1318",
   "metadata": {},
   "outputs": [],
   "source": [
    "cov = np.cov(data['SAT'],data['GPA'])[0][1]"
   ]
  },
  {
   "cell_type": "code",
   "execution_count": 44,
   "id": "8e33de2b",
   "metadata": {},
   "outputs": [
    {
     "data": {
      "text/plain": [
       "18.091138841078607"
      ]
     },
     "execution_count": 44,
     "metadata": {},
     "output_type": "execute_result"
    }
   ],
   "source": [
    "cov"
   ]
  },
  {
   "cell_type": "code",
   "execution_count": 45,
   "id": "4149cbff",
   "metadata": {},
   "outputs": [],
   "source": [
    "b1 = cov /sat_var\n",
    "b0 = gpa_mean - b1 * sat_mean"
   ]
  },
  {
   "cell_type": "code",
   "execution_count": 46,
   "id": "602b96cf",
   "metadata": {},
   "outputs": [
    {
     "data": {
      "text/plain": [
       "0.0016756360988891142"
      ]
     },
     "execution_count": 46,
     "metadata": {},
     "output_type": "execute_result"
    }
   ],
   "source": [
    "b1"
   ]
  },
  {
   "cell_type": "code",
   "execution_count": 47,
   "id": "99ece87a",
   "metadata": {},
   "outputs": [
    {
     "data": {
      "text/plain": [
       "0.23823068766536304"
      ]
     },
     "execution_count": 47,
     "metadata": {},
     "output_type": "execute_result"
    }
   ],
   "source": [
    "b0"
   ]
  },
  {
   "cell_type": "code",
   "execution_count": 48,
   "id": "3f782015",
   "metadata": {},
   "outputs": [
    {
     "data": {
      "text/plain": [
       "Text(0, 0.5, 'GPA')"
      ]
     },
     "execution_count": 48,
     "metadata": {},
     "output_type": "execute_result"
    },
    {
     "data": {
      "image/png": "[encoded data removed]",
      "text/plain": [
       "<Figure size 432x288 with 1 Axes>"
      ]
     },
     "metadata": {
      "needs_background": "light"
     },
     "output_type": "display_data"
    }
   ],
   "source": [
    "plt.scatter(x,y)\n",
    "plt.xlabel('SAT')\n",
    "plt.ylabel('GPA')"
   ]
  },
  {
   "cell_type": "code",
   "execution_count": 49,
   "id": "78f12543",
   "metadata": {},
   "outputs": [],
   "source": [
    "gpa_predict = b0+b1*1500"
   ]
  },
  {
   "cell_type": "code",
   "execution_count": 50,
   "id": "23fc3753",
   "metadata": {},
   "outputs": [
    {
     "data": {
      "text/plain": [
       "2.7516848359990345"
      ]
     },
     "execution_count": 50,
     "metadata": {},
     "output_type": "execute_result"
    }
   ],
   "source": [
    "gpa_predict"
   ]
  },
  {
   "cell_type": "code",
   "execution_count": 51,
   "id": "f86b409c",
   "metadata": {},
   "outputs": [],
   "source": [
    "gpa_predict = b0+b1*1750"
   ]
  },
  {
   "cell_type": "code",
   "execution_count": 52,
   "id": "e1a5a11a",
   "metadata": {},
   "outputs": [
    {
     "data": {
      "text/plain": [
       "3.170593860721313"
      ]
     },
     "execution_count": 52,
     "metadata": {},
     "output_type": "execute_result"
    }
   ],
   "source": [
    "gpa_predict"
   ]
  },
  {
   "cell_type": "code",
   "execution_count": 53,
   "id": "ee9131ef",
   "metadata": {},
   "outputs": [],
   "source": [
    "gpa_predict = b0+b1*1400"
   ]
  },
  {
   "cell_type": "code",
   "execution_count": 54,
   "id": "b7fe7baf",
   "metadata": {},
   "outputs": [
    {
     "data": {
      "text/plain": [
       "2.5841212261101227"
      ]
     },
     "execution_count": 54,
     "metadata": {},
     "output_type": "execute_result"
    }
   ],
   "source": [
    "gpa_predict"
   ]
  },
  {
   "cell_type": "code",
   "execution_count": null,
   "id": "9f34281c",
   "metadata": {},
   "outputs": [],
   "source": []
  },
  {
   "cell_type": "code",
   "execution_count": null,
   "id": "2bee1c87",
   "metadata": {},
   "outputs": [],
   "source": []
  },
  {
   "cell_type": "code",
   "execution_count": 55,
   "id": "5904b3ae",
   "metadata": {},
   "outputs": [
    {
     "data": {
      "text/plain": [
       "1000"
      ]
     },
     "execution_count": 55,
     "metadata": {},
     "output_type": "execute_result"
    }
   ],
   "source": [
    "abs(-1000)"
   ]
  },
  {
   "cell_type": "code",
   "execution_count": null,
   "id": "f272763c",
   "metadata": {},
   "outputs": [],
   "source": []
  },
  {
   "cell_type": "markdown",
   "id": "39f255d2",
   "metadata": {},
   "source": [
    "## Project on Linear Regression"
   ]
  },
  {
   "cell_type": "code",
   "execution_count": 56,
   "id": "268311fa",
   "metadata": {},
   "outputs": [],
   "source": [
    "import numpy as np\n",
    "import pandas as pd\n",
    "import matplotlib.pyplot as plt\n",
    "import seaborn as sns"
   ]
  },
  {
   "cell_type": "code",
   "execution_count": 57,
   "id": "0b9683df",
   "metadata": {},
   "outputs": [],
   "source": [
    "df = pd.read_csv('Housing.csv')"
   ]
  },
  {
   "cell_type": "code",
   "execution_count": 58,
   "id": "6f01e7fe",
   "metadata": {
    "scrolled": true
   },
   "outputs": [
    {
     "data": {
      "text/html": [
       "<div>\n",
       "<style scoped>\n",
       "    .dataframe tbody tr th:only-of-type {\n",
       "        vertical-align: middle;\n",
       "    }\n",
       "\n",
       "    .dataframe tbody tr th {\n",
       "        vertical-align: top;\n",
       "    }\n",
       "\n",
       "    .dataframe thead th {\n",
       "        text-align: right;\n",
       "    }\n",
       "</style>\n",
       "<table border=\"1\" class=\"dataframe\">\n",
       "  <thead>\n",
       "    <tr style=\"text-align: right;\">\n",
       "      <th></th>\n",
       "      <th>price</th>\n",
       "      <th>area</th>\n",
       "      <th>bedrooms</th>\n",
       "      <th>bathrooms</th>\n",
       "      <th>stories</th>\n",
       "      <th>mainroad</th>\n",
       "      <th>guestroom</th>\n",
       "      <th>basement</th>\n",
       "      <th>hotwaterheating</th>\n",
       "      <th>airconditioning</th>\n",
       "      <th>parking</th>\n",
       "      <th>prefarea</th>\n",
       "      <th>furnishingstatus</th>\n",
       "    </tr>\n",
       "  </thead>\n",
       "  <tbody>\n",
       "    <tr>\n",
       "      <th>0</th>\n",
       "      <td>13300000</td>\n",
       "      <td>7420</td>\n",
       "      <td>4</td>\n",
       "      <td>2</td>\n",
       "      <td>3</td>\n",
       "      <td>yes</td>\n",
       "      <td>no</td>\n",
       "      <td>no</td>\n",
       "      <td>no</td>\n",
       "      <td>yes</td>\n",
       "      <td>2</td>\n",
       "      <td>yes</td>\n",
       "      <td>furnished</td>\n",
       "    </tr>\n",
       "    <tr>\n",
       "      <th>1</th>\n",
       "      <td>12250000</td>\n",
       "      <td>8960</td>\n",
       "      <td>4</td>\n",
       "      <td>4</td>\n",
       "      <td>4</td>\n",
       "      <td>yes</td>\n",
       "      <td>no</td>\n",
       "      <td>no</td>\n",
       "      <td>no</td>\n",
       "      <td>yes</td>\n",
       "      <td>3</td>\n",
       "      <td>no</td>\n",
       "      <td>furnished</td>\n",
       "    </tr>\n",
       "    <tr>\n",
       "      <th>2</th>\n",
       "      <td>12250000</td>\n",
       "      <td>9960</td>\n",
       "      <td>3</td>\n",
       "      <td>2</td>\n",
       "      <td>2</td>\n",
       "      <td>yes</td>\n",
       "      <td>no</td>\n",
       "      <td>yes</td>\n",
       "      <td>no</td>\n",
       "      <td>no</td>\n",
       "      <td>2</td>\n",
       "      <td>yes</td>\n",
       "      <td>semi-furnished</td>\n",
       "    </tr>\n",
       "    <tr>\n",
       "      <th>3</th>\n",
       "      <td>12215000</td>\n",
       "      <td>7500</td>\n",
       "      <td>4</td>\n",
       "      <td>2</td>\n",
       "      <td>2</td>\n",
       "      <td>yes</td>\n",
       "      <td>no</td>\n",
       "      <td>yes</td>\n",
       "      <td>no</td>\n",
       "      <td>yes</td>\n",
       "      <td>3</td>\n",
       "      <td>yes</td>\n",
       "      <td>furnished</td>\n",
       "    </tr>\n",
       "    <tr>\n",
       "      <th>4</th>\n",
       "      <td>11410000</td>\n",
       "      <td>7420</td>\n",
       "      <td>4</td>\n",
       "      <td>1</td>\n",
       "      <td>2</td>\n",
       "      <td>yes</td>\n",
       "      <td>yes</td>\n",
       "      <td>yes</td>\n",
       "      <td>no</td>\n",
       "      <td>yes</td>\n",
       "      <td>2</td>\n",
       "      <td>no</td>\n",
       "      <td>furnished</td>\n",
       "    </tr>\n",
       "  </tbody>\n",
       "</table>\n",
       "</div>"
      ],
      "text/plain": [
       "      price  area  bedrooms  bathrooms  stories mainroad guestroom basement  \\\n",
       "0  13300000  7420         4          2        3      yes        no       no   \n",
       "1  12250000  8960         4          4        4      yes        no       no   \n",
       "2  12250000  9960         3          2        2      yes        no      yes   \n",
       "3  12215000  7500         4          2        2      yes        no      yes   \n",
       "4  11410000  7420         4          1        2      yes       yes      yes   \n",
       "\n",
       "  hotwaterheating airconditioning  parking prefarea furnishingstatus  \n",
       "0              no             yes        2      yes        furnished  \n",
       "1              no             yes        3       no        furnished  \n",
       "2              no              no        2      yes   semi-furnished  \n",
       "3              no             yes        3      yes        furnished  \n",
       "4              no             yes        2       no        furnished  "
      ]
     },
     "execution_count": 58,
     "metadata": {},
     "output_type": "execute_result"
    }
   ],
   "source": [
    "df.head()"
   ]
  },
  {
   "cell_type": "code",
   "execution_count": 59,
   "id": "a97821f1",
   "metadata": {},
   "outputs": [
    {
     "name": "stdout",
     "output_type": "stream",
     "text": [
      "<class 'pandas.core.frame.DataFrame'>\n",
      "RangeIndex: 545 entries, 0 to 544\n",
      "Data columns (total 13 columns):\n",
      " #   Column            Non-Null Count  Dtype \n",
      "---  ------            --------------  ----- \n",
      " 0   price             545 non-null    int64 \n",
      " 1   area              545 non-null    int64 \n",
      " 2   bedrooms          545 non-null    int64 \n",
      " 3   bathrooms         545 non-null    int64 \n",
      " 4   stories           545 non-null    int64 \n",
      " 5   mainroad          545 non-null    object\n",
      " 6   guestroom         545 non-null    object\n",
      " 7   basement          545 non-null    object\n",
      " 8   hotwaterheating   545 non-null    object\n",
      " 9   airconditioning   545 non-null    object\n",
      " 10  parking           545 non-null    int64 \n",
      " 11  prefarea          545 non-null    object\n",
      " 12  furnishingstatus  545 non-null    object\n",
      "dtypes: int64(6), object(7)\n",
      "memory usage: 55.5+ KB\n"
     ]
    }
   ],
   "source": [
    "df.info()"
   ]
  },
  {
   "cell_type": "code",
   "execution_count": 60,
   "id": "00dbf436",
   "metadata": {},
   "outputs": [
    {
     "data": {
      "text/html": [
       "<div>\n",
       "<style scoped>\n",
       "    .dataframe tbody tr th:only-of-type {\n",
       "        vertical-align: middle;\n",
       "    }\n",
       "\n",
       "    .dataframe tbody tr th {\n",
       "        vertical-align: top;\n",
       "    }\n",
       "\n",
       "    .dataframe thead th {\n",
       "        text-align: right;\n",
       "    }\n",
       "</style>\n",
       "<table border=\"1\" class=\"dataframe\">\n",
       "  <thead>\n",
       "    <tr style=\"text-align: right;\">\n",
       "      <th></th>\n",
       "      <th>price</th>\n",
       "      <th>area</th>\n",
       "      <th>bedrooms</th>\n",
       "      <th>bathrooms</th>\n",
       "      <th>stories</th>\n",
       "      <th>parking</th>\n",
       "    </tr>\n",
       "  </thead>\n",
       "  <tbody>\n",
       "    <tr>\n",
       "      <th>count</th>\n",
       "      <td>5.450000e+02</td>\n",
       "      <td>545.000000</td>\n",
       "      <td>545.000000</td>\n",
       "      <td>545.000000</td>\n",
       "      <td>545.000000</td>\n",
       "      <td>545.000000</td>\n",
       "    </tr>\n",
       "    <tr>\n",
       "      <th>mean</th>\n",
       "      <td>4.766729e+06</td>\n",
       "      <td>5150.541284</td>\n",
       "      <td>2.965138</td>\n",
       "      <td>1.286239</td>\n",
       "      <td>1.805505</td>\n",
       "      <td>0.693578</td>\n",
       "    </tr>\n",
       "    <tr>\n",
       "      <th>std</th>\n",
       "      <td>1.870440e+06</td>\n",
       "      <td>2170.141023</td>\n",
       "      <td>0.738064</td>\n",
       "      <td>0.502470</td>\n",
       "      <td>0.867492</td>\n",
       "      <td>0.861586</td>\n",
       "    </tr>\n",
       "    <tr>\n",
       "      <th>min</th>\n",
       "      <td>1.750000e+06</td>\n",
       "      <td>1650.000000</td>\n",
       "      <td>1.000000</td>\n",
       "      <td>1.000000</td>\n",
       "      <td>1.000000</td>\n",
       "      <td>0.000000</td>\n",
       "    </tr>\n",
       "    <tr>\n",
       "      <th>25%</th>\n",
       "      <td>3.430000e+06</td>\n",
       "      <td>3600.000000</td>\n",
       "      <td>2.000000</td>\n",
       "      <td>1.000000</td>\n",
       "      <td>1.000000</td>\n",
       "      <td>0.000000</td>\n",
       "    </tr>\n",
       "    <tr>\n",
       "      <th>50%</th>\n",
       "      <td>4.340000e+06</td>\n",
       "      <td>4600.000000</td>\n",
       "      <td>3.000000</td>\n",
       "      <td>1.000000</td>\n",
       "      <td>2.000000</td>\n",
       "      <td>0.000000</td>\n",
       "    </tr>\n",
       "    <tr>\n",
       "      <th>75%</th>\n",
       "      <td>5.740000e+06</td>\n",
       "      <td>6360.000000</td>\n",
       "      <td>3.000000</td>\n",
       "      <td>2.000000</td>\n",
       "      <td>2.000000</td>\n",
       "      <td>1.000000</td>\n",
       "    </tr>\n",
       "    <tr>\n",
       "      <th>max</th>\n",
       "      <td>1.330000e+07</td>\n",
       "      <td>16200.000000</td>\n",
       "      <td>6.000000</td>\n",
       "      <td>4.000000</td>\n",
       "      <td>4.000000</td>\n",
       "      <td>3.000000</td>\n",
       "    </tr>\n",
       "  </tbody>\n",
       "</table>\n",
       "</div>"
      ],
      "text/plain": [
       "              price          area    bedrooms   bathrooms     stories  \\\n",
       "count  5.450000e+02    545.000000  545.000000  545.000000  545.000000   \n",
       "mean   4.766729e+06   5150.541284    2.965138    1.286239    1.805505   \n",
       "std    1.870440e+06   2170.141023    0.738064    0.502470    0.867492   \n",
       "min    1.750000e+06   1650.000000    1.000000    1.000000    1.000000   \n",
       "25%    3.430000e+06   3600.000000    2.000000    1.000000    1.000000   \n",
       "50%    4.340000e+06   4600.000000    3.000000    1.000000    2.000000   \n",
       "75%    5.740000e+06   6360.000000    3.000000    2.000000    2.000000   \n",
       "max    1.330000e+07  16200.000000    6.000000    4.000000    4.000000   \n",
       "\n",
       "          parking  \n",
       "count  545.000000  \n",
       "mean     0.693578  \n",
       "std      0.861586  \n",
       "min      0.000000  \n",
       "25%      0.000000  \n",
       "50%      0.000000  \n",
       "75%      1.000000  \n",
       "max      3.000000  "
      ]
     },
     "execution_count": 60,
     "metadata": {},
     "output_type": "execute_result"
    }
   ],
   "source": [
    "df.describe()"
   ]
  },
  {
   "cell_type": "code",
   "execution_count": 61,
   "id": "19263554",
   "metadata": {},
   "outputs": [
    {
     "data": {
      "text/plain": [
       "price               0\n",
       "area                0\n",
       "bedrooms            0\n",
       "bathrooms           0\n",
       "stories             0\n",
       "mainroad            0\n",
       "guestroom           0\n",
       "basement            0\n",
       "hotwaterheating     0\n",
       "airconditioning     0\n",
       "parking             0\n",
       "prefarea            0\n",
       "furnishingstatus    0\n",
       "dtype: int64"
      ]
     },
     "execution_count": 61,
     "metadata": {},
     "output_type": "execute_result"
    }
   ],
   "source": [
    "df.isna().sum()"
   ]
  },
  {
   "cell_type": "code",
   "execution_count": 62,
   "id": "029648f2",
   "metadata": {},
   "outputs": [
    {
     "data": {
      "text/plain": [
       "<AxesSubplot:xlabel='area', ylabel='price'>"
      ]
     },
     "execution_count": 62,
     "metadata": {},
     "output_type": "execute_result"
    },
    {
     "data": {
      "image/png": "[encoded data removed]",
      "text/plain": [
       "<Figure size 432x288 with 1 Axes>"
      ]
     },
     "metadata": {
      "needs_background": "light"
     },
     "output_type": "display_data"
    }
   ],
   "source": [
    "sns.scatterplot(x='area',y='price',data=df)"
   ]
  },
  {
   "cell_type": "code",
   "execution_count": 63,
   "id": "ad6c0e0e",
   "metadata": {},
   "outputs": [
    {
     "data": {
      "text/plain": [
       "<AxesSubplot:xlabel='area', ylabel='price'>"
      ]
     },
     "execution_count": 63,
     "metadata": {},
     "output_type": "execute_result"
    },
    {
     "data": {
      "image/png": "[encoded data removed]",
      "text/plain": [
       "<Figure size 432x288 with 1 Axes>"
      ]
     },
     "metadata": {
      "needs_background": "light"
     },
     "output_type": "display_data"
    }
   ],
   "source": [
    "sns.regplot(x='area',y='price',data=df)"
   ]
  },
  {
   "cell_type": "code",
   "execution_count": 64,
   "id": "817be494",
   "metadata": {},
   "outputs": [
    {
     "name": "stderr",
     "output_type": "stream",
     "text": [
      "/home/punit/anaconda3/lib/python3.8/site-packages/seaborn/_decorators.py:36: FutureWarning: Pass the following variable as a keyword arg: x. From version 0.12, the only valid positional argument will be `data`, and passing other arguments without an explicit keyword will result in an error or misinterpretation.\n",
      "  warnings.warn(\n"
     ]
    },
    {
     "data": {
      "text/plain": [
       "<AxesSubplot:xlabel='area'>"
      ]
     },
     "execution_count": 64,
     "metadata": {},
     "output_type": "execute_result"
    },
    {
     "data": {
      "image/png": "[encoded data removed]",
      "text/plain": [
       "<Figure size 432x288 with 1 Axes>"
      ]
     },
     "metadata": {
      "needs_background": "light"
     },
     "output_type": "display_data"
    }
   ],
   "source": [
    "sns.boxplot(df['area'])"
   ]
  },
  {
   "cell_type": "code",
   "execution_count": 65,
   "id": "d59cc04d",
   "metadata": {},
   "outputs": [
    {
     "data": {
      "text/plain": [
       "<AxesSubplot:xlabel='area', ylabel='Count'>"
      ]
     },
     "execution_count": 65,
     "metadata": {},
     "output_type": "execute_result"
    },
    {
     "data": {
      "image/png": "[encoded data removed]",
      "text/plain": [
       "<Figure size 432x288 with 1 Axes>"
      ]
     },
     "metadata": {
      "needs_background": "light"
     },
     "output_type": "display_data"
    }
   ],
   "source": [
    "sns.histplot(df['area'],kde=True)"
   ]
  },
  {
   "cell_type": "code",
   "execution_count": 66,
   "id": "4518118c",
   "metadata": {},
   "outputs": [
    {
     "name": "stderr",
     "output_type": "stream",
     "text": [
      "/home/punit/anaconda3/lib/python3.8/site-packages/seaborn/_decorators.py:36: FutureWarning: Pass the following variable as a keyword arg: x. From version 0.12, the only valid positional argument will be `data`, and passing other arguments without an explicit keyword will result in an error or misinterpretation.\n",
      "  warnings.warn(\n"
     ]
    },
    {
     "data": {
      "text/plain": [
       "<AxesSubplot:xlabel='bedrooms', ylabel='count'>"
      ]
     },
     "execution_count": 66,
     "metadata": {},
     "output_type": "execute_result"
    },
    {
     "data": {
      "image/png": "[encoded data removed]",
      "text/plain": [
       "<Figure size 432x288 with 1 Axes>"
      ]
     },
     "metadata": {
      "needs_background": "light"
     },
     "output_type": "display_data"
    }
   ],
   "source": [
    "sns.countplot(df['bedrooms'])"
   ]
  },
  {
   "cell_type": "code",
   "execution_count": 67,
   "id": "30618598",
   "metadata": {},
   "outputs": [
    {
     "name": "stderr",
     "output_type": "stream",
     "text": [
      "/home/punit/anaconda3/lib/python3.8/site-packages/seaborn/_decorators.py:36: FutureWarning: Pass the following variable as a keyword arg: x. From version 0.12, the only valid positional argument will be `data`, and passing other arguments without an explicit keyword will result in an error or misinterpretation.\n",
      "  warnings.warn(\n"
     ]
    },
    {
     "data": {
      "text/plain": [
       "<AxesSubplot:xlabel='bathrooms', ylabel='count'>"
      ]
     },
     "execution_count": 67,
     "metadata": {},
     "output_type": "execute_result"
    },
    {
     "data": {
      "image/png": "[encoded data removed]",
      "text/plain": [
       "<Figure size 432x288 with 1 Axes>"
      ]
     },
     "metadata": {
      "needs_background": "light"
     },
     "output_type": "display_data"
    }
   ],
   "source": [
    "sns.countplot(df['bathrooms'])"
   ]
  },
  {
   "cell_type": "code",
   "execution_count": 68,
   "id": "3f724292",
   "metadata": {},
   "outputs": [
    {
     "name": "stderr",
     "output_type": "stream",
     "text": [
      "/home/punit/anaconda3/lib/python3.8/site-packages/seaborn/_decorators.py:36: FutureWarning: Pass the following variable as a keyword arg: x. From version 0.12, the only valid positional argument will be `data`, and passing other arguments without an explicit keyword will result in an error or misinterpretation.\n",
      "  warnings.warn(\n"
     ]
    },
    {
     "data": {
      "text/plain": [
       "<AxesSubplot:xlabel='stories', ylabel='count'>"
      ]
     },
     "execution_count": 68,
     "metadata": {},
     "output_type": "execute_result"
    },
    {
     "data": {
      "image/png": "[encoded data removed]",
      "text/plain": [
       "<Figure size 432x288 with 1 Axes>"
      ]
     },
     "metadata": {
      "needs_background": "light"
     },
     "output_type": "display_data"
    }
   ],
   "source": [
    "sns.countplot(df['stories'])"
   ]
  },
  {
   "cell_type": "code",
   "execution_count": 69,
   "id": "d96f55e5",
   "metadata": {},
   "outputs": [
    {
     "name": "stderr",
     "output_type": "stream",
     "text": [
      "/home/punit/anaconda3/lib/python3.8/site-packages/seaborn/_decorators.py:36: FutureWarning: Pass the following variable as a keyword arg: x. From version 0.12, the only valid positional argument will be `data`, and passing other arguments without an explicit keyword will result in an error or misinterpretation.\n",
      "  warnings.warn(\n"
     ]
    },
    {
     "data": {
      "text/plain": [
       "<AxesSubplot:xlabel='mainroad', ylabel='count'>"
      ]
     },
     "execution_count": 69,
     "metadata": {},
     "output_type": "execute_result"
    },
    {
     "data": {
      "image/png": "[encoded data removed]",
      "text/plain": [
       "<Figure size 432x288 with 1 Axes>"
      ]
     },
     "metadata": {
      "needs_background": "light"
     },
     "output_type": "display_data"
    }
   ],
   "source": [
    "sns.countplot(df['mainroad'])"
   ]
  },
  {
   "cell_type": "code",
   "execution_count": 70,
   "id": "a550dc7e",
   "metadata": {},
   "outputs": [
    {
     "name": "stderr",
     "output_type": "stream",
     "text": [
      "/home/punit/anaconda3/lib/python3.8/site-packages/seaborn/_decorators.py:36: FutureWarning: Pass the following variable as a keyword arg: x. From version 0.12, the only valid positional argument will be `data`, and passing other arguments without an explicit keyword will result in an error or misinterpretation.\n",
      "  warnings.warn(\n"
     ]
    },
    {
     "data": {
      "text/plain": [
       "<AxesSubplot:xlabel='guestroom', ylabel='count'>"
      ]
     },
     "execution_count": 70,
     "metadata": {},
     "output_type": "execute_result"
    },
    {
     "data": {
      "image/png": "[encoded data removed]",
      "text/plain": [
       "<Figure size 432x288 with 1 Axes>"
      ]
     },
     "metadata": {
      "needs_background": "light"
     },
     "output_type": "display_data"
    }
   ],
   "source": [
    "sns.countplot(df['guestroom'])"
   ]
  },
  {
   "cell_type": "code",
   "execution_count": 71,
   "id": "f0739894",
   "metadata": {},
   "outputs": [
    {
     "name": "stderr",
     "output_type": "stream",
     "text": [
      "/home/punit/anaconda3/lib/python3.8/site-packages/seaborn/_decorators.py:36: FutureWarning: Pass the following variable as a keyword arg: x. From version 0.12, the only valid positional argument will be `data`, and passing other arguments without an explicit keyword will result in an error or misinterpretation.\n",
      "  warnings.warn(\n"
     ]
    },
    {
     "data": {
      "text/plain": [
       "<AxesSubplot:xlabel='airconditioning', ylabel='count'>"
      ]
     },
     "execution_count": 71,
     "metadata": {},
     "output_type": "execute_result"
    },
    {
     "data": {
      "image/png": "[encoded data removed]",
      "text/plain": [
       "<Figure size 432x288 with 1 Axes>"
      ]
     },
     "metadata": {
      "needs_background": "light"
     },
     "output_type": "display_data"
    }
   ],
   "source": [
    "sns.countplot(df['airconditioning'])"
   ]
  },
  {
   "cell_type": "code",
   "execution_count": 72,
   "id": "56a1d2e4",
   "metadata": {},
   "outputs": [
    {
     "name": "stderr",
     "output_type": "stream",
     "text": [
      "/home/punit/anaconda3/lib/python3.8/site-packages/seaborn/_decorators.py:36: FutureWarning: Pass the following variable as a keyword arg: x. From version 0.12, the only valid positional argument will be `data`, and passing other arguments without an explicit keyword will result in an error or misinterpretation.\n",
      "  warnings.warn(\n"
     ]
    },
    {
     "data": {
      "text/plain": [
       "<AxesSubplot:xlabel='parking', ylabel='count'>"
      ]
     },
     "execution_count": 72,
     "metadata": {},
     "output_type": "execute_result"
    },
    {
     "data": {
      "image/png": "[encoded data removed]",
      "text/plain": [
       "<Figure size 432x288 with 1 Axes>"
      ]
     },
     "metadata": {
      "needs_background": "light"
     },
     "output_type": "display_data"
    }
   ],
   "source": [
    "sns.countplot(df['parking'])"
   ]
  },
  {
   "cell_type": "code",
   "execution_count": 73,
   "id": "f6a232d4",
   "metadata": {},
   "outputs": [
    {
     "data": {
      "text/plain": [
       "Index(['price', 'area', 'bedrooms', 'bathrooms', 'stories', 'mainroad',\n",
       "       'guestroom', 'basement', 'hotwaterheating', 'airconditioning',\n",
       "       'parking', 'prefarea', 'furnishingstatus'],\n",
       "      dtype='object')"
      ]
     },
     "execution_count": 73,
     "metadata": {},
     "output_type": "execute_result"
    }
   ],
   "source": [
    "df.columns"
   ]
  },
  {
   "cell_type": "code",
   "execution_count": null,
   "id": "94e97898",
   "metadata": {},
   "outputs": [],
   "source": []
  },
  {
   "cell_type": "markdown",
   "id": "8c882888",
   "metadata": {},
   "source": [
    "## Feature Engineering"
   ]
  },
  {
   "cell_type": "code",
   "execution_count": 74,
   "id": "71702ed4",
   "metadata": {},
   "outputs": [],
   "source": [
    "input_cols = ['area', 'bedrooms', 'bathrooms', 'stories', 'mainroad',\n",
    "       'guestroom', 'basement', 'hotwaterheating', 'airconditioning',\n",
    "       'parking', 'prefarea', 'furnishingstatus']"
   ]
  },
  {
   "cell_type": "code",
   "execution_count": 75,
   "id": "bee61696",
   "metadata": {},
   "outputs": [],
   "source": [
    "target = 'price'"
   ]
  },
  {
   "cell_type": "code",
   "execution_count": 76,
   "id": "fd24fab8",
   "metadata": {},
   "outputs": [],
   "source": [
    "input_df = df[input_cols].copy()"
   ]
  },
  {
   "cell_type": "code",
   "execution_count": 77,
   "id": "6af1b361",
   "metadata": {},
   "outputs": [
    {
     "data": {
      "text/html": [
       "<div>\n",
       "<style scoped>\n",
       "    .dataframe tbody tr th:only-of-type {\n",
       "        vertical-align: middle;\n",
       "    }\n",
       "\n",
       "    .dataframe tbody tr th {\n",
       "        vertical-align: top;\n",
       "    }\n",
       "\n",
       "    .dataframe thead th {\n",
       "        text-align: right;\n",
       "    }\n",
       "</style>\n",
       "<table border=\"1\" class=\"dataframe\">\n",
       "  <thead>\n",
       "    <tr style=\"text-align: right;\">\n",
       "      <th></th>\n",
       "      <th>area</th>\n",
       "      <th>bedrooms</th>\n",
       "      <th>bathrooms</th>\n",
       "      <th>stories</th>\n",
       "      <th>mainroad</th>\n",
       "      <th>guestroom</th>\n",
       "      <th>basement</th>\n",
       "      <th>hotwaterheating</th>\n",
       "      <th>airconditioning</th>\n",
       "      <th>parking</th>\n",
       "      <th>prefarea</th>\n",
       "      <th>furnishingstatus</th>\n",
       "    </tr>\n",
       "  </thead>\n",
       "  <tbody>\n",
       "    <tr>\n",
       "      <th>0</th>\n",
       "      <td>7420</td>\n",
       "      <td>4</td>\n",
       "      <td>2</td>\n",
       "      <td>3</td>\n",
       "      <td>yes</td>\n",
       "      <td>no</td>\n",
       "      <td>no</td>\n",
       "      <td>no</td>\n",
       "      <td>yes</td>\n",
       "      <td>2</td>\n",
       "      <td>yes</td>\n",
       "      <td>furnished</td>\n",
       "    </tr>\n",
       "    <tr>\n",
       "      <th>1</th>\n",
       "      <td>8960</td>\n",
       "      <td>4</td>\n",
       "      <td>4</td>\n",
       "      <td>4</td>\n",
       "      <td>yes</td>\n",
       "      <td>no</td>\n",
       "      <td>no</td>\n",
       "      <td>no</td>\n",
       "      <td>yes</td>\n",
       "      <td>3</td>\n",
       "      <td>no</td>\n",
       "      <td>furnished</td>\n",
       "    </tr>\n",
       "    <tr>\n",
       "      <th>2</th>\n",
       "      <td>9960</td>\n",
       "      <td>3</td>\n",
       "      <td>2</td>\n",
       "      <td>2</td>\n",
       "      <td>yes</td>\n",
       "      <td>no</td>\n",
       "      <td>yes</td>\n",
       "      <td>no</td>\n",
       "      <td>no</td>\n",
       "      <td>2</td>\n",
       "      <td>yes</td>\n",
       "      <td>semi-furnished</td>\n",
       "    </tr>\n",
       "    <tr>\n",
       "      <th>3</th>\n",
       "      <td>7500</td>\n",
       "      <td>4</td>\n",
       "      <td>2</td>\n",
       "      <td>2</td>\n",
       "      <td>yes</td>\n",
       "      <td>no</td>\n",
       "      <td>yes</td>\n",
       "      <td>no</td>\n",
       "      <td>yes</td>\n",
       "      <td>3</td>\n",
       "      <td>yes</td>\n",
       "      <td>furnished</td>\n",
       "    </tr>\n",
       "    <tr>\n",
       "      <th>4</th>\n",
       "      <td>7420</td>\n",
       "      <td>4</td>\n",
       "      <td>1</td>\n",
       "      <td>2</td>\n",
       "      <td>yes</td>\n",
       "      <td>yes</td>\n",
       "      <td>yes</td>\n",
       "      <td>no</td>\n",
       "      <td>yes</td>\n",
       "      <td>2</td>\n",
       "      <td>no</td>\n",
       "      <td>furnished</td>\n",
       "    </tr>\n",
       "    <tr>\n",
       "      <th>...</th>\n",
       "      <td>...</td>\n",
       "      <td>...</td>\n",
       "      <td>...</td>\n",
       "      <td>...</td>\n",
       "      <td>...</td>\n",
       "      <td>...</td>\n",
       "      <td>...</td>\n",
       "      <td>...</td>\n",
       "      <td>...</td>\n",
       "      <td>...</td>\n",
       "      <td>...</td>\n",
       "      <td>...</td>\n",
       "    </tr>\n",
       "    <tr>\n",
       "      <th>540</th>\n",
       "      <td>3000</td>\n",
       "      <td>2</td>\n",
       "      <td>1</td>\n",
       "      <td>1</td>\n",
       "      <td>yes</td>\n",
       "      <td>no</td>\n",
       "      <td>yes</td>\n",
       "      <td>no</td>\n",
       "      <td>no</td>\n",
       "      <td>2</td>\n",
       "      <td>no</td>\n",
       "      <td>unfurnished</td>\n",
       "    </tr>\n",
       "    <tr>\n",
       "      <th>541</th>\n",
       "      <td>2400</td>\n",
       "      <td>3</td>\n",
       "      <td>1</td>\n",
       "      <td>1</td>\n",
       "      <td>no</td>\n",
       "      <td>no</td>\n",
       "      <td>no</td>\n",
       "      <td>no</td>\n",
       "      <td>no</td>\n",
       "      <td>0</td>\n",
       "      <td>no</td>\n",
       "      <td>semi-furnished</td>\n",
       "    </tr>\n",
       "    <tr>\n",
       "      <th>542</th>\n",
       "      <td>3620</td>\n",
       "      <td>2</td>\n",
       "      <td>1</td>\n",
       "      <td>1</td>\n",
       "      <td>yes</td>\n",
       "      <td>no</td>\n",
       "      <td>no</td>\n",
       "      <td>no</td>\n",
       "      <td>no</td>\n",
       "      <td>0</td>\n",
       "      <td>no</td>\n",
       "      <td>unfurnished</td>\n",
       "    </tr>\n",
       "    <tr>\n",
       "      <th>543</th>\n",
       "      <td>2910</td>\n",
       "      <td>3</td>\n",
       "      <td>1</td>\n",
       "      <td>1</td>\n",
       "      <td>no</td>\n",
       "      <td>no</td>\n",
       "      <td>no</td>\n",
       "      <td>no</td>\n",
       "      <td>no</td>\n",
       "      <td>0</td>\n",
       "      <td>no</td>\n",
       "      <td>furnished</td>\n",
       "    </tr>\n",
       "    <tr>\n",
       "      <th>544</th>\n",
       "      <td>3850</td>\n",
       "      <td>3</td>\n",
       "      <td>1</td>\n",
       "      <td>2</td>\n",
       "      <td>yes</td>\n",
       "      <td>no</td>\n",
       "      <td>no</td>\n",
       "      <td>no</td>\n",
       "      <td>no</td>\n",
       "      <td>0</td>\n",
       "      <td>no</td>\n",
       "      <td>unfurnished</td>\n",
       "    </tr>\n",
       "  </tbody>\n",
       "</table>\n",
       "<p>545 rows × 12 columns</p>\n",
       "</div>"
      ],
      "text/plain": [
       "     area  bedrooms  bathrooms  stories mainroad guestroom basement  \\\n",
       "0    7420         4          2        3      yes        no       no   \n",
       "1    8960         4          4        4      yes        no       no   \n",
       "2    9960         3          2        2      yes        no      yes   \n",
       "3    7500         4          2        2      yes        no      yes   \n",
       "4    7420         4          1        2      yes       yes      yes   \n",
       "..    ...       ...        ...      ...      ...       ...      ...   \n",
       "540  3000         2          1        1      yes        no      yes   \n",
       "541  2400         3          1        1       no        no       no   \n",
       "542  3620         2          1        1      yes        no       no   \n",
       "543  2910         3          1        1       no        no       no   \n",
       "544  3850         3          1        2      yes        no       no   \n",
       "\n",
       "    hotwaterheating airconditioning  parking prefarea furnishingstatus  \n",
       "0                no             yes        2      yes        furnished  \n",
       "1                no             yes        3       no        furnished  \n",
       "2                no              no        2      yes   semi-furnished  \n",
       "3                no             yes        3      yes        furnished  \n",
       "4                no             yes        2       no        furnished  \n",
       "..              ...             ...      ...      ...              ...  \n",
       "540              no              no        2       no      unfurnished  \n",
       "541              no              no        0       no   semi-furnished  \n",
       "542              no              no        0       no      unfurnished  \n",
       "543              no              no        0       no        furnished  \n",
       "544              no              no        0       no      unfurnished  \n",
       "\n",
       "[545 rows x 12 columns]"
      ]
     },
     "execution_count": 77,
     "metadata": {},
     "output_type": "execute_result"
    }
   ],
   "source": [
    "input_df"
   ]
  },
  {
   "cell_type": "code",
   "execution_count": 78,
   "id": "73b2d0f0",
   "metadata": {},
   "outputs": [],
   "source": [
    "cat_cols = input_df[input_cols].select_dtypes(include='object').columns.to_list()"
   ]
  },
  {
   "cell_type": "code",
   "execution_count": 79,
   "id": "73af4b00",
   "metadata": {},
   "outputs": [
    {
     "data": {
      "text/plain": [
       "['mainroad',\n",
       " 'guestroom',\n",
       " 'basement',\n",
       " 'hotwaterheating',\n",
       " 'airconditioning',\n",
       " 'prefarea',\n",
       " 'furnishingstatus']"
      ]
     },
     "execution_count": 79,
     "metadata": {},
     "output_type": "execute_result"
    }
   ],
   "source": [
    "cat_cols"
   ]
  },
  {
   "cell_type": "code",
   "execution_count": 80,
   "id": "1ca49cf4",
   "metadata": {},
   "outputs": [],
   "source": [
    "from sklearn.preprocessing import OneHotEncoder"
   ]
  },
  {
   "cell_type": "code",
   "execution_count": 81,
   "id": "e9a47259",
   "metadata": {},
   "outputs": [],
   "source": [
    "encoder = OneHotEncoder(sparse=False,handle_unknown='ignore')"
   ]
  },
  {
   "cell_type": "code",
   "execution_count": 82,
   "id": "c54ee21f",
   "metadata": {},
   "outputs": [
    {
     "data": {
      "text/plain": [
       "sklearn.preprocessing._encoders.OneHotEncoder"
      ]
     },
     "execution_count": 82,
     "metadata": {},
     "output_type": "execute_result"
    }
   ],
   "source": [
    "type(encoder)"
   ]
  },
  {
   "cell_type": "code",
   "execution_count": 83,
   "id": "e3ae30bb",
   "metadata": {},
   "outputs": [
    {
     "data": {
      "text/plain": [
       "OneHotEncoder(handle_unknown='ignore', sparse=False)"
      ]
     },
     "execution_count": 83,
     "metadata": {},
     "output_type": "execute_result"
    }
   ],
   "source": [
    "encoder.fit(input_df[cat_cols])"
   ]
  },
  {
   "cell_type": "code",
   "execution_count": 84,
   "id": "fec1e472",
   "metadata": {},
   "outputs": [],
   "source": [
    "encoder_cols = list(encoder.get_feature_names(cat_cols))"
   ]
  },
  {
   "cell_type": "code",
   "execution_count": 85,
   "id": "60bec82c",
   "metadata": {},
   "outputs": [
    {
     "data": {
      "text/plain": [
       "['mainroad_no',\n",
       " 'mainroad_yes',\n",
       " 'guestroom_no',\n",
       " 'guestroom_yes',\n",
       " 'basement_no',\n",
       " 'basement_yes',\n",
       " 'hotwaterheating_no',\n",
       " 'hotwaterheating_yes',\n",
       " 'airconditioning_no',\n",
       " 'airconditioning_yes',\n",
       " 'prefarea_no',\n",
       " 'prefarea_yes',\n",
       " 'furnishingstatus_furnished',\n",
       " 'furnishingstatus_semi-furnished',\n",
       " 'furnishingstatus_unfurnished']"
      ]
     },
     "execution_count": 85,
     "metadata": {},
     "output_type": "execute_result"
    }
   ],
   "source": [
    "encoder_cols"
   ]
  },
  {
   "cell_type": "code",
   "execution_count": 86,
   "id": "4d28bab0",
   "metadata": {},
   "outputs": [],
   "source": [
    "input_df[encoder_cols] = encoder.transform(input_df[cat_cols])"
   ]
  },
  {
   "cell_type": "code",
   "execution_count": 93,
   "id": "01166346",
   "metadata": {},
   "outputs": [
    {
     "data": {
      "text/html": [
       "<div>\n",
       "<style scoped>\n",
       "    .dataframe tbody tr th:only-of-type {\n",
       "        vertical-align: middle;\n",
       "    }\n",
       "\n",
       "    .dataframe tbody tr th {\n",
       "        vertical-align: top;\n",
       "    }\n",
       "\n",
       "    .dataframe thead th {\n",
       "        text-align: right;\n",
       "    }\n",
       "</style>\n",
       "<table border=\"1\" class=\"dataframe\">\n",
       "  <thead>\n",
       "    <tr style=\"text-align: right;\">\n",
       "      <th></th>\n",
       "      <th>area</th>\n",
       "      <th>bedrooms</th>\n",
       "      <th>bathrooms</th>\n",
       "      <th>stories</th>\n",
       "      <th>mainroad</th>\n",
       "      <th>guestroom</th>\n",
       "      <th>basement</th>\n",
       "      <th>hotwaterheating</th>\n",
       "      <th>airconditioning</th>\n",
       "      <th>parking</th>\n",
       "      <th>...</th>\n",
       "      <th>basement_yes</th>\n",
       "      <th>hotwaterheating_no</th>\n",
       "      <th>hotwaterheating_yes</th>\n",
       "      <th>airconditioning_no</th>\n",
       "      <th>airconditioning_yes</th>\n",
       "      <th>prefarea_no</th>\n",
       "      <th>prefarea_yes</th>\n",
       "      <th>furnishingstatus_furnished</th>\n",
       "      <th>furnishingstatus_semi-furnished</th>\n",
       "      <th>furnishingstatus_unfurnished</th>\n",
       "    </tr>\n",
       "  </thead>\n",
       "  <tbody>\n",
       "    <tr>\n",
       "      <th>0</th>\n",
       "      <td>7420</td>\n",
       "      <td>4</td>\n",
       "      <td>2</td>\n",
       "      <td>3</td>\n",
       "      <td>yes</td>\n",
       "      <td>no</td>\n",
       "      <td>no</td>\n",
       "      <td>no</td>\n",
       "      <td>yes</td>\n",
       "      <td>2</td>\n",
       "      <td>...</td>\n",
       "      <td>0.0</td>\n",
       "      <td>1.0</td>\n",
       "      <td>0.0</td>\n",
       "      <td>0.0</td>\n",
       "      <td>1.0</td>\n",
       "      <td>0.0</td>\n",
       "      <td>1.0</td>\n",
       "      <td>1.0</td>\n",
       "      <td>0.0</td>\n",
       "      <td>0.0</td>\n",
       "    </tr>\n",
       "    <tr>\n",
       "      <th>1</th>\n",
       "      <td>8960</td>\n",
       "      <td>4</td>\n",
       "      <td>4</td>\n",
       "      <td>4</td>\n",
       "      <td>yes</td>\n",
       "      <td>no</td>\n",
       "      <td>no</td>\n",
       "      <td>no</td>\n",
       "      <td>yes</td>\n",
       "      <td>3</td>\n",
       "      <td>...</td>\n",
       "      <td>0.0</td>\n",
       "      <td>1.0</td>\n",
       "      <td>0.0</td>\n",
       "      <td>0.0</td>\n",
       "      <td>1.0</td>\n",
       "      <td>1.0</td>\n",
       "      <td>0.0</td>\n",
       "      <td>1.0</td>\n",
       "      <td>0.0</td>\n",
       "      <td>0.0</td>\n",
       "    </tr>\n",
       "    <tr>\n",
       "      <th>2</th>\n",
       "      <td>9960</td>\n",
       "      <td>3</td>\n",
       "      <td>2</td>\n",
       "      <td>2</td>\n",
       "      <td>yes</td>\n",
       "      <td>no</td>\n",
       "      <td>yes</td>\n",
       "      <td>no</td>\n",
       "      <td>no</td>\n",
       "      <td>2</td>\n",
       "      <td>...</td>\n",
       "      <td>1.0</td>\n",
       "      <td>1.0</td>\n",
       "      <td>0.0</td>\n",
       "      <td>1.0</td>\n",
       "      <td>0.0</td>\n",
       "      <td>0.0</td>\n",
       "      <td>1.0</td>\n",
       "      <td>0.0</td>\n",
       "      <td>1.0</td>\n",
       "      <td>0.0</td>\n",
       "    </tr>\n",
       "    <tr>\n",
       "      <th>3</th>\n",
       "      <td>7500</td>\n",
       "      <td>4</td>\n",
       "      <td>2</td>\n",
       "      <td>2</td>\n",
       "      <td>yes</td>\n",
       "      <td>no</td>\n",
       "      <td>yes</td>\n",
       "      <td>no</td>\n",
       "      <td>yes</td>\n",
       "      <td>3</td>\n",
       "      <td>...</td>\n",
       "      <td>1.0</td>\n",
       "      <td>1.0</td>\n",
       "      <td>0.0</td>\n",
       "      <td>0.0</td>\n",
       "      <td>1.0</td>\n",
       "      <td>0.0</td>\n",
       "      <td>1.0</td>\n",
       "      <td>1.0</td>\n",
       "      <td>0.0</td>\n",
       "      <td>0.0</td>\n",
       "    </tr>\n",
       "    <tr>\n",
       "      <th>4</th>\n",
       "      <td>7420</td>\n",
       "      <td>4</td>\n",
       "      <td>1</td>\n",
       "      <td>2</td>\n",
       "      <td>yes</td>\n",
       "      <td>yes</td>\n",
       "      <td>yes</td>\n",
       "      <td>no</td>\n",
       "      <td>yes</td>\n",
       "      <td>2</td>\n",
       "      <td>...</td>\n",
       "      <td>1.0</td>\n",
       "      <td>1.0</td>\n",
       "      <td>0.0</td>\n",
       "      <td>0.0</td>\n",
       "      <td>1.0</td>\n",
       "      <td>1.0</td>\n",
       "      <td>0.0</td>\n",
       "      <td>1.0</td>\n",
       "      <td>0.0</td>\n",
       "      <td>0.0</td>\n",
       "    </tr>\n",
       "    <tr>\n",
       "      <th>...</th>\n",
       "      <td>...</td>\n",
       "      <td>...</td>\n",
       "      <td>...</td>\n",
       "      <td>...</td>\n",
       "      <td>...</td>\n",
       "      <td>...</td>\n",
       "      <td>...</td>\n",
       "      <td>...</td>\n",
       "      <td>...</td>\n",
       "      <td>...</td>\n",
       "      <td>...</td>\n",
       "      <td>...</td>\n",
       "      <td>...</td>\n",
       "      <td>...</td>\n",
       "      <td>...</td>\n",
       "      <td>...</td>\n",
       "      <td>...</td>\n",
       "      <td>...</td>\n",
       "      <td>...</td>\n",
       "      <td>...</td>\n",
       "      <td>...</td>\n",
       "    </tr>\n",
       "    <tr>\n",
       "      <th>540</th>\n",
       "      <td>3000</td>\n",
       "      <td>2</td>\n",
       "      <td>1</td>\n",
       "      <td>1</td>\n",
       "      <td>yes</td>\n",
       "      <td>no</td>\n",
       "      <td>yes</td>\n",
       "      <td>no</td>\n",
       "      <td>no</td>\n",
       "      <td>2</td>\n",
       "      <td>...</td>\n",
       "      <td>1.0</td>\n",
       "      <td>1.0</td>\n",
       "      <td>0.0</td>\n",
       "      <td>1.0</td>\n",
       "      <td>0.0</td>\n",
       "      <td>1.0</td>\n",
       "      <td>0.0</td>\n",
       "      <td>0.0</td>\n",
       "      <td>0.0</td>\n",
       "      <td>1.0</td>\n",
       "    </tr>\n",
       "    <tr>\n",
       "      <th>541</th>\n",
       "      <td>2400</td>\n",
       "      <td>3</td>\n",
       "      <td>1</td>\n",
       "      <td>1</td>\n",
       "      <td>no</td>\n",
       "      <td>no</td>\n",
       "      <td>no</td>\n",
       "      <td>no</td>\n",
       "      <td>no</td>\n",
       "      <td>0</td>\n",
       "      <td>...</td>\n",
       "      <td>0.0</td>\n",
       "      <td>1.0</td>\n",
       "      <td>0.0</td>\n",
       "      <td>1.0</td>\n",
       "      <td>0.0</td>\n",
       "      <td>1.0</td>\n",
       "      <td>0.0</td>\n",
       "      <td>0.0</td>\n",
       "      <td>1.0</td>\n",
       "      <td>0.0</td>\n",
       "    </tr>\n",
       "    <tr>\n",
       "      <th>542</th>\n",
       "      <td>3620</td>\n",
       "      <td>2</td>\n",
       "      <td>1</td>\n",
       "      <td>1</td>\n",
       "      <td>yes</td>\n",
       "      <td>no</td>\n",
       "      <td>no</td>\n",
       "      <td>no</td>\n",
       "      <td>no</td>\n",
       "      <td>0</td>\n",
       "      <td>...</td>\n",
       "      <td>0.0</td>\n",
       "      <td>1.0</td>\n",
       "      <td>0.0</td>\n",
       "      <td>1.0</td>\n",
       "      <td>0.0</td>\n",
       "      <td>1.0</td>\n",
       "      <td>0.0</td>\n",
       "      <td>0.0</td>\n",
       "      <td>0.0</td>\n",
       "      <td>1.0</td>\n",
       "    </tr>\n",
       "    <tr>\n",
       "      <th>543</th>\n",
       "      <td>2910</td>\n",
       "      <td>3</td>\n",
       "      <td>1</td>\n",
       "      <td>1</td>\n",
       "      <td>no</td>\n",
       "      <td>no</td>\n",
       "      <td>no</td>\n",
       "      <td>no</td>\n",
       "      <td>no</td>\n",
       "      <td>0</td>\n",
       "      <td>...</td>\n",
       "      <td>0.0</td>\n",
       "      <td>1.0</td>\n",
       "      <td>0.0</td>\n",
       "      <td>1.0</td>\n",
       "      <td>0.0</td>\n",
       "      <td>1.0</td>\n",
       "      <td>0.0</td>\n",
       "      <td>1.0</td>\n",
       "      <td>0.0</td>\n",
       "      <td>0.0</td>\n",
       "    </tr>\n",
       "    <tr>\n",
       "      <th>544</th>\n",
       "      <td>3850</td>\n",
       "      <td>3</td>\n",
       "      <td>1</td>\n",
       "      <td>2</td>\n",
       "      <td>yes</td>\n",
       "      <td>no</td>\n",
       "      <td>no</td>\n",
       "      <td>no</td>\n",
       "      <td>no</td>\n",
       "      <td>0</td>\n",
       "      <td>...</td>\n",
       "      <td>0.0</td>\n",
       "      <td>1.0</td>\n",
       "      <td>0.0</td>\n",
       "      <td>1.0</td>\n",
       "      <td>0.0</td>\n",
       "      <td>1.0</td>\n",
       "      <td>0.0</td>\n",
       "      <td>0.0</td>\n",
       "      <td>0.0</td>\n",
       "      <td>1.0</td>\n",
       "    </tr>\n",
       "  </tbody>\n",
       "</table>\n",
       "<p>545 rows × 27 columns</p>\n",
       "</div>"
      ],
      "text/plain": [
       "     area  bedrooms  bathrooms  stories mainroad guestroom basement  \\\n",
       "0    7420         4          2        3      yes        no       no   \n",
       "1    8960         4          4        4      yes        no       no   \n",
       "2    9960         3          2        2      yes        no      yes   \n",
       "3    7500         4          2        2      yes        no      yes   \n",
       "4    7420         4          1        2      yes       yes      yes   \n",
       "..    ...       ...        ...      ...      ...       ...      ...   \n",
       "540  3000         2          1        1      yes        no      yes   \n",
       "541  2400         3          1        1       no        no       no   \n",
       "542  3620         2          1        1      yes        no       no   \n",
       "543  2910         3          1        1       no        no       no   \n",
       "544  3850         3          1        2      yes        no       no   \n",
       "\n",
       "    hotwaterheating airconditioning  parking  ... basement_yes  \\\n",
       "0                no             yes        2  ...          0.0   \n",
       "1                no             yes        3  ...          0.0   \n",
       "2                no              no        2  ...          1.0   \n",
       "3                no             yes        3  ...          1.0   \n",
       "4                no             yes        2  ...          1.0   \n",
       "..              ...             ...      ...  ...          ...   \n",
       "540              no              no        2  ...          1.0   \n",
       "541              no              no        0  ...          0.0   \n",
       "542              no              no        0  ...          0.0   \n",
       "543              no              no        0  ...          0.0   \n",
       "544              no              no        0  ...          0.0   \n",
       "\n",
       "    hotwaterheating_no  hotwaterheating_yes  airconditioning_no  \\\n",
       "0                  1.0                  0.0                 0.0   \n",
       "1                  1.0                  0.0                 0.0   \n",
       "2                  1.0                  0.0                 1.0   \n",
       "3                  1.0                  0.0                 0.0   \n",
       "4                  1.0                  0.0                 0.0   \n",
       "..                 ...                  ...                 ...   \n",
       "540                1.0                  0.0                 1.0   \n",
       "541                1.0                  0.0                 1.0   \n",
       "542                1.0                  0.0                 1.0   \n",
       "543                1.0                  0.0                 1.0   \n",
       "544                1.0                  0.0                 1.0   \n",
       "\n",
       "     airconditioning_yes  prefarea_no  prefarea_yes  \\\n",
       "0                    1.0          0.0           1.0   \n",
       "1                    1.0          1.0           0.0   \n",
       "2                    0.0          0.0           1.0   \n",
       "3                    1.0          0.0           1.0   \n",
       "4                    1.0          1.0           0.0   \n",
       "..                   ...          ...           ...   \n",
       "540                  0.0          1.0           0.0   \n",
       "541                  0.0          1.0           0.0   \n",
       "542                  0.0          1.0           0.0   \n",
       "543                  0.0          1.0           0.0   \n",
       "544                  0.0          1.0           0.0   \n",
       "\n",
       "     furnishingstatus_furnished  furnishingstatus_semi-furnished  \\\n",
       "0                           1.0                              0.0   \n",
       "1                           1.0                              0.0   \n",
       "2                           0.0                              1.0   \n",
       "3                           1.0                              0.0   \n",
       "4                           1.0                              0.0   \n",
       "..                          ...                              ...   \n",
       "540                         0.0                              0.0   \n",
       "541                         0.0                              1.0   \n",
       "542                         0.0                              0.0   \n",
       "543                         1.0                              0.0   \n",
       "544                         0.0                              0.0   \n",
       "\n",
       "     furnishingstatus_unfurnished  \n",
       "0                             0.0  \n",
       "1                             0.0  \n",
       "2                             0.0  \n",
       "3                             0.0  \n",
       "4                             0.0  \n",
       "..                            ...  \n",
       "540                           1.0  \n",
       "541                           0.0  \n",
       "542                           1.0  \n",
       "543                           0.0  \n",
       "544                           1.0  \n",
       "\n",
       "[545 rows x 27 columns]"
      ]
     },
     "execution_count": 93,
     "metadata": {},
     "output_type": "execute_result"
    }
   ],
   "source": [
    "input_df"
   ]
  },
  {
   "cell_type": "code",
   "execution_count": 94,
   "id": "3603dde9",
   "metadata": {},
   "outputs": [
    {
     "data": {
      "text/plain": [
       "Index(['area', 'bedrooms', 'bathrooms', 'stories', 'mainroad', 'guestroom',\n",
       "       'basement', 'hotwaterheating', 'airconditioning', 'parking', 'prefarea',\n",
       "       'furnishingstatus', 'mainroad_no', 'mainroad_yes', 'guestroom_no',\n",
       "       'guestroom_yes', 'basement_no', 'basement_yes', 'hotwaterheating_no',\n",
       "       'hotwaterheating_yes', 'airconditioning_no', 'airconditioning_yes',\n",
       "       'prefarea_no', 'prefarea_yes', 'furnishingstatus_furnished',\n",
       "       'furnishingstatus_semi-furnished', 'furnishingstatus_unfurnished'],\n",
       "      dtype='object')"
      ]
     },
     "execution_count": 94,
     "metadata": {},
     "output_type": "execute_result"
    }
   ],
   "source": [
    "input_df.columns"
   ]
  },
  {
   "cell_type": "code",
   "execution_count": 95,
   "id": "276acb12",
   "metadata": {},
   "outputs": [
    {
     "name": "stdout",
     "output_type": "stream",
     "text": [
      "<class 'pandas.core.frame.DataFrame'>\n",
      "RangeIndex: 545 entries, 0 to 544\n",
      "Data columns (total 27 columns):\n",
      " #   Column                           Non-Null Count  Dtype  \n",
      "---  ------                           --------------  -----  \n",
      " 0   area                             545 non-null    int64  \n",
      " 1   bedrooms                         545 non-null    int64  \n",
      " 2   bathrooms                        545 non-null    int64  \n",
      " 3   stories                          545 non-null    int64  \n",
      " 4   mainroad                         545 non-null    object \n",
      " 5   guestroom                        545 non-null    object \n",
      " 6   basement                         545 non-null    object \n",
      " 7   hotwaterheating                  545 non-null    object \n",
      " 8   airconditioning                  545 non-null    object \n",
      " 9   parking                          545 non-null    int64  \n",
      " 10  prefarea                         545 non-null    object \n",
      " 11  furnishingstatus                 545 non-null    object \n",
      " 12  mainroad_no                      545 non-null    float64\n",
      " 13  mainroad_yes                     545 non-null    float64\n",
      " 14  guestroom_no                     545 non-null    float64\n",
      " 15  guestroom_yes                    545 non-null    float64\n",
      " 16  basement_no                      545 non-null    float64\n",
      " 17  basement_yes                     545 non-null    float64\n",
      " 18  hotwaterheating_no               545 non-null    float64\n",
      " 19  hotwaterheating_yes              545 non-null    float64\n",
      " 20  airconditioning_no               545 non-null    float64\n",
      " 21  airconditioning_yes              545 non-null    float64\n",
      " 22  prefarea_no                      545 non-null    float64\n",
      " 23  prefarea_yes                     545 non-null    float64\n",
      " 24  furnishingstatus_furnished       545 non-null    float64\n",
      " 25  furnishingstatus_semi-furnished  545 non-null    float64\n",
      " 26  furnishingstatus_unfurnished     545 non-null    float64\n",
      "dtypes: float64(15), int64(5), object(7)\n",
      "memory usage: 115.1+ KB\n"
     ]
    }
   ],
   "source": [
    "input_df.info()"
   ]
  },
  {
   "cell_type": "code",
   "execution_count": 96,
   "id": "2908673c",
   "metadata": {},
   "outputs": [],
   "source": [
    "final_cols = input_df.select_dtypes(include=['int64','float64']).columns"
   ]
  },
  {
   "cell_type": "code",
   "execution_count": 97,
   "id": "927db014",
   "metadata": {},
   "outputs": [
    {
     "data": {
      "text/plain": [
       "Index(['area', 'bedrooms', 'bathrooms', 'stories', 'parking', 'mainroad_no',\n",
       "       'mainroad_yes', 'guestroom_no', 'guestroom_yes', 'basement_no',\n",
       "       'basement_yes', 'hotwaterheating_no', 'hotwaterheating_yes',\n",
       "       'airconditioning_no', 'airconditioning_yes', 'prefarea_no',\n",
       "       'prefarea_yes', 'furnishingstatus_furnished',\n",
       "       'furnishingstatus_semi-furnished', 'furnishingstatus_unfurnished'],\n",
       "      dtype='object')"
      ]
     },
     "execution_count": 97,
     "metadata": {},
     "output_type": "execute_result"
    }
   ],
   "source": [
    "final_cols"
   ]
  },
  {
   "cell_type": "code",
   "execution_count": 107,
   "id": "62cd9a11",
   "metadata": {},
   "outputs": [],
   "source": [
    "final_df = input_df[final_cols]"
   ]
  },
  {
   "cell_type": "code",
   "execution_count": 108,
   "id": "aa7ab56a",
   "metadata": {},
   "outputs": [
    {
     "data": {
      "text/html": [
       "<div>\n",
       "<style scoped>\n",
       "    .dataframe tbody tr th:only-of-type {\n",
       "        vertical-align: middle;\n",
       "    }\n",
       "\n",
       "    .dataframe tbody tr th {\n",
       "        vertical-align: top;\n",
       "    }\n",
       "\n",
       "    .dataframe thead th {\n",
       "        text-align: right;\n",
       "    }\n",
       "</style>\n",
       "<table border=\"1\" class=\"dataframe\">\n",
       "  <thead>\n",
       "    <tr style=\"text-align: right;\">\n",
       "      <th></th>\n",
       "      <th>area</th>\n",
       "      <th>bedrooms</th>\n",
       "      <th>bathrooms</th>\n",
       "      <th>stories</th>\n",
       "      <th>parking</th>\n",
       "      <th>mainroad_no</th>\n",
       "      <th>mainroad_yes</th>\n",
       "      <th>guestroom_no</th>\n",
       "      <th>guestroom_yes</th>\n",
       "      <th>basement_no</th>\n",
       "      <th>basement_yes</th>\n",
       "      <th>hotwaterheating_no</th>\n",
       "      <th>hotwaterheating_yes</th>\n",
       "      <th>airconditioning_no</th>\n",
       "      <th>airconditioning_yes</th>\n",
       "      <th>prefarea_no</th>\n",
       "      <th>prefarea_yes</th>\n",
       "      <th>furnishingstatus_furnished</th>\n",
       "      <th>furnishingstatus_semi-furnished</th>\n",
       "      <th>furnishingstatus_unfurnished</th>\n",
       "    </tr>\n",
       "  </thead>\n",
       "  <tbody>\n",
       "    <tr>\n",
       "      <th>0</th>\n",
       "      <td>7420</td>\n",
       "      <td>4</td>\n",
       "      <td>2</td>\n",
       "      <td>3</td>\n",
       "      <td>2</td>\n",
       "      <td>0.0</td>\n",
       "      <td>1.0</td>\n",
       "      <td>1.0</td>\n",
       "      <td>0.0</td>\n",
       "      <td>1.0</td>\n",
       "      <td>0.0</td>\n",
       "      <td>1.0</td>\n",
       "      <td>0.0</td>\n",
       "      <td>0.0</td>\n",
       "      <td>1.0</td>\n",
       "      <td>0.0</td>\n",
       "      <td>1.0</td>\n",
       "      <td>1.0</td>\n",
       "      <td>0.0</td>\n",
       "      <td>0.0</td>\n",
       "    </tr>\n",
       "    <tr>\n",
       "      <th>1</th>\n",
       "      <td>8960</td>\n",
       "      <td>4</td>\n",
       "      <td>4</td>\n",
       "      <td>4</td>\n",
       "      <td>3</td>\n",
       "      <td>0.0</td>\n",
       "      <td>1.0</td>\n",
       "      <td>1.0</td>\n",
       "      <td>0.0</td>\n",
       "      <td>1.0</td>\n",
       "      <td>0.0</td>\n",
       "      <td>1.0</td>\n",
       "      <td>0.0</td>\n",
       "      <td>0.0</td>\n",
       "      <td>1.0</td>\n",
       "      <td>1.0</td>\n",
       "      <td>0.0</td>\n",
       "      <td>1.0</td>\n",
       "      <td>0.0</td>\n",
       "      <td>0.0</td>\n",
       "    </tr>\n",
       "    <tr>\n",
       "      <th>2</th>\n",
       "      <td>9960</td>\n",
       "      <td>3</td>\n",
       "      <td>2</td>\n",
       "      <td>2</td>\n",
       "      <td>2</td>\n",
       "      <td>0.0</td>\n",
       "      <td>1.0</td>\n",
       "      <td>1.0</td>\n",
       "      <td>0.0</td>\n",
       "      <td>0.0</td>\n",
       "      <td>1.0</td>\n",
       "      <td>1.0</td>\n",
       "      <td>0.0</td>\n",
       "      <td>1.0</td>\n",
       "      <td>0.0</td>\n",
       "      <td>0.0</td>\n",
       "      <td>1.0</td>\n",
       "      <td>0.0</td>\n",
       "      <td>1.0</td>\n",
       "      <td>0.0</td>\n",
       "    </tr>\n",
       "    <tr>\n",
       "      <th>3</th>\n",
       "      <td>7500</td>\n",
       "      <td>4</td>\n",
       "      <td>2</td>\n",
       "      <td>2</td>\n",
       "      <td>3</td>\n",
       "      <td>0.0</td>\n",
       "      <td>1.0</td>\n",
       "      <td>1.0</td>\n",
       "      <td>0.0</td>\n",
       "      <td>0.0</td>\n",
       "      <td>1.0</td>\n",
       "      <td>1.0</td>\n",
       "      <td>0.0</td>\n",
       "      <td>0.0</td>\n",
       "      <td>1.0</td>\n",
       "      <td>0.0</td>\n",
       "      <td>1.0</td>\n",
       "      <td>1.0</td>\n",
       "      <td>0.0</td>\n",
       "      <td>0.0</td>\n",
       "    </tr>\n",
       "    <tr>\n",
       "      <th>4</th>\n",
       "      <td>7420</td>\n",
       "      <td>4</td>\n",
       "      <td>1</td>\n",
       "      <td>2</td>\n",
       "      <td>2</td>\n",
       "      <td>0.0</td>\n",
       "      <td>1.0</td>\n",
       "      <td>0.0</td>\n",
       "      <td>1.0</td>\n",
       "      <td>0.0</td>\n",
       "      <td>1.0</td>\n",
       "      <td>1.0</td>\n",
       "      <td>0.0</td>\n",
       "      <td>0.0</td>\n",
       "      <td>1.0</td>\n",
       "      <td>1.0</td>\n",
       "      <td>0.0</td>\n",
       "      <td>1.0</td>\n",
       "      <td>0.0</td>\n",
       "      <td>0.0</td>\n",
       "    </tr>\n",
       "    <tr>\n",
       "      <th>...</th>\n",
       "      <td>...</td>\n",
       "      <td>...</td>\n",
       "      <td>...</td>\n",
       "      <td>...</td>\n",
       "      <td>...</td>\n",
       "      <td>...</td>\n",
       "      <td>...</td>\n",
       "      <td>...</td>\n",
       "      <td>...</td>\n",
       "      <td>...</td>\n",
       "      <td>...</td>\n",
       "      <td>...</td>\n",
       "      <td>...</td>\n",
       "      <td>...</td>\n",
       "      <td>...</td>\n",
       "      <td>...</td>\n",
       "      <td>...</td>\n",
       "      <td>...</td>\n",
       "      <td>...</td>\n",
       "      <td>...</td>\n",
       "    </tr>\n",
       "    <tr>\n",
       "      <th>540</th>\n",
       "      <td>3000</td>\n",
       "      <td>2</td>\n",
       "      <td>1</td>\n",
       "      <td>1</td>\n",
       "      <td>2</td>\n",
       "      <td>0.0</td>\n",
       "      <td>1.0</td>\n",
       "      <td>1.0</td>\n",
       "      <td>0.0</td>\n",
       "      <td>0.0</td>\n",
       "      <td>1.0</td>\n",
       "      <td>1.0</td>\n",
       "      <td>0.0</td>\n",
       "      <td>1.0</td>\n",
       "      <td>0.0</td>\n",
       "      <td>1.0</td>\n",
       "      <td>0.0</td>\n",
       "      <td>0.0</td>\n",
       "      <td>0.0</td>\n",
       "      <td>1.0</td>\n",
       "    </tr>\n",
       "    <tr>\n",
       "      <th>541</th>\n",
       "      <td>2400</td>\n",
       "      <td>3</td>\n",
       "      <td>1</td>\n",
       "      <td>1</td>\n",
       "      <td>0</td>\n",
       "      <td>1.0</td>\n",
       "      <td>0.0</td>\n",
       "      <td>1.0</td>\n",
       "      <td>0.0</td>\n",
       "      <td>1.0</td>\n",
       "      <td>0.0</td>\n",
       "      <td>1.0</td>\n",
       "      <td>0.0</td>\n",
       "      <td>1.0</td>\n",
       "      <td>0.0</td>\n",
       "      <td>1.0</td>\n",
       "      <td>0.0</td>\n",
       "      <td>0.0</td>\n",
       "      <td>1.0</td>\n",
       "      <td>0.0</td>\n",
       "    </tr>\n",
       "    <tr>\n",
       "      <th>542</th>\n",
       "      <td>3620</td>\n",
       "      <td>2</td>\n",
       "      <td>1</td>\n",
       "      <td>1</td>\n",
       "      <td>0</td>\n",
       "      <td>0.0</td>\n",
       "      <td>1.0</td>\n",
       "      <td>1.0</td>\n",
       "      <td>0.0</td>\n",
       "      <td>1.0</td>\n",
       "      <td>0.0</td>\n",
       "      <td>1.0</td>\n",
       "      <td>0.0</td>\n",
       "      <td>1.0</td>\n",
       "      <td>0.0</td>\n",
       "      <td>1.0</td>\n",
       "      <td>0.0</td>\n",
       "      <td>0.0</td>\n",
       "      <td>0.0</td>\n",
       "      <td>1.0</td>\n",
       "    </tr>\n",
       "    <tr>\n",
       "      <th>543</th>\n",
       "      <td>2910</td>\n",
       "      <td>3</td>\n",
       "      <td>1</td>\n",
       "      <td>1</td>\n",
       "      <td>0</td>\n",
       "      <td>1.0</td>\n",
       "      <td>0.0</td>\n",
       "      <td>1.0</td>\n",
       "      <td>0.0</td>\n",
       "      <td>1.0</td>\n",
       "      <td>0.0</td>\n",
       "      <td>1.0</td>\n",
       "      <td>0.0</td>\n",
       "      <td>1.0</td>\n",
       "      <td>0.0</td>\n",
       "      <td>1.0</td>\n",
       "      <td>0.0</td>\n",
       "      <td>1.0</td>\n",
       "      <td>0.0</td>\n",
       "      <td>0.0</td>\n",
       "    </tr>\n",
       "    <tr>\n",
       "      <th>544</th>\n",
       "      <td>3850</td>\n",
       "      <td>3</td>\n",
       "      <td>1</td>\n",
       "      <td>2</td>\n",
       "      <td>0</td>\n",
       "      <td>0.0</td>\n",
       "      <td>1.0</td>\n",
       "      <td>1.0</td>\n",
       "      <td>0.0</td>\n",
       "      <td>1.0</td>\n",
       "      <td>0.0</td>\n",
       "      <td>1.0</td>\n",
       "      <td>0.0</td>\n",
       "      <td>1.0</td>\n",
       "      <td>0.0</td>\n",
       "      <td>1.0</td>\n",
       "      <td>0.0</td>\n",
       "      <td>0.0</td>\n",
       "      <td>0.0</td>\n",
       "      <td>1.0</td>\n",
       "    </tr>\n",
       "  </tbody>\n",
       "</table>\n",
       "<p>545 rows × 20 columns</p>\n",
       "</div>"
      ],
      "text/plain": [
       "     area  bedrooms  bathrooms  stories  parking  mainroad_no  mainroad_yes  \\\n",
       "0    7420         4          2        3        2          0.0           1.0   \n",
       "1    8960         4          4        4        3          0.0           1.0   \n",
       "2    9960         3          2        2        2          0.0           1.0   \n",
       "3    7500         4          2        2        3          0.0           1.0   \n",
       "4    7420         4          1        2        2          0.0           1.0   \n",
       "..    ...       ...        ...      ...      ...          ...           ...   \n",
       "540  3000         2          1        1        2          0.0           1.0   \n",
       "541  2400         3          1        1        0          1.0           0.0   \n",
       "542  3620         2          1        1        0          0.0           1.0   \n",
       "543  2910         3          1        1        0          1.0           0.0   \n",
       "544  3850         3          1        2        0          0.0           1.0   \n",
       "\n",
       "     guestroom_no  guestroom_yes  basement_no  basement_yes  \\\n",
       "0             1.0            0.0          1.0           0.0   \n",
       "1             1.0            0.0          1.0           0.0   \n",
       "2             1.0            0.0          0.0           1.0   \n",
       "3             1.0            0.0          0.0           1.0   \n",
       "4             0.0            1.0          0.0           1.0   \n",
       "..            ...            ...          ...           ...   \n",
       "540           1.0            0.0          0.0           1.0   \n",
       "541           1.0            0.0          1.0           0.0   \n",
       "542           1.0            0.0          1.0           0.0   \n",
       "543           1.0            0.0          1.0           0.0   \n",
       "544           1.0            0.0          1.0           0.0   \n",
       "\n",
       "     hotwaterheating_no  hotwaterheating_yes  airconditioning_no  \\\n",
       "0                   1.0                  0.0                 0.0   \n",
       "1                   1.0                  0.0                 0.0   \n",
       "2                   1.0                  0.0                 1.0   \n",
       "3                   1.0                  0.0                 0.0   \n",
       "4                   1.0                  0.0                 0.0   \n",
       "..                  ...                  ...                 ...   \n",
       "540                 1.0                  0.0                 1.0   \n",
       "541                 1.0                  0.0                 1.0   \n",
       "542                 1.0                  0.0                 1.0   \n",
       "543                 1.0                  0.0                 1.0   \n",
       "544                 1.0                  0.0                 1.0   \n",
       "\n",
       "     airconditioning_yes  prefarea_no  prefarea_yes  \\\n",
       "0                    1.0          0.0           1.0   \n",
       "1                    1.0          1.0           0.0   \n",
       "2                    0.0          0.0           1.0   \n",
       "3                    1.0          0.0           1.0   \n",
       "4                    1.0          1.0           0.0   \n",
       "..                   ...          ...           ...   \n",
       "540                  0.0          1.0           0.0   \n",
       "541                  0.0          1.0           0.0   \n",
       "542                  0.0          1.0           0.0   \n",
       "543                  0.0          1.0           0.0   \n",
       "544                  0.0          1.0           0.0   \n",
       "\n",
       "     furnishingstatus_furnished  furnishingstatus_semi-furnished  \\\n",
       "0                           1.0                              0.0   \n",
       "1                           1.0                              0.0   \n",
       "2                           0.0                              1.0   \n",
       "3                           1.0                              0.0   \n",
       "4                           1.0                              0.0   \n",
       "..                          ...                              ...   \n",
       "540                         0.0                              0.0   \n",
       "541                         0.0                              1.0   \n",
       "542                         0.0                              0.0   \n",
       "543                         1.0                              0.0   \n",
       "544                         0.0                              0.0   \n",
       "\n",
       "     furnishingstatus_unfurnished  \n",
       "0                             0.0  \n",
       "1                             0.0  \n",
       "2                             0.0  \n",
       "3                             0.0  \n",
       "4                             0.0  \n",
       "..                            ...  \n",
       "540                           1.0  \n",
       "541                           0.0  \n",
       "542                           1.0  \n",
       "543                           0.0  \n",
       "544                           1.0  \n",
       "\n",
       "[545 rows x 20 columns]"
      ]
     },
     "execution_count": 108,
     "metadata": {},
     "output_type": "execute_result"
    }
   ],
   "source": [
    "final_df"
   ]
  },
  {
   "cell_type": "code",
   "execution_count": 109,
   "id": "375fcd5e",
   "metadata": {},
   "outputs": [
    {
     "name": "stdout",
     "output_type": "stream",
     "text": [
      "<class 'pandas.core.frame.DataFrame'>\n",
      "RangeIndex: 545 entries, 0 to 544\n",
      "Data columns (total 20 columns):\n",
      " #   Column                           Non-Null Count  Dtype  \n",
      "---  ------                           --------------  -----  \n",
      " 0   area                             545 non-null    int64  \n",
      " 1   bedrooms                         545 non-null    int64  \n",
      " 2   bathrooms                        545 non-null    int64  \n",
      " 3   stories                          545 non-null    int64  \n",
      " 4   parking                          545 non-null    int64  \n",
      " 5   mainroad_no                      545 non-null    float64\n",
      " 6   mainroad_yes                     545 non-null    float64\n",
      " 7   guestroom_no                     545 non-null    float64\n",
      " 8   guestroom_yes                    545 non-null    float64\n",
      " 9   basement_no                      545 non-null    float64\n",
      " 10  basement_yes                     545 non-null    float64\n",
      " 11  hotwaterheating_no               545 non-null    float64\n",
      " 12  hotwaterheating_yes              545 non-null    float64\n",
      " 13  airconditioning_no               545 non-null    float64\n",
      " 14  airconditioning_yes              545 non-null    float64\n",
      " 15  prefarea_no                      545 non-null    float64\n",
      " 16  prefarea_yes                     545 non-null    float64\n",
      " 17  furnishingstatus_furnished       545 non-null    float64\n",
      " 18  furnishingstatus_semi-furnished  545 non-null    float64\n",
      " 19  furnishingstatus_unfurnished     545 non-null    float64\n",
      "dtypes: float64(15), int64(5)\n",
      "memory usage: 85.3 KB\n"
     ]
    }
   ],
   "source": [
    "final_df.info()"
   ]
  },
  {
   "cell_type": "code",
   "execution_count": 110,
   "id": "f746b6e8",
   "metadata": {},
   "outputs": [],
   "source": [
    "col_names = final_df.columns.to_list()"
   ]
  },
  {
   "cell_type": "code",
   "execution_count": 111,
   "id": "b6f0783e",
   "metadata": {},
   "outputs": [
    {
     "data": {
      "text/plain": [
       "['area',\n",
       " 'bedrooms',\n",
       " 'bathrooms',\n",
       " 'stories',\n",
       " 'parking',\n",
       " 'mainroad_no',\n",
       " 'mainroad_yes',\n",
       " 'guestroom_no',\n",
       " 'guestroom_yes',\n",
       " 'basement_no',\n",
       " 'basement_yes',\n",
       " 'hotwaterheating_no',\n",
       " 'hotwaterheating_yes',\n",
       " 'airconditioning_no',\n",
       " 'airconditioning_yes',\n",
       " 'prefarea_no',\n",
       " 'prefarea_yes',\n",
       " 'furnishingstatus_furnished',\n",
       " 'furnishingstatus_semi-furnished',\n",
       " 'furnishingstatus_unfurnished']"
      ]
     },
     "execution_count": 111,
     "metadata": {},
     "output_type": "execute_result"
    }
   ],
   "source": [
    "col_names"
   ]
  },
  {
   "cell_type": "code",
   "execution_count": 101,
   "id": "4423f09f",
   "metadata": {},
   "outputs": [],
   "source": [
    "from sklearn.preprocessing import StandardScaler"
   ]
  },
  {
   "cell_type": "code",
   "execution_count": 102,
   "id": "f2537012",
   "metadata": {},
   "outputs": [],
   "source": [
    "scaler = StandardScaler()"
   ]
  },
  {
   "cell_type": "code",
   "execution_count": 112,
   "id": "7e45c7d6",
   "metadata": {},
   "outputs": [
    {
     "data": {
      "text/plain": [
       "StandardScaler()"
      ]
     },
     "execution_count": 112,
     "metadata": {},
     "output_type": "execute_result"
    }
   ],
   "source": [
    "scaler.fit(final_df)"
   ]
  },
  {
   "cell_type": "code",
   "execution_count": 113,
   "id": "2d67ef78",
   "metadata": {},
   "outputs": [
    {
     "name": "stderr",
     "output_type": "stream",
     "text": [
      "<ipython-input-113-7e24b5fd2b26>:1: SettingWithCopyWarning: \n",
      "A value is trying to be set on a copy of a slice from a DataFrame.\n",
      "Try using .loc[row_indexer,col_indexer] = value instead\n",
      "\n",
      "See the caveats in the documentation: https://pandas.pydata.org/pandas-docs/stable/user_guide/indexing.html#returning-a-view-versus-a-copy\n",
      "  final_df[col_names] = scaler.transform(final_df)\n",
      "/home/punit/anaconda3/lib/python3.8/site-packages/pandas/core/indexing.py:1738: SettingWithCopyWarning: \n",
      "A value is trying to be set on a copy of a slice from a DataFrame.\n",
      "Try using .loc[row_indexer,col_indexer] = value instead\n",
      "\n",
      "See the caveats in the documentation: https://pandas.pydata.org/pandas-docs/stable/user_guide/indexing.html#returning-a-view-versus-a-copy\n",
      "  self._setitem_single_column(loc, value[:, i].tolist(), pi)\n"
     ]
    }
   ],
   "source": [
    "final_df[col_names] = scaler.transform(final_df)"
   ]
  },
  {
   "cell_type": "code",
   "execution_count": 114,
   "id": "db4ecec9",
   "metadata": {},
   "outputs": [
    {
     "data": {
      "text/html": [
       "<div>\n",
       "<style scoped>\n",
       "    .dataframe tbody tr th:only-of-type {\n",
       "        vertical-align: middle;\n",
       "    }\n",
       "\n",
       "    .dataframe tbody tr th {\n",
       "        vertical-align: top;\n",
       "    }\n",
       "\n",
       "    .dataframe thead th {\n",
       "        text-align: right;\n",
       "    }\n",
       "</style>\n",
       "<table border=\"1\" class=\"dataframe\">\n",
       "  <thead>\n",
       "    <tr style=\"text-align: right;\">\n",
       "      <th></th>\n",
       "      <th>area</th>\n",
       "      <th>bedrooms</th>\n",
       "      <th>bathrooms</th>\n",
       "      <th>stories</th>\n",
       "      <th>parking</th>\n",
       "      <th>mainroad_no</th>\n",
       "      <th>mainroad_yes</th>\n",
       "      <th>guestroom_no</th>\n",
       "      <th>guestroom_yes</th>\n",
       "      <th>basement_no</th>\n",
       "      <th>basement_yes</th>\n",
       "      <th>hotwaterheating_no</th>\n",
       "      <th>hotwaterheating_yes</th>\n",
       "      <th>airconditioning_no</th>\n",
       "      <th>airconditioning_yes</th>\n",
       "      <th>prefarea_no</th>\n",
       "      <th>prefarea_yes</th>\n",
       "      <th>furnishingstatus_furnished</th>\n",
       "      <th>furnishingstatus_semi-furnished</th>\n",
       "      <th>furnishingstatus_unfurnished</th>\n",
       "    </tr>\n",
       "  </thead>\n",
       "  <tbody>\n",
       "    <tr>\n",
       "      <th>0</th>\n",
       "      <td>1.046726</td>\n",
       "      <td>1.403419</td>\n",
       "      <td>1.421812</td>\n",
       "      <td>1.378217</td>\n",
       "      <td>1.517692</td>\n",
       "      <td>-0.405623</td>\n",
       "      <td>0.405623</td>\n",
       "      <td>0.465315</td>\n",
       "      <td>-0.465315</td>\n",
       "      <td>0.734539</td>\n",
       "      <td>-0.734539</td>\n",
       "      <td>0.219265</td>\n",
       "      <td>-0.219265</td>\n",
       "      <td>-1.472618</td>\n",
       "      <td>1.472618</td>\n",
       "      <td>-1.804941</td>\n",
       "      <td>1.804941</td>\n",
       "      <td>1.700840</td>\n",
       "      <td>-0.844888</td>\n",
       "      <td>-0.696429</td>\n",
       "    </tr>\n",
       "    <tr>\n",
       "      <th>1</th>\n",
       "      <td>1.757010</td>\n",
       "      <td>1.403419</td>\n",
       "      <td>5.405809</td>\n",
       "      <td>2.532024</td>\n",
       "      <td>2.679409</td>\n",
       "      <td>-0.405623</td>\n",
       "      <td>0.405623</td>\n",
       "      <td>0.465315</td>\n",
       "      <td>-0.465315</td>\n",
       "      <td>0.734539</td>\n",
       "      <td>-0.734539</td>\n",
       "      <td>0.219265</td>\n",
       "      <td>-0.219265</td>\n",
       "      <td>-1.472618</td>\n",
       "      <td>1.472618</td>\n",
       "      <td>0.554035</td>\n",
       "      <td>-0.554035</td>\n",
       "      <td>1.700840</td>\n",
       "      <td>-0.844888</td>\n",
       "      <td>-0.696429</td>\n",
       "    </tr>\n",
       "    <tr>\n",
       "      <th>2</th>\n",
       "      <td>2.218232</td>\n",
       "      <td>0.047278</td>\n",
       "      <td>1.421812</td>\n",
       "      <td>0.224410</td>\n",
       "      <td>1.517692</td>\n",
       "      <td>-0.405623</td>\n",
       "      <td>0.405623</td>\n",
       "      <td>0.465315</td>\n",
       "      <td>-0.465315</td>\n",
       "      <td>-1.361397</td>\n",
       "      <td>1.361397</td>\n",
       "      <td>0.219265</td>\n",
       "      <td>-0.219265</td>\n",
       "      <td>0.679063</td>\n",
       "      <td>-0.679063</td>\n",
       "      <td>-1.804941</td>\n",
       "      <td>1.804941</td>\n",
       "      <td>-0.587945</td>\n",
       "      <td>1.183588</td>\n",
       "      <td>-0.696429</td>\n",
       "    </tr>\n",
       "    <tr>\n",
       "      <th>3</th>\n",
       "      <td>1.083624</td>\n",
       "      <td>1.403419</td>\n",
       "      <td>1.421812</td>\n",
       "      <td>0.224410</td>\n",
       "      <td>2.679409</td>\n",
       "      <td>-0.405623</td>\n",
       "      <td>0.405623</td>\n",
       "      <td>0.465315</td>\n",
       "      <td>-0.465315</td>\n",
       "      <td>-1.361397</td>\n",
       "      <td>1.361397</td>\n",
       "      <td>0.219265</td>\n",
       "      <td>-0.219265</td>\n",
       "      <td>-1.472618</td>\n",
       "      <td>1.472618</td>\n",
       "      <td>-1.804941</td>\n",
       "      <td>1.804941</td>\n",
       "      <td>1.700840</td>\n",
       "      <td>-0.844888</td>\n",
       "      <td>-0.696429</td>\n",
       "    </tr>\n",
       "    <tr>\n",
       "      <th>4</th>\n",
       "      <td>1.046726</td>\n",
       "      <td>1.403419</td>\n",
       "      <td>-0.570187</td>\n",
       "      <td>0.224410</td>\n",
       "      <td>1.517692</td>\n",
       "      <td>-0.405623</td>\n",
       "      <td>0.405623</td>\n",
       "      <td>-2.149083</td>\n",
       "      <td>2.149083</td>\n",
       "      <td>-1.361397</td>\n",
       "      <td>1.361397</td>\n",
       "      <td>0.219265</td>\n",
       "      <td>-0.219265</td>\n",
       "      <td>-1.472618</td>\n",
       "      <td>1.472618</td>\n",
       "      <td>0.554035</td>\n",
       "      <td>-0.554035</td>\n",
       "      <td>1.700840</td>\n",
       "      <td>-0.844888</td>\n",
       "      <td>-0.696429</td>\n",
       "    </tr>\n",
       "    <tr>\n",
       "      <th>...</th>\n",
       "      <td>...</td>\n",
       "      <td>...</td>\n",
       "      <td>...</td>\n",
       "      <td>...</td>\n",
       "      <td>...</td>\n",
       "      <td>...</td>\n",
       "      <td>...</td>\n",
       "      <td>...</td>\n",
       "      <td>...</td>\n",
       "      <td>...</td>\n",
       "      <td>...</td>\n",
       "      <td>...</td>\n",
       "      <td>...</td>\n",
       "      <td>...</td>\n",
       "      <td>...</td>\n",
       "      <td>...</td>\n",
       "      <td>...</td>\n",
       "      <td>...</td>\n",
       "      <td>...</td>\n",
       "      <td>...</td>\n",
       "    </tr>\n",
       "    <tr>\n",
       "      <th>540</th>\n",
       "      <td>-0.991879</td>\n",
       "      <td>-1.308863</td>\n",
       "      <td>-0.570187</td>\n",
       "      <td>-0.929397</td>\n",
       "      <td>1.517692</td>\n",
       "      <td>-0.405623</td>\n",
       "      <td>0.405623</td>\n",
       "      <td>0.465315</td>\n",
       "      <td>-0.465315</td>\n",
       "      <td>-1.361397</td>\n",
       "      <td>1.361397</td>\n",
       "      <td>0.219265</td>\n",
       "      <td>-0.219265</td>\n",
       "      <td>0.679063</td>\n",
       "      <td>-0.679063</td>\n",
       "      <td>0.554035</td>\n",
       "      <td>-0.554035</td>\n",
       "      <td>-0.587945</td>\n",
       "      <td>-0.844888</td>\n",
       "      <td>1.435896</td>\n",
       "    </tr>\n",
       "    <tr>\n",
       "      <th>541</th>\n",
       "      <td>-1.268613</td>\n",
       "      <td>0.047278</td>\n",
       "      <td>-0.570187</td>\n",
       "      <td>-0.929397</td>\n",
       "      <td>-0.805741</td>\n",
       "      <td>2.465344</td>\n",
       "      <td>-2.465344</td>\n",
       "      <td>0.465315</td>\n",
       "      <td>-0.465315</td>\n",
       "      <td>0.734539</td>\n",
       "      <td>-0.734539</td>\n",
       "      <td>0.219265</td>\n",
       "      <td>-0.219265</td>\n",
       "      <td>0.679063</td>\n",
       "      <td>-0.679063</td>\n",
       "      <td>0.554035</td>\n",
       "      <td>-0.554035</td>\n",
       "      <td>-0.587945</td>\n",
       "      <td>1.183588</td>\n",
       "      <td>-0.696429</td>\n",
       "    </tr>\n",
       "    <tr>\n",
       "      <th>542</th>\n",
       "      <td>-0.705921</td>\n",
       "      <td>-1.308863</td>\n",
       "      <td>-0.570187</td>\n",
       "      <td>-0.929397</td>\n",
       "      <td>-0.805741</td>\n",
       "      <td>-0.405623</td>\n",
       "      <td>0.405623</td>\n",
       "      <td>0.465315</td>\n",
       "      <td>-0.465315</td>\n",
       "      <td>0.734539</td>\n",
       "      <td>-0.734539</td>\n",
       "      <td>0.219265</td>\n",
       "      <td>-0.219265</td>\n",
       "      <td>0.679063</td>\n",
       "      <td>-0.679063</td>\n",
       "      <td>0.554035</td>\n",
       "      <td>-0.554035</td>\n",
       "      <td>-0.587945</td>\n",
       "      <td>-0.844888</td>\n",
       "      <td>1.435896</td>\n",
       "    </tr>\n",
       "    <tr>\n",
       "      <th>543</th>\n",
       "      <td>-1.033389</td>\n",
       "      <td>0.047278</td>\n",
       "      <td>-0.570187</td>\n",
       "      <td>-0.929397</td>\n",
       "      <td>-0.805741</td>\n",
       "      <td>2.465344</td>\n",
       "      <td>-2.465344</td>\n",
       "      <td>0.465315</td>\n",
       "      <td>-0.465315</td>\n",
       "      <td>0.734539</td>\n",
       "      <td>-0.734539</td>\n",
       "      <td>0.219265</td>\n",
       "      <td>-0.219265</td>\n",
       "      <td>0.679063</td>\n",
       "      <td>-0.679063</td>\n",
       "      <td>0.554035</td>\n",
       "      <td>-0.554035</td>\n",
       "      <td>1.700840</td>\n",
       "      <td>-0.844888</td>\n",
       "      <td>-0.696429</td>\n",
       "    </tr>\n",
       "    <tr>\n",
       "      <th>544</th>\n",
       "      <td>-0.599839</td>\n",
       "      <td>0.047278</td>\n",
       "      <td>-0.570187</td>\n",
       "      <td>0.224410</td>\n",
       "      <td>-0.805741</td>\n",
       "      <td>-0.405623</td>\n",
       "      <td>0.405623</td>\n",
       "      <td>0.465315</td>\n",
       "      <td>-0.465315</td>\n",
       "      <td>0.734539</td>\n",
       "      <td>-0.734539</td>\n",
       "      <td>0.219265</td>\n",
       "      <td>-0.219265</td>\n",
       "      <td>0.679063</td>\n",
       "      <td>-0.679063</td>\n",
       "      <td>0.554035</td>\n",
       "      <td>-0.554035</td>\n",
       "      <td>-0.587945</td>\n",
       "      <td>-0.844888</td>\n",
       "      <td>1.435896</td>\n",
       "    </tr>\n",
       "  </tbody>\n",
       "</table>\n",
       "<p>545 rows × 20 columns</p>\n",
       "</div>"
      ],
      "text/plain": [
       "         area  bedrooms  bathrooms   stories   parking  mainroad_no  \\\n",
       "0    1.046726  1.403419   1.421812  1.378217  1.517692    -0.405623   \n",
       "1    1.757010  1.403419   5.405809  2.532024  2.679409    -0.405623   \n",
       "2    2.218232  0.047278   1.421812  0.224410  1.517692    -0.405623   \n",
       "3    1.083624  1.403419   1.421812  0.224410  2.679409    -0.405623   \n",
       "4    1.046726  1.403419  -0.570187  0.224410  1.517692    -0.405623   \n",
       "..        ...       ...        ...       ...       ...          ...   \n",
       "540 -0.991879 -1.308863  -0.570187 -0.929397  1.517692    -0.405623   \n",
       "541 -1.268613  0.047278  -0.570187 -0.929397 -0.805741     2.465344   \n",
       "542 -0.705921 -1.308863  -0.570187 -0.929397 -0.805741    -0.405623   \n",
       "543 -1.033389  0.047278  -0.570187 -0.929397 -0.805741     2.465344   \n",
       "544 -0.599839  0.047278  -0.570187  0.224410 -0.805741    -0.405623   \n",
       "\n",
       "     mainroad_yes  guestroom_no  guestroom_yes  basement_no  basement_yes  \\\n",
       "0        0.405623      0.465315      -0.465315     0.734539     -0.734539   \n",
       "1        0.405623      0.465315      -0.465315     0.734539     -0.734539   \n",
       "2        0.405623      0.465315      -0.465315    -1.361397      1.361397   \n",
       "3        0.405623      0.465315      -0.465315    -1.361397      1.361397   \n",
       "4        0.405623     -2.149083       2.149083    -1.361397      1.361397   \n",
       "..            ...           ...            ...          ...           ...   \n",
       "540      0.405623      0.465315      -0.465315    -1.361397      1.361397   \n",
       "541     -2.465344      0.465315      -0.465315     0.734539     -0.734539   \n",
       "542      0.405623      0.465315      -0.465315     0.734539     -0.734539   \n",
       "543     -2.465344      0.465315      -0.465315     0.734539     -0.734539   \n",
       "544      0.405623      0.465315      -0.465315     0.734539     -0.734539   \n",
       "\n",
       "     hotwaterheating_no  hotwaterheating_yes  airconditioning_no  \\\n",
       "0              0.219265            -0.219265           -1.472618   \n",
       "1              0.219265            -0.219265           -1.472618   \n",
       "2              0.219265            -0.219265            0.679063   \n",
       "3              0.219265            -0.219265           -1.472618   \n",
       "4              0.219265            -0.219265           -1.472618   \n",
       "..                  ...                  ...                 ...   \n",
       "540            0.219265            -0.219265            0.679063   \n",
       "541            0.219265            -0.219265            0.679063   \n",
       "542            0.219265            -0.219265            0.679063   \n",
       "543            0.219265            -0.219265            0.679063   \n",
       "544            0.219265            -0.219265            0.679063   \n",
       "\n",
       "     airconditioning_yes  prefarea_no  prefarea_yes  \\\n",
       "0               1.472618    -1.804941      1.804941   \n",
       "1               1.472618     0.554035     -0.554035   \n",
       "2              -0.679063    -1.804941      1.804941   \n",
       "3               1.472618    -1.804941      1.804941   \n",
       "4               1.472618     0.554035     -0.554035   \n",
       "..                   ...          ...           ...   \n",
       "540            -0.679063     0.554035     -0.554035   \n",
       "541            -0.679063     0.554035     -0.554035   \n",
       "542            -0.679063     0.554035     -0.554035   \n",
       "543            -0.679063     0.554035     -0.554035   \n",
       "544            -0.679063     0.554035     -0.554035   \n",
       "\n",
       "     furnishingstatus_furnished  furnishingstatus_semi-furnished  \\\n",
       "0                      1.700840                        -0.844888   \n",
       "1                      1.700840                        -0.844888   \n",
       "2                     -0.587945                         1.183588   \n",
       "3                      1.700840                        -0.844888   \n",
       "4                      1.700840                        -0.844888   \n",
       "..                          ...                              ...   \n",
       "540                   -0.587945                        -0.844888   \n",
       "541                   -0.587945                         1.183588   \n",
       "542                   -0.587945                        -0.844888   \n",
       "543                    1.700840                        -0.844888   \n",
       "544                   -0.587945                        -0.844888   \n",
       "\n",
       "     furnishingstatus_unfurnished  \n",
       "0                       -0.696429  \n",
       "1                       -0.696429  \n",
       "2                       -0.696429  \n",
       "3                       -0.696429  \n",
       "4                       -0.696429  \n",
       "..                            ...  \n",
       "540                      1.435896  \n",
       "541                     -0.696429  \n",
       "542                      1.435896  \n",
       "543                     -0.696429  \n",
       "544                      1.435896  \n",
       "\n",
       "[545 rows x 20 columns]"
      ]
     },
     "execution_count": 114,
     "metadata": {},
     "output_type": "execute_result"
    }
   ],
   "source": [
    "final_df"
   ]
  },
  {
   "cell_type": "code",
   "execution_count": 119,
   "id": "ca12b44d",
   "metadata": {},
   "outputs": [
    {
     "data": {
      "text/html": [
       "<div>\n",
       "<style scoped>\n",
       "    .dataframe tbody tr th:only-of-type {\n",
       "        vertical-align: middle;\n",
       "    }\n",
       "\n",
       "    .dataframe tbody tr th {\n",
       "        vertical-align: top;\n",
       "    }\n",
       "\n",
       "    .dataframe thead th {\n",
       "        text-align: right;\n",
       "    }\n",
       "</style>\n",
       "<table border=\"1\" class=\"dataframe\">\n",
       "  <thead>\n",
       "    <tr style=\"text-align: right;\">\n",
       "      <th></th>\n",
       "      <th>area</th>\n",
       "      <th>bedrooms</th>\n",
       "      <th>bathrooms</th>\n",
       "      <th>stories</th>\n",
       "      <th>parking</th>\n",
       "      <th>mainroad_no</th>\n",
       "      <th>mainroad_yes</th>\n",
       "      <th>guestroom_no</th>\n",
       "      <th>guestroom_yes</th>\n",
       "      <th>basement_no</th>\n",
       "      <th>basement_yes</th>\n",
       "      <th>hotwaterheating_no</th>\n",
       "      <th>hotwaterheating_yes</th>\n",
       "      <th>airconditioning_no</th>\n",
       "      <th>airconditioning_yes</th>\n",
       "      <th>prefarea_no</th>\n",
       "      <th>prefarea_yes</th>\n",
       "      <th>furnishingstatus_furnished</th>\n",
       "      <th>furnishingstatus_semi-furnished</th>\n",
       "      <th>furnishingstatus_unfurnished</th>\n",
       "    </tr>\n",
       "  </thead>\n",
       "  <tbody>\n",
       "    <tr>\n",
       "      <th>0</th>\n",
       "      <td>1.046726</td>\n",
       "      <td>1.403419</td>\n",
       "      <td>1.421812</td>\n",
       "      <td>1.378217</td>\n",
       "      <td>1.517692</td>\n",
       "      <td>-0.405623</td>\n",
       "      <td>0.405623</td>\n",
       "      <td>0.465315</td>\n",
       "      <td>-0.465315</td>\n",
       "      <td>0.734539</td>\n",
       "      <td>-0.734539</td>\n",
       "      <td>0.219265</td>\n",
       "      <td>-0.219265</td>\n",
       "      <td>-1.472618</td>\n",
       "      <td>1.472618</td>\n",
       "      <td>-1.804941</td>\n",
       "      <td>1.804941</td>\n",
       "      <td>1.700840</td>\n",
       "      <td>-0.844888</td>\n",
       "      <td>-0.696429</td>\n",
       "    </tr>\n",
       "    <tr>\n",
       "      <th>1</th>\n",
       "      <td>1.757010</td>\n",
       "      <td>1.403419</td>\n",
       "      <td>5.405809</td>\n",
       "      <td>2.532024</td>\n",
       "      <td>2.679409</td>\n",
       "      <td>-0.405623</td>\n",
       "      <td>0.405623</td>\n",
       "      <td>0.465315</td>\n",
       "      <td>-0.465315</td>\n",
       "      <td>0.734539</td>\n",
       "      <td>-0.734539</td>\n",
       "      <td>0.219265</td>\n",
       "      <td>-0.219265</td>\n",
       "      <td>-1.472618</td>\n",
       "      <td>1.472618</td>\n",
       "      <td>0.554035</td>\n",
       "      <td>-0.554035</td>\n",
       "      <td>1.700840</td>\n",
       "      <td>-0.844888</td>\n",
       "      <td>-0.696429</td>\n",
       "    </tr>\n",
       "    <tr>\n",
       "      <th>2</th>\n",
       "      <td>2.218232</td>\n",
       "      <td>0.047278</td>\n",
       "      <td>1.421812</td>\n",
       "      <td>0.224410</td>\n",
       "      <td>1.517692</td>\n",
       "      <td>-0.405623</td>\n",
       "      <td>0.405623</td>\n",
       "      <td>0.465315</td>\n",
       "      <td>-0.465315</td>\n",
       "      <td>-1.361397</td>\n",
       "      <td>1.361397</td>\n",
       "      <td>0.219265</td>\n",
       "      <td>-0.219265</td>\n",
       "      <td>0.679063</td>\n",
       "      <td>-0.679063</td>\n",
       "      <td>-1.804941</td>\n",
       "      <td>1.804941</td>\n",
       "      <td>-0.587945</td>\n",
       "      <td>1.183588</td>\n",
       "      <td>-0.696429</td>\n",
       "    </tr>\n",
       "    <tr>\n",
       "      <th>3</th>\n",
       "      <td>1.083624</td>\n",
       "      <td>1.403419</td>\n",
       "      <td>1.421812</td>\n",
       "      <td>0.224410</td>\n",
       "      <td>2.679409</td>\n",
       "      <td>-0.405623</td>\n",
       "      <td>0.405623</td>\n",
       "      <td>0.465315</td>\n",
       "      <td>-0.465315</td>\n",
       "      <td>-1.361397</td>\n",
       "      <td>1.361397</td>\n",
       "      <td>0.219265</td>\n",
       "      <td>-0.219265</td>\n",
       "      <td>-1.472618</td>\n",
       "      <td>1.472618</td>\n",
       "      <td>-1.804941</td>\n",
       "      <td>1.804941</td>\n",
       "      <td>1.700840</td>\n",
       "      <td>-0.844888</td>\n",
       "      <td>-0.696429</td>\n",
       "    </tr>\n",
       "    <tr>\n",
       "      <th>4</th>\n",
       "      <td>1.046726</td>\n",
       "      <td>1.403419</td>\n",
       "      <td>-0.570187</td>\n",
       "      <td>0.224410</td>\n",
       "      <td>1.517692</td>\n",
       "      <td>-0.405623</td>\n",
       "      <td>0.405623</td>\n",
       "      <td>-2.149083</td>\n",
       "      <td>2.149083</td>\n",
       "      <td>-1.361397</td>\n",
       "      <td>1.361397</td>\n",
       "      <td>0.219265</td>\n",
       "      <td>-0.219265</td>\n",
       "      <td>-1.472618</td>\n",
       "      <td>1.472618</td>\n",
       "      <td>0.554035</td>\n",
       "      <td>-0.554035</td>\n",
       "      <td>1.700840</td>\n",
       "      <td>-0.844888</td>\n",
       "      <td>-0.696429</td>\n",
       "    </tr>\n",
       "    <tr>\n",
       "      <th>...</th>\n",
       "      <td>...</td>\n",
       "      <td>...</td>\n",
       "      <td>...</td>\n",
       "      <td>...</td>\n",
       "      <td>...</td>\n",
       "      <td>...</td>\n",
       "      <td>...</td>\n",
       "      <td>...</td>\n",
       "      <td>...</td>\n",
       "      <td>...</td>\n",
       "      <td>...</td>\n",
       "      <td>...</td>\n",
       "      <td>...</td>\n",
       "      <td>...</td>\n",
       "      <td>...</td>\n",
       "      <td>...</td>\n",
       "      <td>...</td>\n",
       "      <td>...</td>\n",
       "      <td>...</td>\n",
       "      <td>...</td>\n",
       "    </tr>\n",
       "    <tr>\n",
       "      <th>540</th>\n",
       "      <td>-0.991879</td>\n",
       "      <td>-1.308863</td>\n",
       "      <td>-0.570187</td>\n",
       "      <td>-0.929397</td>\n",
       "      <td>1.517692</td>\n",
       "      <td>-0.405623</td>\n",
       "      <td>0.405623</td>\n",
       "      <td>0.465315</td>\n",
       "      <td>-0.465315</td>\n",
       "      <td>-1.361397</td>\n",
       "      <td>1.361397</td>\n",
       "      <td>0.219265</td>\n",
       "      <td>-0.219265</td>\n",
       "      <td>0.679063</td>\n",
       "      <td>-0.679063</td>\n",
       "      <td>0.554035</td>\n",
       "      <td>-0.554035</td>\n",
       "      <td>-0.587945</td>\n",
       "      <td>-0.844888</td>\n",
       "      <td>1.435896</td>\n",
       "    </tr>\n",
       "    <tr>\n",
       "      <th>541</th>\n",
       "      <td>-1.268613</td>\n",
       "      <td>0.047278</td>\n",
       "      <td>-0.570187</td>\n",
       "      <td>-0.929397</td>\n",
       "      <td>-0.805741</td>\n",
       "      <td>2.465344</td>\n",
       "      <td>-2.465344</td>\n",
       "      <td>0.465315</td>\n",
       "      <td>-0.465315</td>\n",
       "      <td>0.734539</td>\n",
       "      <td>-0.734539</td>\n",
       "      <td>0.219265</td>\n",
       "      <td>-0.219265</td>\n",
       "      <td>0.679063</td>\n",
       "      <td>-0.679063</td>\n",
       "      <td>0.554035</td>\n",
       "      <td>-0.554035</td>\n",
       "      <td>-0.587945</td>\n",
       "      <td>1.183588</td>\n",
       "      <td>-0.696429</td>\n",
       "    </tr>\n",
       "    <tr>\n",
       "      <th>542</th>\n",
       "      <td>-0.705921</td>\n",
       "      <td>-1.308863</td>\n",
       "      <td>-0.570187</td>\n",
       "      <td>-0.929397</td>\n",
       "      <td>-0.805741</td>\n",
       "      <td>-0.405623</td>\n",
       "      <td>0.405623</td>\n",
       "      <td>0.465315</td>\n",
       "      <td>-0.465315</td>\n",
       "      <td>0.734539</td>\n",
       "      <td>-0.734539</td>\n",
       "      <td>0.219265</td>\n",
       "      <td>-0.219265</td>\n",
       "      <td>0.679063</td>\n",
       "      <td>-0.679063</td>\n",
       "      <td>0.554035</td>\n",
       "      <td>-0.554035</td>\n",
       "      <td>-0.587945</td>\n",
       "      <td>-0.844888</td>\n",
       "      <td>1.435896</td>\n",
       "    </tr>\n",
       "    <tr>\n",
       "      <th>543</th>\n",
       "      <td>-1.033389</td>\n",
       "      <td>0.047278</td>\n",
       "      <td>-0.570187</td>\n",
       "      <td>-0.929397</td>\n",
       "      <td>-0.805741</td>\n",
       "      <td>2.465344</td>\n",
       "      <td>-2.465344</td>\n",
       "      <td>0.465315</td>\n",
       "      <td>-0.465315</td>\n",
       "      <td>0.734539</td>\n",
       "      <td>-0.734539</td>\n",
       "      <td>0.219265</td>\n",
       "      <td>-0.219265</td>\n",
       "      <td>0.679063</td>\n",
       "      <td>-0.679063</td>\n",
       "      <td>0.554035</td>\n",
       "      <td>-0.554035</td>\n",
       "      <td>1.700840</td>\n",
       "      <td>-0.844888</td>\n",
       "      <td>-0.696429</td>\n",
       "    </tr>\n",
       "    <tr>\n",
       "      <th>544</th>\n",
       "      <td>-0.599839</td>\n",
       "      <td>0.047278</td>\n",
       "      <td>-0.570187</td>\n",
       "      <td>0.224410</td>\n",
       "      <td>-0.805741</td>\n",
       "      <td>-0.405623</td>\n",
       "      <td>0.405623</td>\n",
       "      <td>0.465315</td>\n",
       "      <td>-0.465315</td>\n",
       "      <td>0.734539</td>\n",
       "      <td>-0.734539</td>\n",
       "      <td>0.219265</td>\n",
       "      <td>-0.219265</td>\n",
       "      <td>0.679063</td>\n",
       "      <td>-0.679063</td>\n",
       "      <td>0.554035</td>\n",
       "      <td>-0.554035</td>\n",
       "      <td>-0.587945</td>\n",
       "      <td>-0.844888</td>\n",
       "      <td>1.435896</td>\n",
       "    </tr>\n",
       "  </tbody>\n",
       "</table>\n",
       "<p>545 rows × 20 columns</p>\n",
       "</div>"
      ],
      "text/plain": [
       "         area  bedrooms  bathrooms   stories   parking  mainroad_no  \\\n",
       "0    1.046726  1.403419   1.421812  1.378217  1.517692    -0.405623   \n",
       "1    1.757010  1.403419   5.405809  2.532024  2.679409    -0.405623   \n",
       "2    2.218232  0.047278   1.421812  0.224410  1.517692    -0.405623   \n",
       "3    1.083624  1.403419   1.421812  0.224410  2.679409    -0.405623   \n",
       "4    1.046726  1.403419  -0.570187  0.224410  1.517692    -0.405623   \n",
       "..        ...       ...        ...       ...       ...          ...   \n",
       "540 -0.991879 -1.308863  -0.570187 -0.929397  1.517692    -0.405623   \n",
       "541 -1.268613  0.047278  -0.570187 -0.929397 -0.805741     2.465344   \n",
       "542 -0.705921 -1.308863  -0.570187 -0.929397 -0.805741    -0.405623   \n",
       "543 -1.033389  0.047278  -0.570187 -0.929397 -0.805741     2.465344   \n",
       "544 -0.599839  0.047278  -0.570187  0.224410 -0.805741    -0.405623   \n",
       "\n",
       "     mainroad_yes  guestroom_no  guestroom_yes  basement_no  basement_yes  \\\n",
       "0        0.405623      0.465315      -0.465315     0.734539     -0.734539   \n",
       "1        0.405623      0.465315      -0.465315     0.734539     -0.734539   \n",
       "2        0.405623      0.465315      -0.465315    -1.361397      1.361397   \n",
       "3        0.405623      0.465315      -0.465315    -1.361397      1.361397   \n",
       "4        0.405623     -2.149083       2.149083    -1.361397      1.361397   \n",
       "..            ...           ...            ...          ...           ...   \n",
       "540      0.405623      0.465315      -0.465315    -1.361397      1.361397   \n",
       "541     -2.465344      0.465315      -0.465315     0.734539     -0.734539   \n",
       "542      0.405623      0.465315      -0.465315     0.734539     -0.734539   \n",
       "543     -2.465344      0.465315      -0.465315     0.734539     -0.734539   \n",
       "544      0.405623      0.465315      -0.465315     0.734539     -0.734539   \n",
       "\n",
       "     hotwaterheating_no  hotwaterheating_yes  airconditioning_no  \\\n",
       "0              0.219265            -0.219265           -1.472618   \n",
       "1              0.219265            -0.219265           -1.472618   \n",
       "2              0.219265            -0.219265            0.679063   \n",
       "3              0.219265            -0.219265           -1.472618   \n",
       "4              0.219265            -0.219265           -1.472618   \n",
       "..                  ...                  ...                 ...   \n",
       "540            0.219265            -0.219265            0.679063   \n",
       "541            0.219265            -0.219265            0.679063   \n",
       "542            0.219265            -0.219265            0.679063   \n",
       "543            0.219265            -0.219265            0.679063   \n",
       "544            0.219265            -0.219265            0.679063   \n",
       "\n",
       "     airconditioning_yes  prefarea_no  prefarea_yes  \\\n",
       "0               1.472618    -1.804941      1.804941   \n",
       "1               1.472618     0.554035     -0.554035   \n",
       "2              -0.679063    -1.804941      1.804941   \n",
       "3               1.472618    -1.804941      1.804941   \n",
       "4               1.472618     0.554035     -0.554035   \n",
       "..                   ...          ...           ...   \n",
       "540            -0.679063     0.554035     -0.554035   \n",
       "541            -0.679063     0.554035     -0.554035   \n",
       "542            -0.679063     0.554035     -0.554035   \n",
       "543            -0.679063     0.554035     -0.554035   \n",
       "544            -0.679063     0.554035     -0.554035   \n",
       "\n",
       "     furnishingstatus_furnished  furnishingstatus_semi-furnished  \\\n",
       "0                      1.700840                        -0.844888   \n",
       "1                      1.700840                        -0.844888   \n",
       "2                     -0.587945                         1.183588   \n",
       "3                      1.700840                        -0.844888   \n",
       "4                      1.700840                        -0.844888   \n",
       "..                          ...                              ...   \n",
       "540                   -0.587945                        -0.844888   \n",
       "541                   -0.587945                         1.183588   \n",
       "542                   -0.587945                        -0.844888   \n",
       "543                    1.700840                        -0.844888   \n",
       "544                   -0.587945                        -0.844888   \n",
       "\n",
       "     furnishingstatus_unfurnished  \n",
       "0                       -0.696429  \n",
       "1                       -0.696429  \n",
       "2                       -0.696429  \n",
       "3                       -0.696429  \n",
       "4                       -0.696429  \n",
       "..                            ...  \n",
       "540                      1.435896  \n",
       "541                     -0.696429  \n",
       "542                      1.435896  \n",
       "543                     -0.696429  \n",
       "544                      1.435896  \n",
       "\n",
       "[545 rows x 20 columns]"
      ]
     },
     "execution_count": 119,
     "metadata": {},
     "output_type": "execute_result"
    }
   ],
   "source": [
    "final_df"
   ]
  },
  {
   "cell_type": "code",
   "execution_count": 117,
   "id": "d8670aaf",
   "metadata": {},
   "outputs": [],
   "source": [
    "target_df = df[target]"
   ]
  },
  {
   "cell_type": "code",
   "execution_count": 118,
   "id": "9b4ffcdf",
   "metadata": {},
   "outputs": [
    {
     "data": {
      "text/plain": [
       "0      13300000\n",
       "1      12250000\n",
       "2      12250000\n",
       "3      12215000\n",
       "4      11410000\n",
       "         ...   \n",
       "540     1820000\n",
       "541     1767150\n",
       "542     1750000\n",
       "543     1750000\n",
       "544     1750000\n",
       "Name: price, Length: 545, dtype: int64"
      ]
     },
     "execution_count": 118,
     "metadata": {},
     "output_type": "execute_result"
    }
   ],
   "source": [
    "target_df"
   ]
  },
  {
   "cell_type": "code",
   "execution_count": 120,
   "id": "91225d2b",
   "metadata": {},
   "outputs": [],
   "source": [
    "from sklearn.model_selection import train_test_split"
   ]
  },
  {
   "cell_type": "code",
   "execution_count": 138,
   "id": "b412b5fe",
   "metadata": {},
   "outputs": [],
   "source": [
    "x_train,x_test,y_train,y_test = train_test_split(final_df,target_df,test_size=0.25,random_state=0)"
   ]
  },
  {
   "cell_type": "code",
   "execution_count": 139,
   "id": "af168048",
   "metadata": {},
   "outputs": [
    {
     "data": {
      "text/html": [
       "<div>\n",
       "<style scoped>\n",
       "    .dataframe tbody tr th:only-of-type {\n",
       "        vertical-align: middle;\n",
       "    }\n",
       "\n",
       "    .dataframe tbody tr th {\n",
       "        vertical-align: top;\n",
       "    }\n",
       "\n",
       "    .dataframe thead th {\n",
       "        text-align: right;\n",
       "    }\n",
       "</style>\n",
       "<table border=\"1\" class=\"dataframe\">\n",
       "  <thead>\n",
       "    <tr style=\"text-align: right;\">\n",
       "      <th></th>\n",
       "      <th>area</th>\n",
       "      <th>bedrooms</th>\n",
       "      <th>bathrooms</th>\n",
       "      <th>stories</th>\n",
       "      <th>parking</th>\n",
       "      <th>mainroad_no</th>\n",
       "      <th>mainroad_yes</th>\n",
       "      <th>guestroom_no</th>\n",
       "      <th>guestroom_yes</th>\n",
       "      <th>basement_no</th>\n",
       "      <th>basement_yes</th>\n",
       "      <th>hotwaterheating_no</th>\n",
       "      <th>hotwaterheating_yes</th>\n",
       "      <th>airconditioning_no</th>\n",
       "      <th>airconditioning_yes</th>\n",
       "      <th>prefarea_no</th>\n",
       "      <th>prefarea_yes</th>\n",
       "      <th>furnishingstatus_furnished</th>\n",
       "      <th>furnishingstatus_semi-furnished</th>\n",
       "      <th>furnishingstatus_unfurnished</th>\n",
       "    </tr>\n",
       "  </thead>\n",
       "  <tbody>\n",
       "    <tr>\n",
       "      <th>498</th>\n",
       "      <td>-1.453102</td>\n",
       "      <td>-1.308863</td>\n",
       "      <td>-0.570187</td>\n",
       "      <td>0.224410</td>\n",
       "      <td>-0.805741</td>\n",
       "      <td>-0.405623</td>\n",
       "      <td>0.405623</td>\n",
       "      <td>0.465315</td>\n",
       "      <td>-0.465315</td>\n",
       "      <td>0.734539</td>\n",
       "      <td>-0.734539</td>\n",
       "      <td>0.219265</td>\n",
       "      <td>-0.219265</td>\n",
       "      <td>0.679063</td>\n",
       "      <td>-0.679063</td>\n",
       "      <td>0.554035</td>\n",
       "      <td>-0.554035</td>\n",
       "      <td>-0.587945</td>\n",
       "      <td>1.183588</td>\n",
       "      <td>-0.696429</td>\n",
       "    </tr>\n",
       "    <tr>\n",
       "      <th>531</th>\n",
       "      <td>0.068934</td>\n",
       "      <td>0.047278</td>\n",
       "      <td>-0.570187</td>\n",
       "      <td>-0.929397</td>\n",
       "      <td>-0.805741</td>\n",
       "      <td>2.465344</td>\n",
       "      <td>-2.465344</td>\n",
       "      <td>0.465315</td>\n",
       "      <td>-0.465315</td>\n",
       "      <td>0.734539</td>\n",
       "      <td>-0.734539</td>\n",
       "      <td>0.219265</td>\n",
       "      <td>-0.219265</td>\n",
       "      <td>-1.472618</td>\n",
       "      <td>1.472618</td>\n",
       "      <td>-1.804941</td>\n",
       "      <td>1.804941</td>\n",
       "      <td>-0.587945</td>\n",
       "      <td>-0.844888</td>\n",
       "      <td>1.435896</td>\n",
       "    </tr>\n",
       "    <tr>\n",
       "      <th>532</th>\n",
       "      <td>-0.991879</td>\n",
       "      <td>-1.308863</td>\n",
       "      <td>-0.570187</td>\n",
       "      <td>-0.929397</td>\n",
       "      <td>-0.805741</td>\n",
       "      <td>2.465344</td>\n",
       "      <td>-2.465344</td>\n",
       "      <td>0.465315</td>\n",
       "      <td>-0.465315</td>\n",
       "      <td>0.734539</td>\n",
       "      <td>-0.734539</td>\n",
       "      <td>0.219265</td>\n",
       "      <td>-0.219265</td>\n",
       "      <td>0.679063</td>\n",
       "      <td>-0.679063</td>\n",
       "      <td>0.554035</td>\n",
       "      <td>-0.554035</td>\n",
       "      <td>-0.587945</td>\n",
       "      <td>-0.844888</td>\n",
       "      <td>1.435896</td>\n",
       "    </tr>\n",
       "    <tr>\n",
       "      <th>278</th>\n",
       "      <td>-0.807390</td>\n",
       "      <td>0.047278</td>\n",
       "      <td>-0.570187</td>\n",
       "      <td>0.224410</td>\n",
       "      <td>1.517692</td>\n",
       "      <td>-0.405623</td>\n",
       "      <td>0.405623</td>\n",
       "      <td>0.465315</td>\n",
       "      <td>-0.465315</td>\n",
       "      <td>-1.361397</td>\n",
       "      <td>1.361397</td>\n",
       "      <td>0.219265</td>\n",
       "      <td>-0.219265</td>\n",
       "      <td>0.679063</td>\n",
       "      <td>-0.679063</td>\n",
       "      <td>-1.804941</td>\n",
       "      <td>1.804941</td>\n",
       "      <td>-0.587945</td>\n",
       "      <td>1.183588</td>\n",
       "      <td>-0.696429</td>\n",
       "    </tr>\n",
       "    <tr>\n",
       "      <th>101</th>\n",
       "      <td>0.161178</td>\n",
       "      <td>0.047278</td>\n",
       "      <td>-0.570187</td>\n",
       "      <td>1.378217</td>\n",
       "      <td>0.355976</td>\n",
       "      <td>-0.405623</td>\n",
       "      <td>0.405623</td>\n",
       "      <td>0.465315</td>\n",
       "      <td>-0.465315</td>\n",
       "      <td>0.734539</td>\n",
       "      <td>-0.734539</td>\n",
       "      <td>0.219265</td>\n",
       "      <td>-0.219265</td>\n",
       "      <td>0.679063</td>\n",
       "      <td>-0.679063</td>\n",
       "      <td>-1.804941</td>\n",
       "      <td>1.804941</td>\n",
       "      <td>-0.587945</td>\n",
       "      <td>-0.844888</td>\n",
       "      <td>1.435896</td>\n",
       "    </tr>\n",
       "    <tr>\n",
       "      <th>...</th>\n",
       "      <td>...</td>\n",
       "      <td>...</td>\n",
       "      <td>...</td>\n",
       "      <td>...</td>\n",
       "      <td>...</td>\n",
       "      <td>...</td>\n",
       "      <td>...</td>\n",
       "      <td>...</td>\n",
       "      <td>...</td>\n",
       "      <td>...</td>\n",
       "      <td>...</td>\n",
       "      <td>...</td>\n",
       "      <td>...</td>\n",
       "      <td>...</td>\n",
       "      <td>...</td>\n",
       "      <td>...</td>\n",
       "      <td>...</td>\n",
       "      <td>...</td>\n",
       "      <td>...</td>\n",
       "      <td>...</td>\n",
       "    </tr>\n",
       "    <tr>\n",
       "      <th>70</th>\n",
       "      <td>-0.530656</td>\n",
       "      <td>0.047278</td>\n",
       "      <td>1.421812</td>\n",
       "      <td>0.224410</td>\n",
       "      <td>-0.805741</td>\n",
       "      <td>-0.405623</td>\n",
       "      <td>0.405623</td>\n",
       "      <td>0.465315</td>\n",
       "      <td>-0.465315</td>\n",
       "      <td>-1.361397</td>\n",
       "      <td>1.361397</td>\n",
       "      <td>0.219265</td>\n",
       "      <td>-0.219265</td>\n",
       "      <td>-1.472618</td>\n",
       "      <td>1.472618</td>\n",
       "      <td>-1.804941</td>\n",
       "      <td>1.804941</td>\n",
       "      <td>-0.587945</td>\n",
       "      <td>1.183588</td>\n",
       "      <td>-0.696429</td>\n",
       "    </tr>\n",
       "    <tr>\n",
       "      <th>277</th>\n",
       "      <td>2.402722</td>\n",
       "      <td>-1.308863</td>\n",
       "      <td>-0.570187</td>\n",
       "      <td>-0.929397</td>\n",
       "      <td>0.355976</td>\n",
       "      <td>-0.405623</td>\n",
       "      <td>0.405623</td>\n",
       "      <td>0.465315</td>\n",
       "      <td>-0.465315</td>\n",
       "      <td>0.734539</td>\n",
       "      <td>-0.734539</td>\n",
       "      <td>0.219265</td>\n",
       "      <td>-0.219265</td>\n",
       "      <td>0.679063</td>\n",
       "      <td>-0.679063</td>\n",
       "      <td>-1.804941</td>\n",
       "      <td>1.804941</td>\n",
       "      <td>-0.587945</td>\n",
       "      <td>1.183588</td>\n",
       "      <td>-0.696429</td>\n",
       "    </tr>\n",
       "    <tr>\n",
       "      <th>9</th>\n",
       "      <td>0.276484</td>\n",
       "      <td>0.047278</td>\n",
       "      <td>1.421812</td>\n",
       "      <td>2.532024</td>\n",
       "      <td>0.355976</td>\n",
       "      <td>-0.405623</td>\n",
       "      <td>0.405623</td>\n",
       "      <td>-2.149083</td>\n",
       "      <td>2.149083</td>\n",
       "      <td>0.734539</td>\n",
       "      <td>-0.734539</td>\n",
       "      <td>0.219265</td>\n",
       "      <td>-0.219265</td>\n",
       "      <td>-1.472618</td>\n",
       "      <td>1.472618</td>\n",
       "      <td>-1.804941</td>\n",
       "      <td>1.804941</td>\n",
       "      <td>-0.587945</td>\n",
       "      <td>-0.844888</td>\n",
       "      <td>1.435896</td>\n",
       "    </tr>\n",
       "    <tr>\n",
       "      <th>359</th>\n",
       "      <td>-0.715145</td>\n",
       "      <td>0.047278</td>\n",
       "      <td>-0.570187</td>\n",
       "      <td>-0.929397</td>\n",
       "      <td>0.355976</td>\n",
       "      <td>-0.405623</td>\n",
       "      <td>0.405623</td>\n",
       "      <td>0.465315</td>\n",
       "      <td>-0.465315</td>\n",
       "      <td>0.734539</td>\n",
       "      <td>-0.734539</td>\n",
       "      <td>0.219265</td>\n",
       "      <td>-0.219265</td>\n",
       "      <td>0.679063</td>\n",
       "      <td>-0.679063</td>\n",
       "      <td>0.554035</td>\n",
       "      <td>-0.554035</td>\n",
       "      <td>-0.587945</td>\n",
       "      <td>-0.844888</td>\n",
       "      <td>1.435896</td>\n",
       "    </tr>\n",
       "    <tr>\n",
       "      <th>192</th>\n",
       "      <td>0.668524</td>\n",
       "      <td>0.047278</td>\n",
       "      <td>-0.570187</td>\n",
       "      <td>-0.929397</td>\n",
       "      <td>-0.805741</td>\n",
       "      <td>-0.405623</td>\n",
       "      <td>0.405623</td>\n",
       "      <td>-2.149083</td>\n",
       "      <td>2.149083</td>\n",
       "      <td>-1.361397</td>\n",
       "      <td>1.361397</td>\n",
       "      <td>0.219265</td>\n",
       "      <td>-0.219265</td>\n",
       "      <td>0.679063</td>\n",
       "      <td>-0.679063</td>\n",
       "      <td>-1.804941</td>\n",
       "      <td>1.804941</td>\n",
       "      <td>1.700840</td>\n",
       "      <td>-0.844888</td>\n",
       "      <td>-0.696429</td>\n",
       "    </tr>\n",
       "  </tbody>\n",
       "</table>\n",
       "<p>408 rows × 20 columns</p>\n",
       "</div>"
      ],
      "text/plain": [
       "         area  bedrooms  bathrooms   stories   parking  mainroad_no  \\\n",
       "498 -1.453102 -1.308863  -0.570187  0.224410 -0.805741    -0.405623   \n",
       "531  0.068934  0.047278  -0.570187 -0.929397 -0.805741     2.465344   \n",
       "532 -0.991879 -1.308863  -0.570187 -0.929397 -0.805741     2.465344   \n",
       "278 -0.807390  0.047278  -0.570187  0.224410  1.517692    -0.405623   \n",
       "101  0.161178  0.047278  -0.570187  1.378217  0.355976    -0.405623   \n",
       "..        ...       ...        ...       ...       ...          ...   \n",
       "70  -0.530656  0.047278   1.421812  0.224410 -0.805741    -0.405623   \n",
       "277  2.402722 -1.308863  -0.570187 -0.929397  0.355976    -0.405623   \n",
       "9    0.276484  0.047278   1.421812  2.532024  0.355976    -0.405623   \n",
       "359 -0.715145  0.047278  -0.570187 -0.929397  0.355976    -0.405623   \n",
       "192  0.668524  0.047278  -0.570187 -0.929397 -0.805741    -0.405623   \n",
       "\n",
       "     mainroad_yes  guestroom_no  guestroom_yes  basement_no  basement_yes  \\\n",
       "498      0.405623      0.465315      -0.465315     0.734539     -0.734539   \n",
       "531     -2.465344      0.465315      -0.465315     0.734539     -0.734539   \n",
       "532     -2.465344      0.465315      -0.465315     0.734539     -0.734539   \n",
       "278      0.405623      0.465315      -0.465315    -1.361397      1.361397   \n",
       "101      0.405623      0.465315      -0.465315     0.734539     -0.734539   \n",
       "..            ...           ...            ...          ...           ...   \n",
       "70       0.405623      0.465315      -0.465315    -1.361397      1.361397   \n",
       "277      0.405623      0.465315      -0.465315     0.734539     -0.734539   \n",
       "9        0.405623     -2.149083       2.149083     0.734539     -0.734539   \n",
       "359      0.405623      0.465315      -0.465315     0.734539     -0.734539   \n",
       "192      0.405623     -2.149083       2.149083    -1.361397      1.361397   \n",
       "\n",
       "     hotwaterheating_no  hotwaterheating_yes  airconditioning_no  \\\n",
       "498            0.219265            -0.219265            0.679063   \n",
       "531            0.219265            -0.219265           -1.472618   \n",
       "532            0.219265            -0.219265            0.679063   \n",
       "278            0.219265            -0.219265            0.679063   \n",
       "101            0.219265            -0.219265            0.679063   \n",
       "..                  ...                  ...                 ...   \n",
       "70             0.219265            -0.219265           -1.472618   \n",
       "277            0.219265            -0.219265            0.679063   \n",
       "9              0.219265            -0.219265           -1.472618   \n",
       "359            0.219265            -0.219265            0.679063   \n",
       "192            0.219265            -0.219265            0.679063   \n",
       "\n",
       "     airconditioning_yes  prefarea_no  prefarea_yes  \\\n",
       "498            -0.679063     0.554035     -0.554035   \n",
       "531             1.472618    -1.804941      1.804941   \n",
       "532            -0.679063     0.554035     -0.554035   \n",
       "278            -0.679063    -1.804941      1.804941   \n",
       "101            -0.679063    -1.804941      1.804941   \n",
       "..                   ...          ...           ...   \n",
       "70              1.472618    -1.804941      1.804941   \n",
       "277            -0.679063    -1.804941      1.804941   \n",
       "9               1.472618    -1.804941      1.804941   \n",
       "359            -0.679063     0.554035     -0.554035   \n",
       "192            -0.679063    -1.804941      1.804941   \n",
       "\n",
       "     furnishingstatus_furnished  furnishingstatus_semi-furnished  \\\n",
       "498                   -0.587945                         1.183588   \n",
       "531                   -0.587945                        -0.844888   \n",
       "532                   -0.587945                        -0.844888   \n",
       "278                   -0.587945                         1.183588   \n",
       "101                   -0.587945                        -0.844888   \n",
       "..                          ...                              ...   \n",
       "70                    -0.587945                         1.183588   \n",
       "277                   -0.587945                         1.183588   \n",
       "9                     -0.587945                        -0.844888   \n",
       "359                   -0.587945                        -0.844888   \n",
       "192                    1.700840                        -0.844888   \n",
       "\n",
       "     furnishingstatus_unfurnished  \n",
       "498                     -0.696429  \n",
       "531                      1.435896  \n",
       "532                      1.435896  \n",
       "278                     -0.696429  \n",
       "101                      1.435896  \n",
       "..                            ...  \n",
       "70                      -0.696429  \n",
       "277                     -0.696429  \n",
       "9                        1.435896  \n",
       "359                      1.435896  \n",
       "192                     -0.696429  \n",
       "\n",
       "[408 rows x 20 columns]"
      ]
     },
     "execution_count": 139,
     "metadata": {},
     "output_type": "execute_result"
    }
   ],
   "source": [
    "x_train"
   ]
  },
  {
   "cell_type": "code",
   "execution_count": 123,
   "id": "1cc58836",
   "metadata": {},
   "outputs": [
    {
     "data": {
      "text/html": [
       "<div>\n",
       "<style scoped>\n",
       "    .dataframe tbody tr th:only-of-type {\n",
       "        vertical-align: middle;\n",
       "    }\n",
       "\n",
       "    .dataframe tbody tr th {\n",
       "        vertical-align: top;\n",
       "    }\n",
       "\n",
       "    .dataframe thead th {\n",
       "        text-align: right;\n",
       "    }\n",
       "</style>\n",
       "<table border=\"1\" class=\"dataframe\">\n",
       "  <thead>\n",
       "    <tr style=\"text-align: right;\">\n",
       "      <th></th>\n",
       "      <th>area</th>\n",
       "      <th>bedrooms</th>\n",
       "      <th>bathrooms</th>\n",
       "      <th>stories</th>\n",
       "      <th>parking</th>\n",
       "      <th>mainroad_no</th>\n",
       "      <th>mainroad_yes</th>\n",
       "      <th>guestroom_no</th>\n",
       "      <th>guestroom_yes</th>\n",
       "      <th>basement_no</th>\n",
       "      <th>basement_yes</th>\n",
       "      <th>hotwaterheating_no</th>\n",
       "      <th>hotwaterheating_yes</th>\n",
       "      <th>airconditioning_no</th>\n",
       "      <th>airconditioning_yes</th>\n",
       "      <th>prefarea_no</th>\n",
       "      <th>prefarea_yes</th>\n",
       "      <th>furnishingstatus_furnished</th>\n",
       "      <th>furnishingstatus_semi-furnished</th>\n",
       "      <th>furnishingstatus_unfurnished</th>\n",
       "    </tr>\n",
       "  </thead>\n",
       "  <tbody>\n",
       "    <tr>\n",
       "      <th>360</th>\n",
       "      <td>-0.512207</td>\n",
       "      <td>-1.308863</td>\n",
       "      <td>-0.570187</td>\n",
       "      <td>-0.929397</td>\n",
       "      <td>-0.805741</td>\n",
       "      <td>-0.405623</td>\n",
       "      <td>0.405623</td>\n",
       "      <td>0.465315</td>\n",
       "      <td>-0.465315</td>\n",
       "      <td>0.734539</td>\n",
       "      <td>-0.734539</td>\n",
       "      <td>0.219265</td>\n",
       "      <td>-0.219265</td>\n",
       "      <td>0.679063</td>\n",
       "      <td>-0.679063</td>\n",
       "      <td>0.554035</td>\n",
       "      <td>-0.554035</td>\n",
       "      <td>-0.587945</td>\n",
       "      <td>1.183588</td>\n",
       "      <td>-0.696429</td>\n",
       "    </tr>\n",
       "    <tr>\n",
       "      <th>540</th>\n",
       "      <td>-0.991879</td>\n",
       "      <td>-1.308863</td>\n",
       "      <td>-0.570187</td>\n",
       "      <td>-0.929397</td>\n",
       "      <td>1.517692</td>\n",
       "      <td>-0.405623</td>\n",
       "      <td>0.405623</td>\n",
       "      <td>0.465315</td>\n",
       "      <td>-0.465315</td>\n",
       "      <td>-1.361397</td>\n",
       "      <td>1.361397</td>\n",
       "      <td>0.219265</td>\n",
       "      <td>-0.219265</td>\n",
       "      <td>0.679063</td>\n",
       "      <td>-0.679063</td>\n",
       "      <td>0.554035</td>\n",
       "      <td>-0.554035</td>\n",
       "      <td>-0.587945</td>\n",
       "      <td>-0.844888</td>\n",
       "      <td>1.435896</td>\n",
       "    </tr>\n",
       "    <tr>\n",
       "      <th>426</th>\n",
       "      <td>-1.130246</td>\n",
       "      <td>0.047278</td>\n",
       "      <td>-0.570187</td>\n",
       "      <td>-0.929397</td>\n",
       "      <td>-0.805741</td>\n",
       "      <td>2.465344</td>\n",
       "      <td>-2.465344</td>\n",
       "      <td>0.465315</td>\n",
       "      <td>-0.465315</td>\n",
       "      <td>0.734539</td>\n",
       "      <td>-0.734539</td>\n",
       "      <td>0.219265</td>\n",
       "      <td>-0.219265</td>\n",
       "      <td>0.679063</td>\n",
       "      <td>-0.679063</td>\n",
       "      <td>0.554035</td>\n",
       "      <td>-0.554035</td>\n",
       "      <td>1.700840</td>\n",
       "      <td>-0.844888</td>\n",
       "      <td>-0.696429</td>\n",
       "    </tr>\n",
       "    <tr>\n",
       "      <th>117</th>\n",
       "      <td>-0.669023</td>\n",
       "      <td>1.403419</td>\n",
       "      <td>-0.570187</td>\n",
       "      <td>0.224410</td>\n",
       "      <td>-0.805741</td>\n",
       "      <td>-0.405623</td>\n",
       "      <td>0.405623</td>\n",
       "      <td>-2.149083</td>\n",
       "      <td>2.149083</td>\n",
       "      <td>0.734539</td>\n",
       "      <td>-0.734539</td>\n",
       "      <td>0.219265</td>\n",
       "      <td>-0.219265</td>\n",
       "      <td>-1.472618</td>\n",
       "      <td>1.472618</td>\n",
       "      <td>0.554035</td>\n",
       "      <td>-0.554035</td>\n",
       "      <td>1.700840</td>\n",
       "      <td>-0.844888</td>\n",
       "      <td>-0.696429</td>\n",
       "    </tr>\n",
       "    <tr>\n",
       "      <th>7</th>\n",
       "      <td>5.096263</td>\n",
       "      <td>2.759560</td>\n",
       "      <td>3.413810</td>\n",
       "      <td>0.224410</td>\n",
       "      <td>-0.805741</td>\n",
       "      <td>-0.405623</td>\n",
       "      <td>0.405623</td>\n",
       "      <td>0.465315</td>\n",
       "      <td>-0.465315</td>\n",
       "      <td>0.734539</td>\n",
       "      <td>-0.734539</td>\n",
       "      <td>0.219265</td>\n",
       "      <td>-0.219265</td>\n",
       "      <td>0.679063</td>\n",
       "      <td>-0.679063</td>\n",
       "      <td>0.554035</td>\n",
       "      <td>-0.554035</td>\n",
       "      <td>-0.587945</td>\n",
       "      <td>-0.844888</td>\n",
       "      <td>1.435896</td>\n",
       "    </tr>\n",
       "    <tr>\n",
       "      <th>...</th>\n",
       "      <td>...</td>\n",
       "      <td>...</td>\n",
       "      <td>...</td>\n",
       "      <td>...</td>\n",
       "      <td>...</td>\n",
       "      <td>...</td>\n",
       "      <td>...</td>\n",
       "      <td>...</td>\n",
       "      <td>...</td>\n",
       "      <td>...</td>\n",
       "      <td>...</td>\n",
       "      <td>...</td>\n",
       "      <td>...</td>\n",
       "      <td>...</td>\n",
       "      <td>...</td>\n",
       "      <td>...</td>\n",
       "      <td>...</td>\n",
       "      <td>...</td>\n",
       "      <td>...</td>\n",
       "      <td>...</td>\n",
       "    </tr>\n",
       "    <tr>\n",
       "      <th>368</th>\n",
       "      <td>0.225750</td>\n",
       "      <td>-1.308863</td>\n",
       "      <td>-0.570187</td>\n",
       "      <td>-0.929397</td>\n",
       "      <td>-0.805741</td>\n",
       "      <td>2.465344</td>\n",
       "      <td>-2.465344</td>\n",
       "      <td>0.465315</td>\n",
       "      <td>-0.465315</td>\n",
       "      <td>0.734539</td>\n",
       "      <td>-0.734539</td>\n",
       "      <td>0.219265</td>\n",
       "      <td>-0.219265</td>\n",
       "      <td>0.679063</td>\n",
       "      <td>-0.679063</td>\n",
       "      <td>0.554035</td>\n",
       "      <td>-0.554035</td>\n",
       "      <td>-0.587945</td>\n",
       "      <td>1.183588</td>\n",
       "      <td>-0.696429</td>\n",
       "    </tr>\n",
       "    <tr>\n",
       "      <th>143</th>\n",
       "      <td>-0.161678</td>\n",
       "      <td>2.759560</td>\n",
       "      <td>1.421812</td>\n",
       "      <td>1.378217</td>\n",
       "      <td>-0.805741</td>\n",
       "      <td>2.465344</td>\n",
       "      <td>-2.465344</td>\n",
       "      <td>0.465315</td>\n",
       "      <td>-0.465315</td>\n",
       "      <td>-1.361397</td>\n",
       "      <td>1.361397</td>\n",
       "      <td>-4.560702</td>\n",
       "      <td>4.560702</td>\n",
       "      <td>0.679063</td>\n",
       "      <td>-0.679063</td>\n",
       "      <td>0.554035</td>\n",
       "      <td>-0.554035</td>\n",
       "      <td>-0.587945</td>\n",
       "      <td>-0.844888</td>\n",
       "      <td>1.435896</td>\n",
       "    </tr>\n",
       "    <tr>\n",
       "      <th>174</th>\n",
       "      <td>-0.622901</td>\n",
       "      <td>0.047278</td>\n",
       "      <td>-0.570187</td>\n",
       "      <td>0.224410</td>\n",
       "      <td>0.355976</td>\n",
       "      <td>-0.405623</td>\n",
       "      <td>0.405623</td>\n",
       "      <td>-2.149083</td>\n",
       "      <td>2.149083</td>\n",
       "      <td>-1.361397</td>\n",
       "      <td>1.361397</td>\n",
       "      <td>0.219265</td>\n",
       "      <td>-0.219265</td>\n",
       "      <td>0.679063</td>\n",
       "      <td>-0.679063</td>\n",
       "      <td>-1.804941</td>\n",
       "      <td>1.804941</td>\n",
       "      <td>-0.587945</td>\n",
       "      <td>-0.844888</td>\n",
       "      <td>1.435896</td>\n",
       "    </tr>\n",
       "    <tr>\n",
       "      <th>24</th>\n",
       "      <td>1.683214</td>\n",
       "      <td>0.047278</td>\n",
       "      <td>1.421812</td>\n",
       "      <td>0.224410</td>\n",
       "      <td>1.517692</td>\n",
       "      <td>-0.405623</td>\n",
       "      <td>0.405623</td>\n",
       "      <td>0.465315</td>\n",
       "      <td>-0.465315</td>\n",
       "      <td>0.734539</td>\n",
       "      <td>-0.734539</td>\n",
       "      <td>0.219265</td>\n",
       "      <td>-0.219265</td>\n",
       "      <td>-1.472618</td>\n",
       "      <td>1.472618</td>\n",
       "      <td>0.554035</td>\n",
       "      <td>-0.554035</td>\n",
       "      <td>1.700840</td>\n",
       "      <td>-0.844888</td>\n",
       "      <td>-0.696429</td>\n",
       "    </tr>\n",
       "    <tr>\n",
       "      <th>345</th>\n",
       "      <td>-1.446183</td>\n",
       "      <td>0.047278</td>\n",
       "      <td>-0.570187</td>\n",
       "      <td>0.224410</td>\n",
       "      <td>-0.805741</td>\n",
       "      <td>-0.405623</td>\n",
       "      <td>0.405623</td>\n",
       "      <td>0.465315</td>\n",
       "      <td>-0.465315</td>\n",
       "      <td>-1.361397</td>\n",
       "      <td>1.361397</td>\n",
       "      <td>0.219265</td>\n",
       "      <td>-0.219265</td>\n",
       "      <td>0.679063</td>\n",
       "      <td>-0.679063</td>\n",
       "      <td>-1.804941</td>\n",
       "      <td>1.804941</td>\n",
       "      <td>-0.587945</td>\n",
       "      <td>1.183588</td>\n",
       "      <td>-0.696429</td>\n",
       "    </tr>\n",
       "  </tbody>\n",
       "</table>\n",
       "<p>137 rows × 20 columns</p>\n",
       "</div>"
      ],
      "text/plain": [
       "         area  bedrooms  bathrooms   stories   parking  mainroad_no  \\\n",
       "360 -0.512207 -1.308863  -0.570187 -0.929397 -0.805741    -0.405623   \n",
       "540 -0.991879 -1.308863  -0.570187 -0.929397  1.517692    -0.405623   \n",
       "426 -1.130246  0.047278  -0.570187 -0.929397 -0.805741     2.465344   \n",
       "117 -0.669023  1.403419  -0.570187  0.224410 -0.805741    -0.405623   \n",
       "7    5.096263  2.759560   3.413810  0.224410 -0.805741    -0.405623   \n",
       "..        ...       ...        ...       ...       ...          ...   \n",
       "368  0.225750 -1.308863  -0.570187 -0.929397 -0.805741     2.465344   \n",
       "143 -0.161678  2.759560   1.421812  1.378217 -0.805741     2.465344   \n",
       "174 -0.622901  0.047278  -0.570187  0.224410  0.355976    -0.405623   \n",
       "24   1.683214  0.047278   1.421812  0.224410  1.517692    -0.405623   \n",
       "345 -1.446183  0.047278  -0.570187  0.224410 -0.805741    -0.405623   \n",
       "\n",
       "     mainroad_yes  guestroom_no  guestroom_yes  basement_no  basement_yes  \\\n",
       "360      0.405623      0.465315      -0.465315     0.734539     -0.734539   \n",
       "540      0.405623      0.465315      -0.465315    -1.361397      1.361397   \n",
       "426     -2.465344      0.465315      -0.465315     0.734539     -0.734539   \n",
       "117      0.405623     -2.149083       2.149083     0.734539     -0.734539   \n",
       "7        0.405623      0.465315      -0.465315     0.734539     -0.734539   \n",
       "..            ...           ...            ...          ...           ...   \n",
       "368     -2.465344      0.465315      -0.465315     0.734539     -0.734539   \n",
       "143     -2.465344      0.465315      -0.465315    -1.361397      1.361397   \n",
       "174      0.405623     -2.149083       2.149083    -1.361397      1.361397   \n",
       "24       0.405623      0.465315      -0.465315     0.734539     -0.734539   \n",
       "345      0.405623      0.465315      -0.465315    -1.361397      1.361397   \n",
       "\n",
       "     hotwaterheating_no  hotwaterheating_yes  airconditioning_no  \\\n",
       "360            0.219265            -0.219265            0.679063   \n",
       "540            0.219265            -0.219265            0.679063   \n",
       "426            0.219265            -0.219265            0.679063   \n",
       "117            0.219265            -0.219265           -1.472618   \n",
       "7              0.219265            -0.219265            0.679063   \n",
       "..                  ...                  ...                 ...   \n",
       "368            0.219265            -0.219265            0.679063   \n",
       "143           -4.560702             4.560702            0.679063   \n",
       "174            0.219265            -0.219265            0.679063   \n",
       "24             0.219265            -0.219265           -1.472618   \n",
       "345            0.219265            -0.219265            0.679063   \n",
       "\n",
       "     airconditioning_yes  prefarea_no  prefarea_yes  \\\n",
       "360            -0.679063     0.554035     -0.554035   \n",
       "540            -0.679063     0.554035     -0.554035   \n",
       "426            -0.679063     0.554035     -0.554035   \n",
       "117             1.472618     0.554035     -0.554035   \n",
       "7              -0.679063     0.554035     -0.554035   \n",
       "..                   ...          ...           ...   \n",
       "368            -0.679063     0.554035     -0.554035   \n",
       "143            -0.679063     0.554035     -0.554035   \n",
       "174            -0.679063    -1.804941      1.804941   \n",
       "24              1.472618     0.554035     -0.554035   \n",
       "345            -0.679063    -1.804941      1.804941   \n",
       "\n",
       "     furnishingstatus_furnished  furnishingstatus_semi-furnished  \\\n",
       "360                   -0.587945                         1.183588   \n",
       "540                   -0.587945                        -0.844888   \n",
       "426                    1.700840                        -0.844888   \n",
       "117                    1.700840                        -0.844888   \n",
       "7                     -0.587945                        -0.844888   \n",
       "..                          ...                              ...   \n",
       "368                   -0.587945                         1.183588   \n",
       "143                   -0.587945                        -0.844888   \n",
       "174                   -0.587945                        -0.844888   \n",
       "24                     1.700840                        -0.844888   \n",
       "345                   -0.587945                         1.183588   \n",
       "\n",
       "     furnishingstatus_unfurnished  \n",
       "360                     -0.696429  \n",
       "540                      1.435896  \n",
       "426                     -0.696429  \n",
       "117                     -0.696429  \n",
       "7                        1.435896  \n",
       "..                            ...  \n",
       "368                     -0.696429  \n",
       "143                      1.435896  \n",
       "174                      1.435896  \n",
       "24                      -0.696429  \n",
       "345                     -0.696429  \n",
       "\n",
       "[137 rows x 20 columns]"
      ]
     },
     "execution_count": 123,
     "metadata": {},
     "output_type": "execute_result"
    }
   ],
   "source": [
    "x_test"
   ]
  },
  {
   "cell_type": "code",
   "execution_count": null,
   "id": "e8e86d5b",
   "metadata": {},
   "outputs": [],
   "source": []
  },
  {
   "cell_type": "code",
   "execution_count": 140,
   "id": "43b23029",
   "metadata": {},
   "outputs": [],
   "source": [
    "from sklearn.linear_model import LinearRegression"
   ]
  },
  {
   "cell_type": "code",
   "execution_count": 141,
   "id": "8a25d929",
   "metadata": {},
   "outputs": [],
   "source": [
    "lr = LinearRegression()"
   ]
  },
  {
   "cell_type": "code",
   "execution_count": 142,
   "id": "bd7afa54",
   "metadata": {},
   "outputs": [
    {
     "data": {
      "text/plain": [
       "LinearRegression()"
      ]
     },
     "execution_count": 142,
     "metadata": {},
     "output_type": "execute_result"
    }
   ],
   "source": [
    "lr.fit(x_train,y_train)"
   ]
  },
  {
   "cell_type": "code",
   "execution_count": 143,
   "id": "a6e53173",
   "metadata": {},
   "outputs": [
    {
     "data": {
      "text/plain": [
       "0.6728497453554538"
      ]
     },
     "execution_count": 143,
     "metadata": {},
     "output_type": "execute_result"
    }
   ],
   "source": [
    "lr.score(x_train,y_train)"
   ]
  },
  {
   "cell_type": "code",
   "execution_count": null,
   "id": "53b1b0aa",
   "metadata": {},
   "outputs": [],
   "source": []
  },
  {
   "cell_type": "code",
   "execution_count": 144,
   "id": "d4ad0904",
   "metadata": {},
   "outputs": [
    {
     "data": {
      "text/plain": [
       "0.6956489291232412"
      ]
     },
     "execution_count": 144,
     "metadata": {},
     "output_type": "execute_result"
    }
   ],
   "source": [
    "lr.score(x_test,y_test)"
   ]
  },
  {
   "cell_type": "code",
   "execution_count": 140,
   "id": "4efa3d86",
   "metadata": {},
   "outputs": [],
   "source": [
    "from sklearn.linear_model import LinearRegression"
   ]
  },
  {
   "cell_type": "code",
   "execution_count": 141,
   "id": "5ad1e0bb",
   "metadata": {},
   "outputs": [],
   "source": [
    "lr = LinearRegression()"
   ]
  },
  {
   "cell_type": "code",
   "execution_count": 142,
   "id": "1a9daecf",
   "metadata": {},
   "outputs": [
    {
     "data": {
      "text/plain": [
       "LinearRegression()"
      ]
     },
     "execution_count": 142,
     "metadata": {},
     "output_type": "execute_result"
    }
   ],
   "source": [
    "lr.fit(x_train,y_train)"
   ]
  },
  {
   "cell_type": "code",
   "execution_count": 143,
   "id": "a2f4a693",
   "metadata": {},
   "outputs": [
    {
     "data": {
      "text/plain": [
       "0.6728497453554538"
      ]
     },
     "execution_count": 143,
     "metadata": {},
     "output_type": "execute_result"
    }
   ],
   "source": [
    "lr.score(x_train,y_train)"
   ]
  },
  {
   "cell_type": "code",
   "execution_count": null,
   "id": "23fa892a",
   "metadata": {},
   "outputs": [],
   "source": []
  },
  {
   "cell_type": "code",
   "execution_count": 144,
   "id": "1763b5d6",
   "metadata": {},
   "outputs": [
    {
     "data": {
      "text/plain": [
       "0.6956489291232412"
      ]
     },
     "execution_count": 144,
     "metadata": {},
     "output_type": "execute_result"
    }
   ],
   "source": [
    "lr.score(x_test,y_test)"
   ]
  },
  {
   "cell_type": "code",
   "execution_count": 145,
   "id": "880e30bc",
   "metadata": {},
   "outputs": [
    {
     "data": {
      "text/html": [
       "<div>\n",
       "<style scoped>\n",
       "    .dataframe tbody tr th:only-of-type {\n",
       "        vertical-align: middle;\n",
       "    }\n",
       "\n",
       "    .dataframe tbody tr th {\n",
       "        vertical-align: top;\n",
       "    }\n",
       "\n",
       "    .dataframe thead th {\n",
       "        text-align: right;\n",
       "    }\n",
       "</style>\n",
       "<table border=\"1\" class=\"dataframe\">\n",
       "  <thead>\n",
       "    <tr style=\"text-align: right;\">\n",
       "      <th></th>\n",
       "      <th>area</th>\n",
       "      <th>bedrooms</th>\n",
       "      <th>bathrooms</th>\n",
       "      <th>stories</th>\n",
       "      <th>parking</th>\n",
       "      <th>mainroad_no</th>\n",
       "      <th>mainroad_yes</th>\n",
       "      <th>guestroom_no</th>\n",
       "      <th>guestroom_yes</th>\n",
       "      <th>basement_no</th>\n",
       "      <th>basement_yes</th>\n",
       "      <th>hotwaterheating_no</th>\n",
       "      <th>hotwaterheating_yes</th>\n",
       "      <th>airconditioning_no</th>\n",
       "      <th>airconditioning_yes</th>\n",
       "      <th>prefarea_no</th>\n",
       "      <th>prefarea_yes</th>\n",
       "      <th>furnishingstatus_furnished</th>\n",
       "      <th>furnishingstatus_semi-furnished</th>\n",
       "      <th>furnishingstatus_unfurnished</th>\n",
       "    </tr>\n",
       "  </thead>\n",
       "  <tbody>\n",
       "    <tr>\n",
       "      <th>239</th>\n",
       "      <td>-0.530656</td>\n",
       "      <td>0.047278</td>\n",
       "      <td>-0.570187</td>\n",
       "      <td>0.224410</td>\n",
       "      <td>0.355976</td>\n",
       "      <td>-0.405623</td>\n",
       "      <td>0.405623</td>\n",
       "      <td>0.465315</td>\n",
       "      <td>-0.465315</td>\n",
       "      <td>0.734539</td>\n",
       "      <td>-0.734539</td>\n",
       "      <td>0.219265</td>\n",
       "      <td>-0.219265</td>\n",
       "      <td>0.679063</td>\n",
       "      <td>-0.679063</td>\n",
       "      <td>0.554035</td>\n",
       "      <td>-0.554035</td>\n",
       "      <td>1.700840</td>\n",
       "      <td>-0.844888</td>\n",
       "      <td>-0.696429</td>\n",
       "    </tr>\n",
       "    <tr>\n",
       "      <th>113</th>\n",
       "      <td>2.061417</td>\n",
       "      <td>0.047278</td>\n",
       "      <td>-0.570187</td>\n",
       "      <td>-0.929397</td>\n",
       "      <td>1.517692</td>\n",
       "      <td>-0.405623</td>\n",
       "      <td>0.405623</td>\n",
       "      <td>0.465315</td>\n",
       "      <td>-0.465315</td>\n",
       "      <td>-1.361397</td>\n",
       "      <td>1.361397</td>\n",
       "      <td>0.219265</td>\n",
       "      <td>-0.219265</td>\n",
       "      <td>0.679063</td>\n",
       "      <td>-0.679063</td>\n",
       "      <td>-1.804941</td>\n",
       "      <td>1.804941</td>\n",
       "      <td>1.700840</td>\n",
       "      <td>-0.844888</td>\n",
       "      <td>-0.696429</td>\n",
       "    </tr>\n",
       "    <tr>\n",
       "      <th>325</th>\n",
       "      <td>-0.779716</td>\n",
       "      <td>1.403419</td>\n",
       "      <td>-0.570187</td>\n",
       "      <td>0.224410</td>\n",
       "      <td>-0.805741</td>\n",
       "      <td>-0.405623</td>\n",
       "      <td>0.405623</td>\n",
       "      <td>0.465315</td>\n",
       "      <td>-0.465315</td>\n",
       "      <td>0.734539</td>\n",
       "      <td>-0.734539</td>\n",
       "      <td>0.219265</td>\n",
       "      <td>-0.219265</td>\n",
       "      <td>-1.472618</td>\n",
       "      <td>1.472618</td>\n",
       "      <td>0.554035</td>\n",
       "      <td>-0.554035</td>\n",
       "      <td>-0.587945</td>\n",
       "      <td>1.183588</td>\n",
       "      <td>-0.696429</td>\n",
       "    </tr>\n",
       "    <tr>\n",
       "      <th>66</th>\n",
       "      <td>3.712595</td>\n",
       "      <td>-1.308863</td>\n",
       "      <td>-0.570187</td>\n",
       "      <td>-0.929397</td>\n",
       "      <td>0.355976</td>\n",
       "      <td>-0.405623</td>\n",
       "      <td>0.405623</td>\n",
       "      <td>0.465315</td>\n",
       "      <td>-0.465315</td>\n",
       "      <td>-1.361397</td>\n",
       "      <td>1.361397</td>\n",
       "      <td>-4.560702</td>\n",
       "      <td>4.560702</td>\n",
       "      <td>0.679063</td>\n",
       "      <td>-0.679063</td>\n",
       "      <td>0.554035</td>\n",
       "      <td>-0.554035</td>\n",
       "      <td>1.700840</td>\n",
       "      <td>-0.844888</td>\n",
       "      <td>-0.696429</td>\n",
       "    </tr>\n",
       "    <tr>\n",
       "      <th>479</th>\n",
       "      <td>-0.687472</td>\n",
       "      <td>1.403419</td>\n",
       "      <td>-0.570187</td>\n",
       "      <td>0.224410</td>\n",
       "      <td>-0.805741</td>\n",
       "      <td>2.465344</td>\n",
       "      <td>-2.465344</td>\n",
       "      <td>0.465315</td>\n",
       "      <td>-0.465315</td>\n",
       "      <td>0.734539</td>\n",
       "      <td>-0.734539</td>\n",
       "      <td>0.219265</td>\n",
       "      <td>-0.219265</td>\n",
       "      <td>0.679063</td>\n",
       "      <td>-0.679063</td>\n",
       "      <td>0.554035</td>\n",
       "      <td>-0.554035</td>\n",
       "      <td>-0.587945</td>\n",
       "      <td>-0.844888</td>\n",
       "      <td>1.435896</td>\n",
       "    </tr>\n",
       "    <tr>\n",
       "      <th>...</th>\n",
       "      <td>...</td>\n",
       "      <td>...</td>\n",
       "      <td>...</td>\n",
       "      <td>...</td>\n",
       "      <td>...</td>\n",
       "      <td>...</td>\n",
       "      <td>...</td>\n",
       "      <td>...</td>\n",
       "      <td>...</td>\n",
       "      <td>...</td>\n",
       "      <td>...</td>\n",
       "      <td>...</td>\n",
       "      <td>...</td>\n",
       "      <td>...</td>\n",
       "      <td>...</td>\n",
       "      <td>...</td>\n",
       "      <td>...</td>\n",
       "      <td>...</td>\n",
       "      <td>...</td>\n",
       "      <td>...</td>\n",
       "    </tr>\n",
       "    <tr>\n",
       "      <th>319</th>\n",
       "      <td>-0.991879</td>\n",
       "      <td>1.403419</td>\n",
       "      <td>-0.570187</td>\n",
       "      <td>1.378217</td>\n",
       "      <td>1.517692</td>\n",
       "      <td>-0.405623</td>\n",
       "      <td>0.405623</td>\n",
       "      <td>0.465315</td>\n",
       "      <td>-0.465315</td>\n",
       "      <td>-1.361397</td>\n",
       "      <td>1.361397</td>\n",
       "      <td>0.219265</td>\n",
       "      <td>-0.219265</td>\n",
       "      <td>-1.472618</td>\n",
       "      <td>1.472618</td>\n",
       "      <td>0.554035</td>\n",
       "      <td>-0.554035</td>\n",
       "      <td>-0.587945</td>\n",
       "      <td>1.183588</td>\n",
       "      <td>-0.696429</td>\n",
       "    </tr>\n",
       "    <tr>\n",
       "      <th>525</th>\n",
       "      <td>-0.696696</td>\n",
       "      <td>-1.308863</td>\n",
       "      <td>-0.570187</td>\n",
       "      <td>-0.929397</td>\n",
       "      <td>-0.805741</td>\n",
       "      <td>-0.405623</td>\n",
       "      <td>0.405623</td>\n",
       "      <td>0.465315</td>\n",
       "      <td>-0.465315</td>\n",
       "      <td>0.734539</td>\n",
       "      <td>-0.734539</td>\n",
       "      <td>0.219265</td>\n",
       "      <td>-0.219265</td>\n",
       "      <td>0.679063</td>\n",
       "      <td>-0.679063</td>\n",
       "      <td>0.554035</td>\n",
       "      <td>-0.554035</td>\n",
       "      <td>-0.587945</td>\n",
       "      <td>-0.844888</td>\n",
       "      <td>1.435896</td>\n",
       "    </tr>\n",
       "    <tr>\n",
       "      <th>245</th>\n",
       "      <td>0.096607</td>\n",
       "      <td>0.047278</td>\n",
       "      <td>-0.570187</td>\n",
       "      <td>0.224410</td>\n",
       "      <td>1.517692</td>\n",
       "      <td>-0.405623</td>\n",
       "      <td>0.405623</td>\n",
       "      <td>0.465315</td>\n",
       "      <td>-0.465315</td>\n",
       "      <td>0.734539</td>\n",
       "      <td>-0.734539</td>\n",
       "      <td>0.219265</td>\n",
       "      <td>-0.219265</td>\n",
       "      <td>0.679063</td>\n",
       "      <td>-0.679063</td>\n",
       "      <td>-1.804941</td>\n",
       "      <td>1.804941</td>\n",
       "      <td>-0.587945</td>\n",
       "      <td>-0.844888</td>\n",
       "      <td>1.435896</td>\n",
       "    </tr>\n",
       "    <tr>\n",
       "      <th>7</th>\n",
       "      <td>5.096263</td>\n",
       "      <td>2.759560</td>\n",
       "      <td>3.413810</td>\n",
       "      <td>0.224410</td>\n",
       "      <td>-0.805741</td>\n",
       "      <td>-0.405623</td>\n",
       "      <td>0.405623</td>\n",
       "      <td>0.465315</td>\n",
       "      <td>-0.465315</td>\n",
       "      <td>0.734539</td>\n",
       "      <td>-0.734539</td>\n",
       "      <td>0.219265</td>\n",
       "      <td>-0.219265</td>\n",
       "      <td>0.679063</td>\n",
       "      <td>-0.679063</td>\n",
       "      <td>0.554035</td>\n",
       "      <td>-0.554035</td>\n",
       "      <td>-0.587945</td>\n",
       "      <td>-0.844888</td>\n",
       "      <td>1.435896</td>\n",
       "    </tr>\n",
       "    <tr>\n",
       "      <th>375</th>\n",
       "      <td>0.373341</td>\n",
       "      <td>0.047278</td>\n",
       "      <td>-0.570187</td>\n",
       "      <td>0.224410</td>\n",
       "      <td>-0.805741</td>\n",
       "      <td>-0.405623</td>\n",
       "      <td>0.405623</td>\n",
       "      <td>-2.149083</td>\n",
       "      <td>2.149083</td>\n",
       "      <td>-1.361397</td>\n",
       "      <td>1.361397</td>\n",
       "      <td>0.219265</td>\n",
       "      <td>-0.219265</td>\n",
       "      <td>0.679063</td>\n",
       "      <td>-0.679063</td>\n",
       "      <td>0.554035</td>\n",
       "      <td>-0.554035</td>\n",
       "      <td>-0.587945</td>\n",
       "      <td>-0.844888</td>\n",
       "      <td>1.435896</td>\n",
       "    </tr>\n",
       "  </tbody>\n",
       "</table>\n",
       "<p>137 rows × 20 columns</p>\n",
       "</div>"
      ],
      "text/plain": [
       "         area  bedrooms  bathrooms   stories   parking  mainroad_no  \\\n",
       "239 -0.530656  0.047278  -0.570187  0.224410  0.355976    -0.405623   \n",
       "113  2.061417  0.047278  -0.570187 -0.929397  1.517692    -0.405623   \n",
       "325 -0.779716  1.403419  -0.570187  0.224410 -0.805741    -0.405623   \n",
       "66   3.712595 -1.308863  -0.570187 -0.929397  0.355976    -0.405623   \n",
       "479 -0.687472  1.403419  -0.570187  0.224410 -0.805741     2.465344   \n",
       "..        ...       ...        ...       ...       ...          ...   \n",
       "319 -0.991879  1.403419  -0.570187  1.378217  1.517692    -0.405623   \n",
       "525 -0.696696 -1.308863  -0.570187 -0.929397 -0.805741    -0.405623   \n",
       "245  0.096607  0.047278  -0.570187  0.224410  1.517692    -0.405623   \n",
       "7    5.096263  2.759560   3.413810  0.224410 -0.805741    -0.405623   \n",
       "375  0.373341  0.047278  -0.570187  0.224410 -0.805741    -0.405623   \n",
       "\n",
       "     mainroad_yes  guestroom_no  guestroom_yes  basement_no  basement_yes  \\\n",
       "239      0.405623      0.465315      -0.465315     0.734539     -0.734539   \n",
       "113      0.405623      0.465315      -0.465315    -1.361397      1.361397   \n",
       "325      0.405623      0.465315      -0.465315     0.734539     -0.734539   \n",
       "66       0.405623      0.465315      -0.465315    -1.361397      1.361397   \n",
       "479     -2.465344      0.465315      -0.465315     0.734539     -0.734539   \n",
       "..            ...           ...            ...          ...           ...   \n",
       "319      0.405623      0.465315      -0.465315    -1.361397      1.361397   \n",
       "525      0.405623      0.465315      -0.465315     0.734539     -0.734539   \n",
       "245      0.405623      0.465315      -0.465315     0.734539     -0.734539   \n",
       "7        0.405623      0.465315      -0.465315     0.734539     -0.734539   \n",
       "375      0.405623     -2.149083       2.149083    -1.361397      1.361397   \n",
       "\n",
       "     hotwaterheating_no  hotwaterheating_yes  airconditioning_no  \\\n",
       "239            0.219265            -0.219265            0.679063   \n",
       "113            0.219265            -0.219265            0.679063   \n",
       "325            0.219265            -0.219265           -1.472618   \n",
       "66            -4.560702             4.560702            0.679063   \n",
       "479            0.219265            -0.219265            0.679063   \n",
       "..                  ...                  ...                 ...   \n",
       "319            0.219265            -0.219265           -1.472618   \n",
       "525            0.219265            -0.219265            0.679063   \n",
       "245            0.219265            -0.219265            0.679063   \n",
       "7              0.219265            -0.219265            0.679063   \n",
       "375            0.219265            -0.219265            0.679063   \n",
       "\n",
       "     airconditioning_yes  prefarea_no  prefarea_yes  \\\n",
       "239            -0.679063     0.554035     -0.554035   \n",
       "113            -0.679063    -1.804941      1.804941   \n",
       "325             1.472618     0.554035     -0.554035   \n",
       "66             -0.679063     0.554035     -0.554035   \n",
       "479            -0.679063     0.554035     -0.554035   \n",
       "..                   ...          ...           ...   \n",
       "319             1.472618     0.554035     -0.554035   \n",
       "525            -0.679063     0.554035     -0.554035   \n",
       "245            -0.679063    -1.804941      1.804941   \n",
       "7              -0.679063     0.554035     -0.554035   \n",
       "375            -0.679063     0.554035     -0.554035   \n",
       "\n",
       "     furnishingstatus_furnished  furnishingstatus_semi-furnished  \\\n",
       "239                    1.700840                        -0.844888   \n",
       "113                    1.700840                        -0.844888   \n",
       "325                   -0.587945                         1.183588   \n",
       "66                     1.700840                        -0.844888   \n",
       "479                   -0.587945                        -0.844888   \n",
       "..                          ...                              ...   \n",
       "319                   -0.587945                         1.183588   \n",
       "525                   -0.587945                        -0.844888   \n",
       "245                   -0.587945                        -0.844888   \n",
       "7                     -0.587945                        -0.844888   \n",
       "375                   -0.587945                        -0.844888   \n",
       "\n",
       "     furnishingstatus_unfurnished  \n",
       "239                     -0.696429  \n",
       "113                     -0.696429  \n",
       "325                     -0.696429  \n",
       "66                      -0.696429  \n",
       "479                      1.435896  \n",
       "..                            ...  \n",
       "319                     -0.696429  \n",
       "525                      1.435896  \n",
       "245                      1.435896  \n",
       "7                        1.435896  \n",
       "375                      1.435896  \n",
       "\n",
       "[137 rows x 20 columns]"
      ]
     },
     "execution_count": 145,
     "metadata": {},
     "output_type": "execute_result"
    }
   ],
   "source": [
    "x_test"
   ]
  },
  {
   "cell_type": "code",
   "execution_count": 146,
   "id": "887c4c57",
   "metadata": {},
   "outputs": [],
   "source": [
    "price_pred = lr.predict(x_test)"
   ]
  },
  {
   "cell_type": "code",
   "execution_count": 147,
   "id": "f4fb57e1",
   "metadata": {},
   "outputs": [
    {
     "data": {
      "text/plain": [
       "array([ 3927772.45977175,  6087531.42807499,  4524346.95331464,\n",
       "        7177736.07089375,  2778921.57765823,  7047381.2861442 ,\n",
       "        3228068.56077114,  3242726.92540358,  3445768.12924169,\n",
       "        8258898.20139178,  6610368.39100725,  3687995.66276003,\n",
       "        3848371.22183603,  4564215.80551411,  4029799.21931293,\n",
       "        1908678.40147361,  4082198.15984992,  3704997.03925029,\n",
       "        3252569.77268058,  4597233.46123626,  6006930.33403465,\n",
       "        6401804.20583035,  4780358.90188477,  2681709.52381136,\n",
       "        5276601.19394648,  5705110.99526477,  5394362.05549798,\n",
       "        5646485.78609424,  5761132.90155103,  5722239.65051661,\n",
       "        3411985.4094992 ,  6422408.39440442,  7132987.40551254,\n",
       "        2921388.55867762,  4473280.65481435,  5258021.41582876,\n",
       "        5060378.33762844,  3746320.17327733,  2871634.33896647,\n",
       "        3974632.55013513,  8012049.91068716,  4869296.66553357,\n",
       "        6437470.13549009,  3507157.35324346,  3801255.15455893,\n",
       "        6445177.16768785,  4530011.89120509,  2691471.76635756,\n",
       "        4225202.08406185,  6473183.16283797,  4087493.49302349,\n",
       "        7177835.836202  ,  2493287.79401122,  3046493.55266879,\n",
       "        3498547.00655292,  5086915.57817323,  7047141.49686699,\n",
       "        4161791.70162403,  2984868.5233459 ,  4321589.8296244 ,\n",
       "        5908090.49612941,  6846434.81664277,  3254279.01538414,\n",
       "        7165882.82513823,  2515957.86023582,  5027122.68992465,\n",
       "        6702981.67578776,  2503067.19397209,  3711085.61040814,\n",
       "        5117192.83914674,  4228559.26653772,  7463883.71335046,\n",
       "        5027109.31975445,  6028854.0931755 ,  4274708.04061454,\n",
       "        4704924.56637324,  2843359.78156711,  7483592.95071352,\n",
       "        2476194.33164333,  3738000.20275653,  4228559.26653772,\n",
       "        6133466.81074495,  5208127.92687828,  5358166.21956934,\n",
       "        3922014.90461231,  4260141.33727303,  4829645.97419859,\n",
       "        5212530.66010099,  3821760.25192172,  4487407.59205735,\n",
       "        3139699.9872276 ,  5704784.56303417,  3042067.59331072,\n",
       "        3672715.0952835 ,  4434380.173524  , 10428691.68632891,\n",
       "        3020859.66242652,  7145349.08921395,  4290029.87004487,\n",
       "        4445324.94393854,  6581150.73760686,  3366325.15746243,\n",
       "        4497317.60589026,  3335589.36045822,  7250577.91471746,\n",
       "        5273108.72520025,  4154605.28837101,  5095866.10087346,\n",
       "        6194719.36386311,  2587941.71709512,  2681611.7616659 ,\n",
       "        1935445.24096261,  2583011.71474928,  4651557.48964983,\n",
       "        3133102.19032179,  4495525.00822595,  7107107.45995399,\n",
       "        2592871.71944095,  4273446.54678479,  8296793.83025058,\n",
       "        2300831.07495326,  5117468.74747007,  2697192.22080488,\n",
       "        4884230.68390752,  2682036.94478753,  3179416.45114404,\n",
       "        7322333.2473914 ,  5009907.04278035,  5031945.26566801,\n",
       "        3750771.23516191,  4772331.92513229,  3143132.64140025,\n",
       "        5647669.96802566,  2592871.71944095,  4698265.17023255,\n",
       "        8452894.38596522,  4533819.71977235])"
      ]
     },
     "execution_count": 147,
     "metadata": {},
     "output_type": "execute_result"
    }
   ],
   "source": [
    "price_pred"
   ]
  },
  {
   "cell_type": "code",
   "execution_count": 148,
   "id": "223e4c44",
   "metadata": {},
   "outputs": [
    {
     "data": {
      "text/plain": [
       "array([ 534449.02059927,   91139.65870516,  489392.12243861,\n",
       "        384336.27100307,  197911.21188586,  -88737.76559409,\n",
       "         88737.76559409,  -89617.20680774,   89617.20680774,\n",
       "        -79541.92144215,   79541.92144215, -127174.63132474,\n",
       "        127174.63132474, -205267.93404304,  205267.93404304,\n",
       "       -138732.16205497,  138732.16205497,   73702.33583029,\n",
       "         59823.08211944, -131549.85181671])"
      ]
     },
     "execution_count": 148,
     "metadata": {},
     "output_type": "execute_result"
    }
   ],
   "source": [
    "lr.coef_"
   ]
  },
  {
   "cell_type": "code",
   "execution_count": 149,
   "id": "54de4a88",
   "metadata": {},
   "outputs": [
    {
     "data": {
      "text/html": [
       "<div>\n",
       "<style scoped>\n",
       "    .dataframe tbody tr th:only-of-type {\n",
       "        vertical-align: middle;\n",
       "    }\n",
       "\n",
       "    .dataframe tbody tr th {\n",
       "        vertical-align: top;\n",
       "    }\n",
       "\n",
       "    .dataframe thead th {\n",
       "        text-align: right;\n",
       "    }\n",
       "</style>\n",
       "<table border=\"1\" class=\"dataframe\">\n",
       "  <thead>\n",
       "    <tr style=\"text-align: right;\">\n",
       "      <th></th>\n",
       "      <th>Coef</th>\n",
       "    </tr>\n",
       "  </thead>\n",
       "  <tbody>\n",
       "    <tr>\n",
       "      <th>area</th>\n",
       "      <td>534449.020599</td>\n",
       "    </tr>\n",
       "    <tr>\n",
       "      <th>bedrooms</th>\n",
       "      <td>91139.658705</td>\n",
       "    </tr>\n",
       "    <tr>\n",
       "      <th>bathrooms</th>\n",
       "      <td>489392.122439</td>\n",
       "    </tr>\n",
       "    <tr>\n",
       "      <th>stories</th>\n",
       "      <td>384336.271003</td>\n",
       "    </tr>\n",
       "    <tr>\n",
       "      <th>parking</th>\n",
       "      <td>197911.211886</td>\n",
       "    </tr>\n",
       "    <tr>\n",
       "      <th>mainroad_no</th>\n",
       "      <td>-88737.765594</td>\n",
       "    </tr>\n",
       "    <tr>\n",
       "      <th>mainroad_yes</th>\n",
       "      <td>88737.765594</td>\n",
       "    </tr>\n",
       "    <tr>\n",
       "      <th>guestroom_no</th>\n",
       "      <td>-89617.206808</td>\n",
       "    </tr>\n",
       "    <tr>\n",
       "      <th>guestroom_yes</th>\n",
       "      <td>89617.206808</td>\n",
       "    </tr>\n",
       "    <tr>\n",
       "      <th>basement_no</th>\n",
       "      <td>-79541.921442</td>\n",
       "    </tr>\n",
       "    <tr>\n",
       "      <th>basement_yes</th>\n",
       "      <td>79541.921442</td>\n",
       "    </tr>\n",
       "    <tr>\n",
       "      <th>hotwaterheating_no</th>\n",
       "      <td>-127174.631325</td>\n",
       "    </tr>\n",
       "    <tr>\n",
       "      <th>hotwaterheating_yes</th>\n",
       "      <td>127174.631325</td>\n",
       "    </tr>\n",
       "    <tr>\n",
       "      <th>airconditioning_no</th>\n",
       "      <td>-205267.934043</td>\n",
       "    </tr>\n",
       "    <tr>\n",
       "      <th>airconditioning_yes</th>\n",
       "      <td>205267.934043</td>\n",
       "    </tr>\n",
       "    <tr>\n",
       "      <th>prefarea_no</th>\n",
       "      <td>-138732.162055</td>\n",
       "    </tr>\n",
       "    <tr>\n",
       "      <th>prefarea_yes</th>\n",
       "      <td>138732.162055</td>\n",
       "    </tr>\n",
       "    <tr>\n",
       "      <th>furnishingstatus_furnished</th>\n",
       "      <td>73702.335830</td>\n",
       "    </tr>\n",
       "    <tr>\n",
       "      <th>furnishingstatus_semi-furnished</th>\n",
       "      <td>59823.082119</td>\n",
       "    </tr>\n",
       "    <tr>\n",
       "      <th>furnishingstatus_unfurnished</th>\n",
       "      <td>-131549.851817</td>\n",
       "    </tr>\n",
       "  </tbody>\n",
       "</table>\n",
       "</div>"
      ],
      "text/plain": [
       "                                          Coef\n",
       "area                             534449.020599\n",
       "bedrooms                          91139.658705\n",
       "bathrooms                        489392.122439\n",
       "stories                          384336.271003\n",
       "parking                          197911.211886\n",
       "mainroad_no                      -88737.765594\n",
       "mainroad_yes                      88737.765594\n",
       "guestroom_no                     -89617.206808\n",
       "guestroom_yes                     89617.206808\n",
       "basement_no                      -79541.921442\n",
       "basement_yes                      79541.921442\n",
       "hotwaterheating_no              -127174.631325\n",
       "hotwaterheating_yes              127174.631325\n",
       "airconditioning_no              -205267.934043\n",
       "airconditioning_yes              205267.934043\n",
       "prefarea_no                     -138732.162055\n",
       "prefarea_yes                     138732.162055\n",
       "furnishingstatus_furnished        73702.335830\n",
       "furnishingstatus_semi-furnished   59823.082119\n",
       "furnishingstatus_unfurnished    -131549.851817"
      ]
     },
     "execution_count": 149,
     "metadata": {},
     "output_type": "execute_result"
    }
   ],
   "source": [
    "pd.DataFrame({'Coef':lr.coef_},index=final_df.columns.to_list())"
   ]
  },
  {
   "cell_type": "code",
   "execution_count": 150,
   "id": "9e3ddcc4",
   "metadata": {},
   "outputs": [
    {
     "name": "stderr",
     "output_type": "stream",
     "text": [
      "/home/punit/anaconda3/lib/python3.8/site-packages/seaborn/_decorators.py:36: FutureWarning: Pass the following variables as keyword args: x, y. From version 0.12, the only valid positional argument will be `data`, and passing other arguments without an explicit keyword will result in an error or misinterpretation.\n",
      "  warnings.warn(\n"
     ]
    },
    {
     "data": {
      "text/plain": [
       "<AxesSubplot:xlabel='price'>"
      ]
     },
     "execution_count": 150,
     "metadata": {},
     "output_type": "execute_result"
    },
    {
     "data": {
      "image/png": "[encoded data removed]",
      "text/plain": [
       "<Figure size 432x288 with 1 Axes>"
      ]
     },
     "metadata": {
      "needs_background": "light"
     },
     "output_type": "display_data"
    }
   ],
   "source": [
    "sns.regplot(y_test,price_pred)"
   ]
  },
  {
   "cell_type": "code",
   "execution_count": 151,
   "id": "9ed1caf0",
   "metadata": {},
   "outputs": [],
   "source": [
    "from sklearn import metrics"
   ]
  },
  {
   "cell_type": "code",
   "execution_count": 152,
   "id": "786e8ca1",
   "metadata": {},
   "outputs": [
    {
     "name": "stdout",
     "output_type": "stream",
     "text": [
      "MAE 717605.4932676195\n",
      "MSE 939375166376.0228\n",
      "RMSE 969213.6845794239\n"
     ]
    }
   ],
   "source": [
    "print('MAE',metrics.mean_absolute_error(y_test,price_pred))\n",
    "print('MSE',metrics.mean_squared_error(y_test,price_pred))\n",
    "print('RMSE',np.sqrt(metrics.mean_squared_error(y_test,price_pred)))"
   ]
  },
  {
   "cell_type": "code",
   "execution_count": 153,
   "id": "d6db4514",
   "metadata": {},
   "outputs": [],
   "source": [
    "num1,num2,num3,num4  = 10,20,30,40"
   ]
  },
  {
   "cell_type": "code",
   "execution_count": 154,
   "id": "2eea7a62",
   "metadata": {},
   "outputs": [
    {
     "data": {
      "text/plain": [
       "10"
      ]
     },
     "execution_count": 154,
     "metadata": {},
     "output_type": "execute_result"
    }
   ],
   "source": [
    "num1"
   ]
  },
  {
   "cell_type": "code",
   "execution_count": 155,
   "id": "d8c46d6b",
   "metadata": {},
   "outputs": [
    {
     "data": {
      "text/plain": [
       "20"
      ]
     },
     "execution_count": 155,
     "metadata": {},
     "output_type": "execute_result"
    }
   ],
   "source": [
    "num2"
   ]
  },
  {
   "cell_type": "code",
   "execution_count": 156,
   "id": "bfecd1a3",
   "metadata": {},
   "outputs": [
    {
     "data": {
      "text/plain": [
       "30"
      ]
     },
     "execution_count": 156,
     "metadata": {},
     "output_type": "execute_result"
    }
   ],
   "source": [
    "num3"
   ]
  },
  {
   "cell_type": "code",
   "execution_count": 157,
   "id": "96f6102f",
   "metadata": {},
   "outputs": [
    {
     "data": {
      "text/plain": [
       "40"
      ]
     },
     "execution_count": 157,
     "metadata": {},
     "output_type": "execute_result"
    }
   ],
   "source": [
    "num4"
   ]
  },
  {
   "cell_type": "code",
   "execution_count": null,
   "id": "c84b6bf1",
   "metadata": {},
   "outputs": [],
   "source": []
  }
 ],
 "metadata": {
  "kernelspec": {
   "display_name": "Python 3",
   "language": "python",
   "name": "python3"
  },
  "language_info": {
   "codemirror_mode": {
    "name": "ipython",
    "version": 3
   },
   "file_extension": ".py",
   "mimetype": "text/x-python",
   "name": "python",
   "nbconvert_exporter": "python",
   "pygments_lexer": "ipython3",
   "version": "3.8.8"
  }
 },
 "nbformat": 4,
 "nbformat_minor": 5
}
